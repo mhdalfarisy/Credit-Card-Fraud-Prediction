{
 "cells": [
  {
   "cell_type": "markdown",
   "metadata": {},
   "source": [
    "# **Methodology**"
   ]
  },
  {
   "cell_type": "markdown",
   "metadata": {},
   "source": [
    "## **1. Data Preparation**"
   ]
  },
  {
   "cell_type": "markdown",
   "metadata": {},
   "source": [
    "### **Problem Statement**"
   ]
  },
  {
   "cell_type": "markdown",
   "metadata": {},
   "source": [
    "Menurut beberapa sumber terkenal, diperkirakan 10.000 transaksi terjadi melalui kartu kredit setiap detik di seluruh dunia. Karena frekuensi transaksi yang begitu tinggi, kartu kredit menjadi sasaran utama penipuan.\n",
    "\n",
    "Setiap tahun, miliaran dolar hilang secara langsung karena penipuan kartu kredit. Kasus penipuan terjadi dalam kondisi yang berbeda, misalnya, transaksi di tempat penjualan (POS) atau transaksi yang dilakukan secara online atau melalui telepon, misalnya kasus kartu tidak ada (CNP) atau transaksi dengan kartu yang hilang dan dicuri. Dengan cara ini, penipuan kartu kredit pada tahun 2015 saja berjumlah 21,84 miliar dolar, dengan penerbit menanggung biaya 15,72 miliar dolar.\n",
    "\n",
    "Banyak survei menunjukkan bahwa peningkatan ketergantungan pada kartu kredit untuk melakukan transaksi keuangan disertai dengan peningkatan tingkat penipuan.\n",
    "\n",
    "Peningkatan penipuan kartu kredit baru-baru ini secara langsung memukul sektor keuangan dengan keras. Kerugian akibat penipuan kartu kredit terutama berdampak pada pedagang karena mereka menanggung semua biaya, termasuk biaya dari penerbit kartu mereka, biaya administrasi dan biaya lainnya. Semua kerugian ditanggung oleh pedagang, yang menyebabkan kenaikan harga barang dan penurunan diskon. Oleh karena itu, mengurangi kerugian ini sangat penting. Diperlukan sistem deteksi fraud yang efektif untuk meminimalisir jumlah kasus fraud."
   ]
  },
  {
   "cell_type": "markdown",
   "metadata": {},
   "source": [
    "### **Objectives**"
   ]
  },
  {
   "cell_type": "markdown",
   "metadata": {},
   "source": [
    "- Analisa ini akan berfokus mendeteksi hal apa yang paling berpengaruh dalam pencurian kartu kredit ini sehingga perusahaan jasa keuangan (Perbankan) dapat melakukan evaluasi terhadap tindak kriminal ini.\n"
   ]
  },
  {
   "cell_type": "markdown",
   "metadata": {},
   "source": [
    "## **Metrics**\n",
    "- 0 = Non-Fraud (Negative)\n",
    "- 1 = Fraud (Positive)\n",
    "\n",
    "- Error tipe 1: False Positive\n",
    "- False Positive akan memberikan prediksi jumlah tindakan kasus kriminal pencurian kartu kredit yang pada aktualnya tidak terjadi tindakan kriminal pencurian kartu kredit, dan hal ini memiliki pengaruh besar karena berdampak kepada citra perusahaan dan kerugian nasabah yang besar sehingga ini berdampak pada beban yang dikeluarkan perusahaan akan semakin besar.\n",
    "\n",
    "- Error Tipe 2: False Negative\n",
    "- False Negatif akan memberikan prediksi jumlah tindakan tidak kasus kriminal pencurian kartu kredit yang pada aktualnya terjadi pencurian kartu kredit, hal ini akan merugikan merugikan perusahaan dalam skala kecil jika dibiarkan."
   ]
  },
  {
   "cell_type": "markdown",
   "metadata": {},
   "source": [
    "### **Analytical Approach**"
   ]
  },
  {
   "cell_type": "markdown",
   "metadata": {},
   "source": [
    "- Dalam analisa ini akan dilakukan 3 tahapan :\n",
    "  - 1. Tahapan pertama akan melakukan Exploratory Data Analyst untuk mendapatkan insight secara deskriptive\n",
    "  - 2. Tahapan kedua akan melakukan visualisasi dari hasil data yang sudah di analisa\n",
    "  - 3. Tahapan ketiga akan melakukan modeling machine learning sehingga diperoleh faktor apa yang memiliki pengaruh penyebab terjadinya tindakan kriminal pencurian kartu kredit sehingga perusahaan dapat menargetkan berapa total nasabah yang akan dicegah dari tindakan kecurangan pencurian kartu kredit ini."
   ]
  },
  {
   "cell_type": "markdown",
   "metadata": {},
   "source": [
    "### **Definisi Kolom**"
   ]
  },
  {
   "cell_type": "markdown",
   "metadata": {},
   "source": [
    "| **Nama Kolom** | **Keterangan Kolom** |\n",
    "| --- | --- |\n",
    "|**Credit Card Fraud**||\n",
    "|Distance From Home| The distance from home where the transaction happened|\n",
    "|Distance From Last Transaction| The distance from last transaction happened|\n",
    "|Ratio To Median Purchase Price| Ratio of purchased price transaction to median purchase price|\n",
    "|Repeat Retailer|  Is the transaction happened from same retailer|\n",
    "|Used Chip |  Is the transaction through chip (credit card)|\n",
    "|Used Pin Number| Is the transaction happened by using PIN number|\n",
    "|Online Order | Is the transaction an online order|\n",
    "|Fraud | Is the transaction fraudulent|"
   ]
  },
  {
   "cell_type": "code",
   "execution_count": 1,
   "metadata": {},
   "outputs": [],
   "source": [
    "# Library\n",
    "import pandas as pd # Pandas Library \n",
    "import numpy as np # Numpy Library\n",
    "\n",
    "# Visualization\n",
    "import matplotlib.pyplot as plt # For Data Visualization\n",
    "import seaborn as sns # For Data Visualization\n",
    "\n",
    "# Feature Engineering\n",
    "from sklearn.pipeline import Pipeline # to Create a Pipeline for Feature Engineering\n",
    "from sklearn.impute import SimpleImputer # For Missing Value Handling\n",
    "from sklearn.preprocessing import OneHotEncoder, LabelEncoder, OrdinalEncoder # to Handle Catogorical Features\n",
    "from sklearn.compose import ColumnTransformer # to Transform Features\n",
    "import category_encoders as ce # to encode category features\n",
    "from sklearn.preprocessing import StandardScaler\n",
    "from sklearn.model_selection import train_test_split, StratifiedKFold, cross_val_score, KFold, RandomizedSearchCV\n",
    "\n",
    "# Model Selection\n",
    "from sklearn.linear_model import LogisticRegression # Base Model for Logistic Regression\n",
    "from sklearn.tree import DecisionTreeClassifier # Base Model for Decision Tree \n",
    "from sklearn.model_selection import StratifiedKFold,train_test_split, cross_val_score, RandomizedSearchCV , GridSearchCV# Finding Best Hyperparameter with GridsearchCV\n",
    "from sklearn.metrics import classification_report, confusion_matrix # to Display Classification Report and Confusion Matrix\n",
    "from sklearn.neighbors import KNeighborsClassifier # Base Model for KNN\n",
    "from sklearn.ensemble import RandomForestClassifier # Ensemble method using Random Forest\n",
    "from xgboost import XGBClassifier # Ensemble method using XGBoost\n",
    "from sklearn.metrics import f1_score, accuracy_score, recall_score, precision_score # Evaluation Metric\n",
    "\n",
    "# Imbalance Dataset\n",
    "from imblearn.pipeline import Pipeline # to Create Pipeline for Imbalance Handling\n",
    "from imblearn.over_sampling import RandomOverSampler, SMOTE # Random Over Sample as Imblance Handling method\n",
    "from sklearn.utils import resample\n",
    "from imblearn.over_sampling import SMOTE\n",
    "from imblearn.pipeline import Pipeline as imbpipeline\n",
    "from sklearn.preprocessing import StandardScaler,PolynomialFeatures, PowerTransformer, OneHotEncoder,MinMaxScaler\n",
    "\n",
    "# Ignore Warning\n",
    "import warnings \n",
    "warnings.simplefilter(\"ignore\")"
   ]
  },
  {
   "cell_type": "code",
   "execution_count": 2,
   "metadata": {},
   "outputs": [
    {
     "data": {
      "text/html": [
       "<div>\n",
       "<style scoped>\n",
       "    .dataframe tbody tr th:only-of-type {\n",
       "        vertical-align: middle;\n",
       "    }\n",
       "\n",
       "    .dataframe tbody tr th {\n",
       "        vertical-align: top;\n",
       "    }\n",
       "\n",
       "    .dataframe thead th {\n",
       "        text-align: right;\n",
       "    }\n",
       "</style>\n",
       "<table border=\"1\" class=\"dataframe\">\n",
       "  <thead>\n",
       "    <tr style=\"text-align: right;\">\n",
       "      <th></th>\n",
       "      <th>distance_from_home</th>\n",
       "      <th>distance_from_last_transaction</th>\n",
       "      <th>ratio_to_median_purchase_price</th>\n",
       "      <th>repeat_retailer</th>\n",
       "      <th>used_chip</th>\n",
       "      <th>used_pin_number</th>\n",
       "      <th>online_order</th>\n",
       "      <th>fraud</th>\n",
       "    </tr>\n",
       "  </thead>\n",
       "  <tbody>\n",
       "    <tr>\n",
       "      <th>0</th>\n",
       "      <td>57.877857</td>\n",
       "      <td>0.311140</td>\n",
       "      <td>1.945940</td>\n",
       "      <td>1.0</td>\n",
       "      <td>1.0</td>\n",
       "      <td>0.0</td>\n",
       "      <td>0.0</td>\n",
       "      <td>0.0</td>\n",
       "    </tr>\n",
       "    <tr>\n",
       "      <th>1</th>\n",
       "      <td>10.829943</td>\n",
       "      <td>0.175592</td>\n",
       "      <td>1.294219</td>\n",
       "      <td>1.0</td>\n",
       "      <td>0.0</td>\n",
       "      <td>0.0</td>\n",
       "      <td>0.0</td>\n",
       "      <td>0.0</td>\n",
       "    </tr>\n",
       "    <tr>\n",
       "      <th>2</th>\n",
       "      <td>5.091079</td>\n",
       "      <td>0.805153</td>\n",
       "      <td>0.427715</td>\n",
       "      <td>1.0</td>\n",
       "      <td>0.0</td>\n",
       "      <td>0.0</td>\n",
       "      <td>1.0</td>\n",
       "      <td>0.0</td>\n",
       "    </tr>\n",
       "    <tr>\n",
       "      <th>3</th>\n",
       "      <td>2.247564</td>\n",
       "      <td>5.600044</td>\n",
       "      <td>0.362663</td>\n",
       "      <td>1.0</td>\n",
       "      <td>1.0</td>\n",
       "      <td>0.0</td>\n",
       "      <td>1.0</td>\n",
       "      <td>0.0</td>\n",
       "    </tr>\n",
       "    <tr>\n",
       "      <th>4</th>\n",
       "      <td>44.190936</td>\n",
       "      <td>0.566486</td>\n",
       "      <td>2.222767</td>\n",
       "      <td>1.0</td>\n",
       "      <td>1.0</td>\n",
       "      <td>0.0</td>\n",
       "      <td>1.0</td>\n",
       "      <td>0.0</td>\n",
       "    </tr>\n",
       "  </tbody>\n",
       "</table>\n",
       "</div>"
      ],
      "text/plain": [
       "   distance_from_home  distance_from_last_transaction  \\\n",
       "0           57.877857                        0.311140   \n",
       "1           10.829943                        0.175592   \n",
       "2            5.091079                        0.805153   \n",
       "3            2.247564                        5.600044   \n",
       "4           44.190936                        0.566486   \n",
       "\n",
       "   ratio_to_median_purchase_price  repeat_retailer  used_chip  \\\n",
       "0                        1.945940              1.0        1.0   \n",
       "1                        1.294219              1.0        0.0   \n",
       "2                        0.427715              1.0        0.0   \n",
       "3                        0.362663              1.0        1.0   \n",
       "4                        2.222767              1.0        1.0   \n",
       "\n",
       "   used_pin_number  online_order  fraud  \n",
       "0              0.0           0.0    0.0  \n",
       "1              0.0           0.0    0.0  \n",
       "2              0.0           1.0    0.0  \n",
       "3              0.0           1.0    0.0  \n",
       "4              0.0           1.0    0.0  "
      ]
     },
     "execution_count": 2,
     "metadata": {},
     "output_type": "execute_result"
    }
   ],
   "source": [
    "df = pd.read_csv('card_transdata.csv')\n",
    "pd.options.display.max_columns=100\n",
    "pd.options.display.max_rows=1000000\n",
    "df.head()"
   ]
  },
  {
   "cell_type": "code",
   "execution_count": 3,
   "metadata": {},
   "outputs": [
    {
     "data": {
      "text/plain": [
       "(1000000, 8)"
      ]
     },
     "execution_count": 3,
     "metadata": {},
     "output_type": "execute_result"
    }
   ],
   "source": [
    "df.shape"
   ]
  },
  {
   "cell_type": "code",
   "execution_count": 4,
   "metadata": {},
   "outputs": [
    {
     "name": "stdout",
     "output_type": "stream",
     "text": [
      "<class 'pandas.core.frame.DataFrame'>\n",
      "RangeIndex: 1000000 entries, 0 to 999999\n",
      "Data columns (total 8 columns):\n",
      " #   Column                          Non-Null Count    Dtype  \n",
      "---  ------                          --------------    -----  \n",
      " 0   distance_from_home              1000000 non-null  float64\n",
      " 1   distance_from_last_transaction  1000000 non-null  float64\n",
      " 2   ratio_to_median_purchase_price  1000000 non-null  float64\n",
      " 3   repeat_retailer                 1000000 non-null  float64\n",
      " 4   used_chip                       1000000 non-null  float64\n",
      " 5   used_pin_number                 1000000 non-null  float64\n",
      " 6   online_order                    1000000 non-null  float64\n",
      " 7   fraud                           1000000 non-null  float64\n",
      "dtypes: float64(8)\n",
      "memory usage: 61.0 MB\n"
     ]
    }
   ],
   "source": [
    "df.info()"
   ]
  },
  {
   "cell_type": "code",
   "execution_count": 5,
   "metadata": {},
   "outputs": [],
   "source": [
    "total = float(len(df))"
   ]
  },
  {
   "cell_type": "markdown",
   "metadata": {},
   "source": [
    "### Data Imbalance"
   ]
  },
  {
   "cell_type": "code",
   "execution_count": 6,
   "metadata": {},
   "outputs": [
    {
     "data": {
      "text/html": [
       "<div>\n",
       "<style scoped>\n",
       "    .dataframe tbody tr th:only-of-type {\n",
       "        vertical-align: middle;\n",
       "    }\n",
       "\n",
       "    .dataframe tbody tr th {\n",
       "        vertical-align: top;\n",
       "    }\n",
       "\n",
       "    .dataframe thead th {\n",
       "        text-align: right;\n",
       "    }\n",
       "</style>\n",
       "<table border=\"1\" class=\"dataframe\">\n",
       "  <thead>\n",
       "    <tr style=\"text-align: right;\">\n",
       "      <th>fraud</th>\n",
       "      <th>0.0</th>\n",
       "      <th>1.0</th>\n",
       "    </tr>\n",
       "    <tr>\n",
       "      <th>fraud</th>\n",
       "      <th></th>\n",
       "      <th></th>\n",
       "    </tr>\n",
       "  </thead>\n",
       "  <tbody>\n",
       "    <tr>\n",
       "      <th>0.0</th>\n",
       "      <td>0.91</td>\n",
       "      <td>0.00</td>\n",
       "    </tr>\n",
       "    <tr>\n",
       "      <th>1.0</th>\n",
       "      <td>0.00</td>\n",
       "      <td>0.09</td>\n",
       "    </tr>\n",
       "  </tbody>\n",
       "</table>\n",
       "</div>"
      ],
      "text/plain": [
       "fraud   0.0   1.0\n",
       "fraud            \n",
       "0.0    0.91  0.00\n",
       "1.0    0.00  0.09"
      ]
     },
     "execution_count": 6,
     "metadata": {},
     "output_type": "execute_result"
    }
   ],
   "source": [
    "pd.crosstab(index=df['fraud'],columns=df['fraud'],normalize=True).round(2)"
   ]
  },
  {
   "cell_type": "code",
   "execution_count": 7,
   "metadata": {},
   "outputs": [
    {
     "data": {
      "image/png": "[encoded data removed]",
      "text/plain": [
       "<Figure size 720x576 with 1 Axes>"
      ]
     },
     "metadata": {
      "needs_background": "light"
     },
     "output_type": "display_data"
    },
    {
     "data": {
      "image/png": "[encoded data removed]",
      "text/plain": [
       "<Figure size 720x576 with 1 Axes>"
      ]
     },
     "metadata": {
      "needs_background": "light"
     },
     "output_type": "display_data"
    },
    {
     "data": {
      "image/png": "[encoded data removed]",
      "text/plain": [
       "<Figure size 720x576 with 1 Axes>"
      ]
     },
     "metadata": {
      "needs_background": "light"
     },
     "output_type": "display_data"
    },
    {
     "data": {
      "image/png": "[encoded data removed]",
      "text/plain": [
       "<Figure size 720x576 with 1 Axes>"
      ]
     },
     "metadata": {
      "needs_background": "light"
     },
     "output_type": "display_data"
    }
   ],
   "source": [
    "plt.figure(figsize=(10,8))\n",
    "ax = sns.countplot(x='fraud', data=df, palette = 'PuBuGn_r')\n",
    "plt.xticks(size=10,fontstyle='italic')\n",
    "plt.yticks(size=10,fontstyle='italic')\n",
    "plt.title('Total Fraud',fontstyle='italic',family='monospace', weight=900)\n",
    "plt.xlabel('Fraud', fontstyle='italic', size=10, family='monospace',weight=900)\n",
    "plt.ylabel('Total Fraud', size=10, fontstyle='italic',family='monospace', weight=900)\n",
    "for container in ax.containers:\n",
    "    ax.bar_label(container,size=10, horizontalalignment='left')\n",
    "plt.show()\n",
    "\n",
    "plt.figure(figsize=(10,8))\n",
    "ax = sns.countplot(x=\"fraud\",data=df,palette = 'PuBuGn_r')\n",
    "for p in ax.patches:\n",
    "    percentage = '{:.1f}%'.format(100 * p.get_height()/total)\n",
    "    x = p.get_x() + p.get_width()\n",
    "    y = p.get_height()\n",
    "    ax.annotate(percentage, (x, y),ha='right')\n",
    "    plt.xticks(size=15,fontstyle='italic')\n",
    "    plt.yticks(size=15,fontstyle='italic')\n",
    "    plt.title('Total Fraud (%)',fontstyle='italic',family='monospace', weight=900)\n",
    "    plt.xlabel('Online Fraud', fontstyle='italic', size=12, family='monospace',weight=900)\n",
    "    plt.ylabel('Total Fraud', size=10, fontstyle='italic',family='monospace', weight=900)\n",
    "plt.show()\n",
    "\n",
    "plt.figure(figsize=(10,8))\n",
    "ax = sns.countplot(x='fraud', data=df, hue=\"fraud\", palette = 'PuBuGn_r')\n",
    "plt.xticks(size=10,fontstyle='italic')\n",
    "plt.yticks(size=10,fontstyle='italic')\n",
    "plt.title('Total Fraud VS Total fraud',fontstyle='italic',family='monospace', weight=900)\n",
    "plt.xlabel('Online Fraud', fontstyle='italic', size=12, family='monospace',weight=900)\n",
    "plt.ylabel('Total Fraud', size=12, fontstyle='italic',family='monospace', weight=900)\n",
    "for container in ax.containers:\n",
    "    ax.bar_label(container,size=10, horizontalalignment='left')\n",
    "plt.show()\n",
    "\n",
    "plt.figure(figsize=(10,8))\n",
    "ax = sns.countplot(x=\"fraud\", hue=\"fraud\", data=df,palette = 'PuBuGn_r')\n",
    "for p in ax.patches:\n",
    "    percentage = '{:.1f}%'.format(100 * p.get_height()/total)\n",
    "    x = p.get_x() + p.get_width()\n",
    "    y = p.get_height()\n",
    "    ax.annotate(percentage, (x, y),ha='right')\n",
    "    plt.xticks(size=12,fontstyle='italic')\n",
    "    plt.yticks(size=12,fontstyle='italic')\n",
    "    plt.title('Total Fraud (%) VS Total fraud (%)',fontstyle='italic',family='monospace', weight=900)\n",
    "    plt.xlabel('Fraud', fontstyle='italic', size=12, family='monospace',weight=900)\n",
    "    plt.ylabel('Total Fraud', size=10, fontstyle='italic',family='monospace', weight=900)\n",
    "plt.show()"
   ]
  },
  {
   "cell_type": "markdown",
   "metadata": {},
   "source": [
    "- Insight :\n",
    "  - Total transaksi yang terjadi kecurangan di perusahaan sebanyak 8,7%, lebih rendah dari pada transaksi yang tidak terjadi kecurangan di perusahaan."
   ]
  },
  {
   "cell_type": "code",
   "execution_count": 8,
   "metadata": {},
   "outputs": [
    {
     "data": {
      "image/png": "[encoded data removed]",
      "text/plain": [
       "<Figure size 720x576 with 1 Axes>"
      ]
     },
     "metadata": {
      "needs_background": "light"
     },
     "output_type": "display_data"
    },
    {
     "data": {
      "image/png": "[encoded data removed]",
      "text/plain": [
       "<Figure size 720x576 with 1 Axes>"
      ]
     },
     "metadata": {
      "needs_background": "light"
     },
     "output_type": "display_data"
    },
    {
     "data": {
      "image/png": "[encoded data removed]",
      "text/plain": [
       "<Figure size 720x576 with 1 Axes>"
      ]
     },
     "metadata": {
      "needs_background": "light"
     },
     "output_type": "display_data"
    },
    {
     "data": {
      "image/png": "[encoded data removed]",
      "text/plain": [
       "<Figure size 720x576 with 1 Axes>"
      ]
     },
     "metadata": {
      "needs_background": "light"
     },
     "output_type": "display_data"
    }
   ],
   "source": [
    "plt.figure(figsize=(10,8))\n",
    "ax = sns.countplot(x='repeat_retailer', data=df, palette = 'PuBuGn_r')\n",
    "plt.xticks(size=10,fontstyle='italic')\n",
    "plt.yticks(size=10,fontstyle='italic')\n",
    "plt.title('Total Repeat Retailer',fontstyle='italic',family='monospace', weight=900)\n",
    "plt.xlabel('Repeat Retailer', fontstyle='italic', size=10, family='monospace',weight=900)\n",
    "plt.ylabel('Total Repeat Retailer', size=10, fontstyle='italic',family='monospace', weight=900)\n",
    "for container in ax.containers:\n",
    "    ax.bar_label(container,size=10, horizontalalignment='left')\n",
    "plt.show()\n",
    "\n",
    "plt.figure(figsize=(10,8))\n",
    "ax = sns.countplot(x=\"repeat_retailer\",data=df,palette = 'PuBuGn_r')\n",
    "for p in ax.patches:\n",
    "    percentage = '{:.1f}%'.format(100 * p.get_height()/total)\n",
    "    x = p.get_x() + p.get_width()\n",
    "    y = p.get_height()\n",
    "    ax.annotate(percentage, (x, y),ha='right')\n",
    "    plt.xticks(size=15,fontstyle='italic')\n",
    "    plt.yticks(size=15,fontstyle='italic')\n",
    "    plt.title('Total Repeat Retailer (%)',fontstyle='italic',family='monospace', weight=900)\n",
    "    plt.xlabel('Repeat Retailer', fontstyle='italic', size=12, family='monospace',weight=900)\n",
    "    plt.ylabel('Total Repeat Retailer', size=10, fontstyle='italic',family='monospace', weight=900)\n",
    "plt.show()\n",
    "\n",
    "plt.figure(figsize=(10,8))\n",
    "ax = sns.countplot(x='repeat_retailer', data=df, hue=\"fraud\", palette = 'PuBuGn_r')\n",
    "plt.xticks(size=10,fontstyle='italic')\n",
    "plt.yticks(size=10,fontstyle='italic')\n",
    "plt.title('Total Repeat Retailer VS Total fraud',fontstyle='italic',family='monospace', weight=900)\n",
    "plt.xlabel('Repeat Retailer', fontstyle='italic', size=12, family='monospace',weight=900)\n",
    "plt.ylabel('Total Repeat Retailer', size=12, fontstyle='italic',family='monospace', weight=900)\n",
    "for container in ax.containers:\n",
    "    ax.bar_label(container,size=10, horizontalalignment='left')\n",
    "plt.show()\n",
    "\n",
    "plt.figure(figsize=(10,8))\n",
    "ax = sns.countplot(x=\"repeat_retailer\", hue=\"fraud\", data=df,palette = 'PuBuGn_r')\n",
    "for p in ax.patches:\n",
    "    percentage = '{:.1f}%'.format(100 * p.get_height()/total)\n",
    "    x = p.get_x() + p.get_width()\n",
    "    y = p.get_height()\n",
    "    ax.annotate(percentage, (x, y),ha='right')\n",
    "    plt.xticks(size=12,fontstyle='italic')\n",
    "    plt.yticks(size=12,fontstyle='italic')\n",
    "    plt.title('Total Repeat Retailer (%) VS Total fraud (%)',fontstyle='italic',family='monospace', weight=900)\n",
    "    plt.xlabel('Repeat Retailer', fontstyle='italic', size=12, family='monospace',weight=900)\n",
    "    plt.ylabel('Total Repeat Retailer', size=10, fontstyle='italic',family='monospace', weight=900)\n",
    "plt.show()"
   ]
  },
  {
   "cell_type": "markdown",
   "metadata": {},
   "source": [
    "- Insight :\n",
    "  - Transaksi kecurangan paling banyak terjadi pada transaksi dari pembelian pada toko yang sama sebanyak 76.925 transaksi kecurangan dengan total persentase 7.7%"
   ]
  },
  {
   "cell_type": "code",
   "execution_count": 9,
   "metadata": {},
   "outputs": [
    {
     "data": {
      "text/html": [
       "<div>\n",
       "<style scoped>\n",
       "    .dataframe tbody tr th:only-of-type {\n",
       "        vertical-align: middle;\n",
       "    }\n",
       "\n",
       "    .dataframe tbody tr th {\n",
       "        vertical-align: top;\n",
       "    }\n",
       "\n",
       "    .dataframe thead th {\n",
       "        text-align: right;\n",
       "    }\n",
       "</style>\n",
       "<table border=\"1\" class=\"dataframe\">\n",
       "  <thead>\n",
       "    <tr style=\"text-align: right;\">\n",
       "      <th>fraud</th>\n",
       "      <th>0.0</th>\n",
       "      <th>1.0</th>\n",
       "    </tr>\n",
       "    <tr>\n",
       "      <th>used_chip</th>\n",
       "      <th></th>\n",
       "      <th></th>\n",
       "    </tr>\n",
       "  </thead>\n",
       "  <tbody>\n",
       "    <tr>\n",
       "      <th>0.0</th>\n",
       "      <td>0.58</td>\n",
       "      <td>0.06</td>\n",
       "    </tr>\n",
       "    <tr>\n",
       "      <th>1.0</th>\n",
       "      <td>0.33</td>\n",
       "      <td>0.02</td>\n",
       "    </tr>\n",
       "  </tbody>\n",
       "</table>\n",
       "</div>"
      ],
      "text/plain": [
       "fraud       0.0   1.0\n",
       "used_chip            \n",
       "0.0        0.58  0.06\n",
       "1.0        0.33  0.02"
      ]
     },
     "execution_count": 9,
     "metadata": {},
     "output_type": "execute_result"
    }
   ],
   "source": [
    "pd.crosstab(index=df['used_chip'],columns=df['fraud'],normalize=True).round(2)"
   ]
  },
  {
   "cell_type": "code",
   "execution_count": 10,
   "metadata": {},
   "outputs": [
    {
     "data": {
      "image/png": "[encoded data removed]",
      "text/plain": [
       "<Figure size 720x576 with 1 Axes>"
      ]
     },
     "metadata": {
      "needs_background": "light"
     },
     "output_type": "display_data"
    },
    {
     "data": {
      "image/png": "[encoded data removed]",
      "text/plain": [
       "<Figure size 720x576 with 1 Axes>"
      ]
     },
     "metadata": {
      "needs_background": "light"
     },
     "output_type": "display_data"
    },
    {
     "data": {
      "image/png": "[encoded data removed]",
      "text/plain": [
       "<Figure size 720x576 with 1 Axes>"
      ]
     },
     "metadata": {
      "needs_background": "light"
     },
     "output_type": "display_data"
    },
    {
     "data": {
      "image/png": "[encoded data removed]",
      "text/plain": [
       "<Figure size 720x576 with 1 Axes>"
      ]
     },
     "metadata": {
      "needs_background": "light"
     },
     "output_type": "display_data"
    }
   ],
   "source": [
    "plt.figure(figsize=(10,8))\n",
    "ax = sns.countplot(x='used_chip', data=df, palette = 'PuBuGn_r')\n",
    "plt.xticks(size=10,fontstyle='italic')\n",
    "plt.yticks(size=10,fontstyle='italic')\n",
    "plt.title('Total Used Chip',fontstyle='italic',family='monospace', weight=900)\n",
    "plt.xlabel('Used Chip', fontstyle='italic', size=10, family='monospace',weight=900)\n",
    "plt.ylabel('Total Used Chip', size=10, fontstyle='italic',family='monospace', weight=900)\n",
    "for container in ax.containers:\n",
    "    ax.bar_label(container,size=10, horizontalalignment='left')\n",
    "plt.show()\n",
    "\n",
    "plt.figure(figsize=(10,8))\n",
    "ax = sns.countplot(x=\"used_chip\",data=df,palette = 'PuBuGn_r')\n",
    "for p in ax.patches:\n",
    "    percentage = '{:.1f}%'.format(100 * p.get_height()/total)\n",
    "    x = p.get_x() + p.get_width()\n",
    "    y = p.get_height()\n",
    "    ax.annotate(percentage, (x, y),ha='right')\n",
    "    plt.xticks(size=15,fontstyle='italic')\n",
    "    plt.yticks(size=15,fontstyle='italic')\n",
    "    plt.title('Total Used Chip (%)',fontstyle='italic',family='monospace', weight=900)\n",
    "    plt.xlabel('Repeat Used Chip', fontstyle='italic', size=12, family='monospace',weight=900)\n",
    "    plt.ylabel('Total Used Chip', size=10, fontstyle='italic',family='monospace', weight=900)\n",
    "plt.show()\n",
    "\n",
    "plt.figure(figsize=(10,8))\n",
    "ax = sns.countplot(x='used_chip', data=df, hue=\"fraud\", palette = 'PuBuGn_r')\n",
    "plt.xticks(size=10,fontstyle='italic')\n",
    "plt.yticks(size=10,fontstyle='italic')\n",
    "plt.title('Total Used Chip VS Total fraud',fontstyle='italic',family='monospace', weight=900)\n",
    "plt.xlabel('Used Chip', fontstyle='italic', size=12, family='monospace',weight=900)\n",
    "plt.ylabel('Total Used Chip', size=12, fontstyle='italic',family='monospace', weight=900)\n",
    "for container in ax.containers:\n",
    "    ax.bar_label(container,size=10, horizontalalignment='left')\n",
    "plt.show()\n",
    "\n",
    "plt.figure(figsize=(10,8))\n",
    "ax = sns.countplot(x=\"used_chip\", hue=\"fraud\", data=df,palette = 'PuBuGn_r')\n",
    "for p in ax.patches:\n",
    "    percentage = '{:.1f}%'.format(100 * p.get_height()/total)\n",
    "    x = p.get_x() + p.get_width()\n",
    "    y = p.get_height()\n",
    "    ax.annotate(percentage, (x, y),ha='right')\n",
    "    plt.xticks(size=12,fontstyle='italic')\n",
    "    plt.yticks(size=12,fontstyle='italic')\n",
    "    plt.title('Total Used Chip (%) VS Total fraud (%)',fontstyle='italic',family='monospace', weight=900)\n",
    "    plt.xlabel('Used Chip', fontstyle='italic', size=12, family='monospace',weight=900)\n",
    "    plt.ylabel('Total Used Chip', size=10, fontstyle='italic',family='monospace', weight=900)\n",
    "plt.show()"
   ]
  },
  {
   "cell_type": "markdown",
   "metadata": {},
   "source": [
    "- Insight :\n",
    "  - Total kartu kredit yang menggunakan chip sebanyak 35% dan yang tidak menggunakan chip sebanyak 65%, namun kecurangan paling banyak terjadi dari kartu kredit yang tidak menggunakan chip sebanyak 6.5% dari total keseluruhan kartu kredit yang tidak menggunakan chip, angka ini lebih tinggi dari pada kartu kredit yang menggunakan chip."
   ]
  },
  {
   "cell_type": "code",
   "execution_count": 11,
   "metadata": {},
   "outputs": [
    {
     "data": {
      "text/html": [
       "<div>\n",
       "<style scoped>\n",
       "    .dataframe tbody tr th:only-of-type {\n",
       "        vertical-align: middle;\n",
       "    }\n",
       "\n",
       "    .dataframe tbody tr th {\n",
       "        vertical-align: top;\n",
       "    }\n",
       "\n",
       "    .dataframe thead th {\n",
       "        text-align: right;\n",
       "    }\n",
       "</style>\n",
       "<table border=\"1\" class=\"dataframe\">\n",
       "  <thead>\n",
       "    <tr style=\"text-align: right;\">\n",
       "      <th>fraud</th>\n",
       "      <th>0.0</th>\n",
       "      <th>1.0</th>\n",
       "    </tr>\n",
       "    <tr>\n",
       "      <th>used_pin_number</th>\n",
       "      <th></th>\n",
       "      <th></th>\n",
       "    </tr>\n",
       "  </thead>\n",
       "  <tbody>\n",
       "    <tr>\n",
       "      <th>0.0</th>\n",
       "      <td>0.81</td>\n",
       "      <td>0.09</td>\n",
       "    </tr>\n",
       "    <tr>\n",
       "      <th>1.0</th>\n",
       "      <td>0.10</td>\n",
       "      <td>0.00</td>\n",
       "    </tr>\n",
       "  </tbody>\n",
       "</table>\n",
       "</div>"
      ],
      "text/plain": [
       "fraud             0.0   1.0\n",
       "used_pin_number            \n",
       "0.0              0.81  0.09\n",
       "1.0              0.10  0.00"
      ]
     },
     "execution_count": 11,
     "metadata": {},
     "output_type": "execute_result"
    }
   ],
   "source": [
    "pd.crosstab(index=df['used_pin_number'],columns=df['fraud'],normalize=True).round(2)"
   ]
  },
  {
   "cell_type": "code",
   "execution_count": 12,
   "metadata": {},
   "outputs": [
    {
     "data": {
      "image/png": "[encoded data removed]",
      "text/plain": [
       "<Figure size 720x576 with 1 Axes>"
      ]
     },
     "metadata": {
      "needs_background": "light"
     },
     "output_type": "display_data"
    },
    {
     "data": {
      "image/png": "[encoded data removed]",
      "text/plain": [
       "<Figure size 720x576 with 1 Axes>"
      ]
     },
     "metadata": {
      "needs_background": "light"
     },
     "output_type": "display_data"
    },
    {
     "data": {
      "image/png": "[encoded data removed]",
      "text/plain": [
       "<Figure size 720x576 with 1 Axes>"
      ]
     },
     "metadata": {
      "needs_background": "light"
     },
     "output_type": "display_data"
    },
    {
     "data": {
      "image/png": "[encoded data removed]",
      "text/plain": [
       "<Figure size 720x576 with 1 Axes>"
      ]
     },
     "metadata": {
      "needs_background": "light"
     },
     "output_type": "display_data"
    }
   ],
   "source": [
    "plt.figure(figsize=(10,8))\n",
    "ax = sns.countplot(x='used_pin_number', data=df, palette = 'PuBuGn_r')\n",
    "plt.xticks(size=10,fontstyle='italic')\n",
    "plt.yticks(size=10,fontstyle='italic')\n",
    "plt.title('Total Used Chip Number',fontstyle='italic',family='monospace', weight=900)\n",
    "plt.xlabel('Used Chip Number', fontstyle='italic', size=10, family='monospace',weight=900)\n",
    "plt.ylabel('Total Used Chip Number', size=10, fontstyle='italic',family='monospace', weight=900)\n",
    "for container in ax.containers:\n",
    "    ax.bar_label(container,size=10, horizontalalignment='left')\n",
    "plt.show()\n",
    "\n",
    "plt.figure(figsize=(10,8))\n",
    "ax = sns.countplot(x=\"used_pin_number\",data=df,palette = 'PuBuGn_r')\n",
    "for p in ax.patches:\n",
    "    percentage = '{:.1f}%'.format(100 * p.get_height()/total)\n",
    "    x = p.get_x() + p.get_width()\n",
    "    y = p.get_height()\n",
    "    ax.annotate(percentage, (x, y),ha='right')\n",
    "    plt.xticks(size=15,fontstyle='italic')\n",
    "    plt.yticks(size=15,fontstyle='italic')\n",
    "    plt.title('Total Used Chip Number(%)',fontstyle='italic',family='monospace', weight=900)\n",
    "    plt.xlabel('Repeat Used Chip Number', fontstyle='italic', size=12, family='monospace',weight=900)\n",
    "    plt.ylabel('Total Used Chip Number', size=10, fontstyle='italic',family='monospace', weight=900)\n",
    "plt.show()\n",
    "\n",
    "plt.figure(figsize=(10,8))\n",
    "ax = sns.countplot(x='used_pin_number', data=df, hue=\"fraud\", palette = 'PuBuGn_r')\n",
    "plt.xticks(size=10,fontstyle='italic')\n",
    "plt.yticks(size=10,fontstyle='italic')\n",
    "plt.title('Total Used Chip Number VS Total fraud',fontstyle='italic',family='monospace', weight=900)\n",
    "plt.xlabel('Used Chip Number', fontstyle='italic', size=12, family='monospace',weight=900)\n",
    "plt.ylabel('Total Used Chip Number', size=12, fontstyle='italic',family='monospace', weight=900)\n",
    "for container in ax.containers:\n",
    "    ax.bar_label(container,size=10, horizontalalignment='left')\n",
    "plt.show()\n",
    "\n",
    "plt.figure(figsize=(10,8))\n",
    "ax = sns.countplot(x=\"used_pin_number\", hue=\"fraud\", data=df,palette = 'PuBuGn_r')\n",
    "for p in ax.patches:\n",
    "    percentage = '{:.1f}%'.format(100 * p.get_height()/total)\n",
    "    x = p.get_x() + p.get_width()\n",
    "    y = p.get_height()\n",
    "    ax.annotate(percentage, (x, y),ha='right')\n",
    "    plt.xticks(size=12,fontstyle='italic')\n",
    "    plt.yticks(size=12,fontstyle='italic')\n",
    "    plt.title('Total Used Chip Number (%) VS Total fraud (%)',fontstyle='italic',family='monospace', weight=900)\n",
    "    plt.xlabel('Used Chip Number', fontstyle='italic', size=12, family='monospace',weight=900)\n",
    "    plt.ylabel('Total Used Chip Number', size=10, fontstyle='italic',family='monospace', weight=900)\n",
    "plt.show()"
   ]
  },
  {
   "cell_type": "markdown",
   "metadata": {},
   "source": [
    "- Insight :\n",
    "  - Kartu kredit yang menggunakan nomor pada chip sebanyak 10.1%, lebih rendah dari pada kartu kredit yang tidak menggunakan nomor pada chip sebanyak 89%, namun kecurangan pada kartu kredit paling banyak terjadi pada kartu kredit yang tidak memiliki nomor pada chip yaitu sebanyak 8.7% dan hal ini lebih tinggi dari pada kartu kredit yang menggunakan chip yaitu 0.0%"
   ]
  },
  {
   "cell_type": "code",
   "execution_count": 13,
   "metadata": {},
   "outputs": [
    {
     "data": {
      "text/html": [
       "<div>\n",
       "<style scoped>\n",
       "    .dataframe tbody tr th:only-of-type {\n",
       "        vertical-align: middle;\n",
       "    }\n",
       "\n",
       "    .dataframe tbody tr th {\n",
       "        vertical-align: top;\n",
       "    }\n",
       "\n",
       "    .dataframe thead th {\n",
       "        text-align: right;\n",
       "    }\n",
       "</style>\n",
       "<table border=\"1\" class=\"dataframe\">\n",
       "  <thead>\n",
       "    <tr style=\"text-align: right;\">\n",
       "      <th>fraud</th>\n",
       "      <th>0.0</th>\n",
       "      <th>1.0</th>\n",
       "    </tr>\n",
       "    <tr>\n",
       "      <th>online_order</th>\n",
       "      <th></th>\n",
       "      <th></th>\n",
       "    </tr>\n",
       "  </thead>\n",
       "  <tbody>\n",
       "    <tr>\n",
       "      <th>0.0</th>\n",
       "      <td>0.34</td>\n",
       "      <td>0.00</td>\n",
       "    </tr>\n",
       "    <tr>\n",
       "      <th>1.0</th>\n",
       "      <td>0.57</td>\n",
       "      <td>0.08</td>\n",
       "    </tr>\n",
       "  </tbody>\n",
       "</table>\n",
       "</div>"
      ],
      "text/plain": [
       "fraud          0.0   1.0\n",
       "online_order            \n",
       "0.0           0.34  0.00\n",
       "1.0           0.57  0.08"
      ]
     },
     "execution_count": 13,
     "metadata": {},
     "output_type": "execute_result"
    }
   ],
   "source": [
    "pd.crosstab(index=df['online_order'],columns=df['fraud'],normalize=True).round(2)"
   ]
  },
  {
   "cell_type": "code",
   "execution_count": 14,
   "metadata": {},
   "outputs": [
    {
     "data": {
      "image/png": "[encoded data removed]",
      "text/plain": [
       "<Figure size 720x576 with 1 Axes>"
      ]
     },
     "metadata": {
      "needs_background": "light"
     },
     "output_type": "display_data"
    },
    {
     "data": {
      "image/png": "[encoded data removed]",
      "text/plain": [
       "<Figure size 720x576 with 1 Axes>"
      ]
     },
     "metadata": {
      "needs_background": "light"
     },
     "output_type": "display_data"
    },
    {
     "data": {
      "image/png": "[encoded data removed]",
      "text/plain": [
       "<Figure size 720x576 with 1 Axes>"
      ]
     },
     "metadata": {
      "needs_background": "light"
     },
     "output_type": "display_data"
    },
    {
     "data": {
      "image/png": "[encoded data removed]",
      "text/plain": [
       "<Figure size 720x576 with 1 Axes>"
      ]
     },
     "metadata": {
      "needs_background": "light"
     },
     "output_type": "display_data"
    }
   ],
   "source": [
    "plt.figure(figsize=(10,8))\n",
    "ax = sns.countplot(x='online_order', data=df, palette = 'PuBuGn_r')\n",
    "plt.xticks(size=10,fontstyle='italic')\n",
    "plt.yticks(size=10,fontstyle='italic')\n",
    "plt.title('Total Online Order',fontstyle='italic',family='monospace', weight=900)\n",
    "plt.xlabel('Online Order', fontstyle='italic', size=10, family='monospace',weight=900)\n",
    "plt.ylabel('Total Online Order', size=10, fontstyle='italic',family='monospace', weight=900)\n",
    "for container in ax.containers:\n",
    "    ax.bar_label(container,size=10, horizontalalignment='left')\n",
    "plt.show()\n",
    "\n",
    "plt.figure(figsize=(10,8))\n",
    "ax = sns.countplot(x=\"online_order\",data=df,palette = 'PuBuGn_r')\n",
    "for p in ax.patches:\n",
    "    percentage = '{:.1f}%'.format(100 * p.get_height()/total)\n",
    "    x = p.get_x() + p.get_width()\n",
    "    y = p.get_height()\n",
    "    ax.annotate(percentage, (x, y),ha='right')\n",
    "    plt.xticks(size=15,fontstyle='italic')\n",
    "    plt.yticks(size=15,fontstyle='italic')\n",
    "    plt.title('Total Online Order (%)',fontstyle='italic',family='monospace', weight=900)\n",
    "    plt.xlabel('Online Order', fontstyle='italic', size=12, family='monospace',weight=900)\n",
    "    plt.ylabel('Total Online Order', size=10, fontstyle='italic',family='monospace', weight=900)\n",
    "plt.show()\n",
    "\n",
    "plt.figure(figsize=(10,8))\n",
    "ax = sns.countplot(x='online_order', data=df, hue=\"fraud\", palette = 'PuBuGn_r')\n",
    "plt.xticks(size=10,fontstyle='italic')\n",
    "plt.yticks(size=10,fontstyle='italic')\n",
    "plt.title('Total Online Order VS Total fraud',fontstyle='italic',family='monospace', weight=900)\n",
    "plt.xlabel('Online Order', fontstyle='italic', size=12, family='monospace',weight=900)\n",
    "plt.ylabel('Total Online Order', size=12, fontstyle='italic',family='monospace', weight=900)\n",
    "for container in ax.containers:\n",
    "    ax.bar_label(container,size=10, horizontalalignment='left')\n",
    "plt.show()\n",
    "\n",
    "plt.figure(figsize=(10,8))\n",
    "ax = sns.countplot(x=\"online_order\", hue=\"fraud\", data=df,palette = 'PuBuGn_r')\n",
    "for p in ax.patches:\n",
    "    percentage = '{:.1f}%'.format(100 * p.get_height()/total)\n",
    "    x = p.get_x() + p.get_width()\n",
    "    y = p.get_height()\n",
    "    ax.annotate(percentage, (x, y),ha='right')\n",
    "    plt.xticks(size=12,fontstyle='italic')\n",
    "    plt.yticks(size=12,fontstyle='italic')\n",
    "    plt.title('Total Online Order (%) VS Total fraud (%)',fontstyle='italic',family='monospace', weight=900)\n",
    "    plt.xlabel('Online Order', fontstyle='italic', size=12, family='monospace',weight=900)\n",
    "    plt.ylabel('Total Online Order', size=10, fontstyle='italic',family='monospace', weight=900)\n",
    "plt.show()"
   ]
  },
  {
   "cell_type": "markdown",
   "metadata": {},
   "source": [
    "- Insight :\n",
    "  - Pembelian secara online menggunakan kartu kredit lebih banyak 65% dari pada pembelian tidak online sebanyak 35%, namun kasus kecurangan kartu kredit paling banyak terjadi dari pembelian secara online yaitu 8.3%, pembelian secara online dengan kartu kredit memiliki proporsi lebih tinggi dari pada pembelian menggunakan kartu kredit untuk pembelian offline."
   ]
  },
  {
   "cell_type": "code",
   "execution_count": 15,
   "metadata": {},
   "outputs": [
    {
     "data": {
      "text/html": [
       "<div>\n",
       "<style scoped>\n",
       "    .dataframe tbody tr th:only-of-type {\n",
       "        vertical-align: middle;\n",
       "    }\n",
       "\n",
       "    .dataframe tbody tr th {\n",
       "        vertical-align: top;\n",
       "    }\n",
       "\n",
       "    .dataframe thead th {\n",
       "        text-align: right;\n",
       "    }\n",
       "</style>\n",
       "<table border=\"1\" class=\"dataframe\">\n",
       "  <thead>\n",
       "    <tr style=\"text-align: right;\">\n",
       "      <th></th>\n",
       "      <th>distance_from_home</th>\n",
       "      <th>distance_from_last_transaction</th>\n",
       "      <th>ratio_to_median_purchase_price</th>\n",
       "      <th>repeat_retailer</th>\n",
       "      <th>used_chip</th>\n",
       "      <th>used_pin_number</th>\n",
       "      <th>online_order</th>\n",
       "      <th>fraud</th>\n",
       "    </tr>\n",
       "  </thead>\n",
       "  <tbody>\n",
       "    <tr>\n",
       "      <th>0</th>\n",
       "      <td>57.877857</td>\n",
       "      <td>0.311140</td>\n",
       "      <td>1.945940</td>\n",
       "      <td>1.0</td>\n",
       "      <td>1.0</td>\n",
       "      <td>0.0</td>\n",
       "      <td>0.0</td>\n",
       "      <td>0.0</td>\n",
       "    </tr>\n",
       "    <tr>\n",
       "      <th>1</th>\n",
       "      <td>10.829943</td>\n",
       "      <td>0.175592</td>\n",
       "      <td>1.294219</td>\n",
       "      <td>1.0</td>\n",
       "      <td>0.0</td>\n",
       "      <td>0.0</td>\n",
       "      <td>0.0</td>\n",
       "      <td>0.0</td>\n",
       "    </tr>\n",
       "  </tbody>\n",
       "</table>\n",
       "</div>"
      ],
      "text/plain": [
       "   distance_from_home  distance_from_last_transaction  \\\n",
       "0           57.877857                        0.311140   \n",
       "1           10.829943                        0.175592   \n",
       "\n",
       "   ratio_to_median_purchase_price  repeat_retailer  used_chip  \\\n",
       "0                        1.945940              1.0        1.0   \n",
       "1                        1.294219              1.0        0.0   \n",
       "\n",
       "   used_pin_number  online_order  fraud  \n",
       "0              0.0           0.0    0.0  \n",
       "1              0.0           0.0    0.0  "
      ]
     },
     "execution_count": 15,
     "metadata": {},
     "output_type": "execute_result"
    }
   ],
   "source": [
    "df.head(2)"
   ]
  },
  {
   "cell_type": "code",
   "execution_count": 16,
   "metadata": {},
   "outputs": [
    {
     "data": {
      "image/png": "[encoded data removed]",
      "text/plain": [
       "<Figure size 1440x504 with 1 Axes>"
      ]
     },
     "metadata": {
      "needs_background": "light"
     },
     "output_type": "display_data"
    }
   ],
   "source": [
    "plt.figure(figsize=(20,7))\n",
    "df_yes=df[df[ 'fraud']==1]['ratio_to_median_purchase_price'] \n",
    "df_no=df[df[ 'fraud']==0]['ratio_to_median_purchase_price'] \n",
    "sns.kdeplot(df_yes, label = 'Kasus Fraud', shade = True, color = 'r',fill=True)\n",
    "sns.kdeplot(df_no, label = 'Kasus Fraud', shade = True, color = 'b', fill=True)\n",
    "plt.legend()\n",
    "plt.xticks(size=10,fontstyle='italic')\n",
    "plt.yticks(size=10,fontstyle='italic')\n",
    "plt.title('Ratio To Median Purchase Price (%) VS Fraud (%)',fontstyle='italic',family='monospace', weight=900)\n",
    "plt.xlabel('Ratio To Median Purchase Price', fontstyle='italic', size=10, family='monospace',weight=900)\n",
    "plt.ylabel('Density Ratio To Median Purchase Price', size=10, fontstyle='italic',family='monospace', weight=900)\n",
    "plt.show()"
   ]
  },
  {
   "cell_type": "markdown",
   "metadata": {},
   "source": [
    "- Insight :\n",
    "  - Kasus kecurangan paling banyak terjadi dari pembelian yang kurang dari 20 USD , sedangkan pembelian diatas 20 USD cenderung menurun kasus kecurangan dengan kartu kredit."
   ]
  },
  {
   "cell_type": "code",
   "execution_count": 17,
   "metadata": {},
   "outputs": [
    {
     "data": {
      "image/png": "[encoded data removed]",
      "text/plain": [
       "<Figure size 576x504 with 1 Axes>"
      ]
     },
     "metadata": {
      "needs_background": "light"
     },
     "output_type": "display_data"
    }
   ],
   "source": [
    "plt.figure(figsize=(8, 7))\n",
    "sns.heatmap(df.corr('spearman'), cmap='viridis', cbar=False, annot=True)\n",
    "plt.show()"
   ]
  },
  {
   "cell_type": "markdown",
   "metadata": {},
   "source": [
    "### **MACHINE LEARNING WITH**"
   ]
  },
  {
   "cell_type": "markdown",
   "metadata": {},
   "source": [
    "#### **MACHINE LEARNING WITH OUTLIER**"
   ]
  },
  {
   "cell_type": "markdown",
   "metadata": {},
   "source": [
    "##### **FEATURE ENGINEERING**"
   ]
  },
  {
   "cell_type": "code",
   "execution_count": 18,
   "metadata": {},
   "outputs": [],
   "source": [
    "X = df.drop('fraud',axis=1)\n",
    "y = df['fraud']"
   ]
  },
  {
   "cell_type": "code",
   "execution_count": 19,
   "metadata": {},
   "outputs": [],
   "source": [
    "X_train,X_test,y_train,y_test=train_test_split(X,y,stratify=y,test_size=0.2,random_state=42)"
   ]
  },
  {
   "cell_type": "markdown",
   "metadata": {},
   "source": [
    "- Penggunaan Feature Engineering untuk kolom `distance from home` **,** `distance from last transaction` **,** ` retio to median purchase price`, dalam feature engineering ini menggunakan scaling untuk mengecilkan angka standar deviasi agar tidak menyebabkan bias terlalu besar saat di machine learning."
   ]
  },
  {
   "cell_type": "code",
   "execution_count": 20,
   "metadata": {},
   "outputs": [],
   "source": [
    "num_columns = ['distance_from_home','distance_from_last_transaction','ratio_to_median_purchase_price']\n",
    "\n",
    "num_pipeline = Pipeline([\n",
    "    ('stdscler',StandardScaler())\n",
    "])\n",
    "\n",
    "preprocessor = ColumnTransformer([\n",
    "    ('numeric', num_pipeline, num_columns)\n",
    "])"
   ]
  },
  {
   "cell_type": "markdown",
   "metadata": {},
   "source": [
    "#### **MODELING MACHINE LEARNING**"
   ]
  },
  {
   "cell_type": "markdown",
   "metadata": {},
   "source": [
    "##### **BASE MODEL MACHINE LEARNING**"
   ]
  },
  {
   "cell_type": "code",
   "execution_count": 21,
   "metadata": {},
   "outputs": [],
   "source": [
    "model_knn=KNeighborsClassifier()\n",
    "model_dt=DecisionTreeClassifier()\n",
    "model_rf=RandomForestClassifier()\n",
    "model_xgb=XGBClassifier()"
   ]
  },
  {
   "cell_type": "code",
   "execution_count": 23,
   "metadata": {},
   "outputs": [
    {
     "name": "stdout",
     "output_type": "stream",
     "text": [
      "[0.9297625 0.9305925] KNeighborsClassifier()\n",
      "[0.59474004 0.60046338] KNeighborsClassifier()\n",
      "[0.61642974 0.6152856 ] KNeighborsClassifier()\n",
      "[0.60539068 0.60778414] KNeighborsClassifier()\n",
      "[0.926465 0.926825] DecisionTreeClassifier()\n",
      "[0.57953316 0.58036278] DecisionTreeClassifier()\n",
      "[0.58153371 0.57961729] DecisionTreeClassifier()\n",
      "[0.58090246 0.58063315] DecisionTreeClassifier()\n",
      "[0.9332775 0.9330575] RandomForestClassifier()\n",
      "[0.61195936 0.61274185] RandomForestClassifier()\n",
      "[0.64200109 0.63442121] RandomForestClassifier()\n",
      "[0.62641825 0.62535938] RandomForestClassifier()\n",
      "[0.9387825 0.9386   ] XGBClassifier(base_score=None, booster=None, callbacks=None,\n",
      "              colsample_bylevel=None, colsample_bynode=None,\n",
      "              colsample_bytree=None, early_stopping_rounds=None,\n",
      "              enable_categorical=False, eval_metric=None, gamma=None,\n",
      "              gpu_id=None, grow_policy=None, importance_type=None,\n",
      "              interaction_constraints=None, learning_rate=None, max_bin=None,\n",
      "              max_cat_to_onehot=None, max_delta_step=None, max_depth=None,\n",
      "              max_leaves=None, min_child_weight=None, missing=nan,\n",
      "              monotone_constraints=None, n_estimators=100, n_jobs=None,\n",
      "              num_parallel_tree=None, predictor=None, random_state=None,\n",
      "              reg_alpha=None, reg_lambda=None, ...)\n",
      "[0.62646093 0.62763529] XGBClassifier(base_score=None, booster=None, callbacks=None,\n",
      "              colsample_bylevel=None, colsample_bynode=None,\n",
      "              colsample_bytree=None, early_stopping_rounds=None,\n",
      "              enable_categorical=False, eval_metric=None, gamma=None,\n",
      "              gpu_id=None, grow_policy=None, importance_type=None,\n",
      "              interaction_constraints=None, learning_rate=None, max_bin=None,\n",
      "              max_cat_to_onehot=None, max_delta_step=None, max_depth=None,\n",
      "              max_leaves=None, min_child_weight=None, missing=nan,\n",
      "              monotone_constraints=None, n_estimators=100, n_jobs=None,\n",
      "              num_parallel_tree=None, predictor=None, random_state=None,\n",
      "              reg_alpha=None, reg_lambda=None, ...)\n",
      "[0.74205543 0.73147221] XGBClassifier(base_score=None, booster=None, callbacks=None,\n",
      "              colsample_bylevel=None, colsample_bynode=None,\n",
      "              colsample_bytree=None, early_stopping_rounds=None,\n",
      "              enable_categorical=False, eval_metric=None, gamma=None,\n",
      "              gpu_id=None, grow_policy=None, importance_type=None,\n",
      "              interaction_constraints=None, learning_rate=None, max_bin=None,\n",
      "              max_cat_to_onehot=None, max_delta_step=None, max_depth=None,\n",
      "              max_leaves=None, min_child_weight=None, missing=nan,\n",
      "              monotone_constraints=None, n_estimators=100, n_jobs=None,\n",
      "              num_parallel_tree=None, predictor=None, random_state=None,\n",
      "              reg_alpha=None, reg_lambda=None, ...)\n",
      "[0.67937622 0.67558714] XGBClassifier(base_score=None, booster=None, callbacks=None,\n",
      "              colsample_bylevel=None, colsample_bynode=None,\n",
      "              colsample_bytree=None, early_stopping_rounds=None,\n",
      "              enable_categorical=False, eval_metric=None, gamma=None,\n",
      "              gpu_id=None, grow_policy=None, importance_type=None,\n",
      "              interaction_constraints=None, learning_rate=None, max_bin=None,\n",
      "              max_cat_to_onehot=None, max_delta_step=None, max_depth=None,\n",
      "              max_leaves=None, min_child_weight=None, missing=nan,\n",
      "              monotone_constraints=None, n_estimators=100, n_jobs=None,\n",
      "              num_parallel_tree=None, predictor=None, random_state=None,\n",
      "              reg_alpha=None, reg_lambda=None, ...)\n"
     ]
    }
   ],
   "source": [
    "model_machine_learning = [model_knn,model_dt, model_rf, model_xgb]\n",
    "\n",
    "score_accuracy_mean_ml_train = []\n",
    "score_recall_mean_ml_train = []\n",
    "score_precision_mean_ml_train = []\n",
    "score_f1_mean_ml_train = []\n",
    "\n",
    "for i in model_machine_learning:\n",
    "    croval_classification = StratifiedKFold(n_splits=2)\n",
    "    estimator = Pipeline([\n",
    "        ('Processor',preprocessor),\n",
    "        ('Model_Machine_Learning',i)])\n",
    "    \n",
    "    model_crossval_acc_train = cross_val_score(estimator,X_train,y_train,cv=croval_classification,scoring='accuracy')\n",
    "    model_crossval_recall_train = cross_val_score(estimator,X_train,y_train,cv=croval_classification,scoring='recall')\n",
    "    model_crossval_precision_train = cross_val_score(estimator,X_train,y_train,cv=croval_classification,scoring='precision')\n",
    "    model_crossval_f1_train =  cross_val_score(estimator,X_train,y_train,cv=croval_classification,scoring='f1')\n",
    "    \n",
    "    score_accuracy_mean_ml_train.append(model_crossval_acc_train.mean())\n",
    "    score_recall_mean_ml_train.append(model_crossval_recall_train.mean())\n",
    "    score_precision_mean_ml_train.append(model_crossval_precision_train.mean())\n",
    "    score_f1_mean_ml_train.append(model_crossval_f1_train.mean())\n",
    "    \n",
    "    print(model_crossval_acc_train, i)\n",
    "    print(model_crossval_precision_train, i)\n",
    "    print(model_crossval_recall_train, i)\n",
    "    print(model_crossval_f1_train, i)"
   ]
  },
  {
   "cell_type": "code",
   "execution_count": 24,
   "metadata": {},
   "outputs": [
    {
     "name": "stdout",
     "output_type": "stream",
     "text": [
      "Score Training :\n"
     ]
    },
    {
     "data": {
      "text/html": [
       "<div>\n",
       "<style scoped>\n",
       "    .dataframe tbody tr th:only-of-type {\n",
       "        vertical-align: middle;\n",
       "    }\n",
       "\n",
       "    .dataframe tbody tr th {\n",
       "        vertical-align: top;\n",
       "    }\n",
       "\n",
       "    .dataframe thead th {\n",
       "        text-align: right;\n",
       "    }\n",
       "</style>\n",
       "<table border=\"1\" class=\"dataframe\">\n",
       "  <thead>\n",
       "    <tr style=\"text-align: right;\">\n",
       "      <th></th>\n",
       "      <th>Model</th>\n",
       "      <th>Score Accuracy</th>\n",
       "      <th>Score Precision</th>\n",
       "      <th>Score Recall</th>\n",
       "      <th>Score F1</th>\n",
       "    </tr>\n",
       "  </thead>\n",
       "  <tbody>\n",
       "    <tr>\n",
       "      <th>0</th>\n",
       "      <td>Training Model KNN Regressor</td>\n",
       "      <td>0.930178</td>\n",
       "      <td>0.615858</td>\n",
       "      <td>0.597602</td>\n",
       "      <td>0.606587</td>\n",
       "    </tr>\n",
       "    <tr>\n",
       "      <th>1</th>\n",
       "      <td>Training Model DecisionTree Regressor</td>\n",
       "      <td>0.926645</td>\n",
       "      <td>0.580575</td>\n",
       "      <td>0.579948</td>\n",
       "      <td>0.580768</td>\n",
       "    </tr>\n",
       "    <tr>\n",
       "      <th>2</th>\n",
       "      <td>Training Model RandomForest Regressor</td>\n",
       "      <td>0.933167</td>\n",
       "      <td>0.638211</td>\n",
       "      <td>0.612351</td>\n",
       "      <td>0.625889</td>\n",
       "    </tr>\n",
       "    <tr>\n",
       "      <th>3</th>\n",
       "      <td>Training Model XGBoost Regressor</td>\n",
       "      <td>0.938691</td>\n",
       "      <td>0.736764</td>\n",
       "      <td>0.627048</td>\n",
       "      <td>0.677482</td>\n",
       "    </tr>\n",
       "  </tbody>\n",
       "</table>\n",
       "</div>"
      ],
      "text/plain": [
       "                                   Model  Score Accuracy  Score Precision  \\\n",
       "0           Training Model KNN Regressor        0.930178         0.615858   \n",
       "1  Training Model DecisionTree Regressor        0.926645         0.580575   \n",
       "2  Training Model RandomForest Regressor        0.933167         0.638211   \n",
       "3       Training Model XGBoost Regressor        0.938691         0.736764   \n",
       "\n",
       "   Score Recall  Score F1  \n",
       "0      0.597602  0.606587  \n",
       "1      0.579948  0.580768  \n",
       "2      0.612351  0.625889  \n",
       "3      0.627048  0.677482  "
      ]
     },
     "execution_count": 24,
     "metadata": {},
     "output_type": "execute_result"
    }
   ],
   "source": [
    "score_training = pd.DataFrame({ 'Model': ['Training Model KNN Regressor', 'Training Model DecisionTree Regressor', 'Training Model RandomForest Regressor', 'Training Model XGBoost Regressor'],\n",
    "    'Score Accuracy': score_accuracy_mean_ml_train,\n",
    "    'Score Precision': score_recall_mean_ml_train,\n",
    "    'Score Recall': score_precision_mean_ml_train,\n",
    "    'Score F1': score_f1_mean_ml_train })\n",
    "print('Score Training :')\n",
    "score_training"
   ]
  },
  {
   "cell_type": "code",
   "execution_count": 25,
   "metadata": {},
   "outputs": [
    {
     "name": "stdout",
     "output_type": "stream",
     "text": [
      "[0.92917 0.9294 ] KNeighborsClassifier()\n",
      "[0.5939023  0.59261708] KNeighborsClassifier()\n",
      "[0.59954233 0.61526141] KNeighborsClassifier()\n",
      "[0.59670899 0.60372699] KNeighborsClassifier()\n",
      "[0.92741 0.92589] DecisionTreeClassifier()\n",
      "[0.58239614 0.57413426] DecisionTreeClassifier()\n",
      "[0.57814645 0.5846013 ] DecisionTreeClassifier()\n",
      "[0.58281187 0.57981381] DecisionTreeClassifier()\n",
      "[0.93304 0.93288] RandomForestClassifier()\n",
      "[0.61477046 0.60645933] RandomForestClassifier()\n",
      "[0.63180778 0.63757007] RandomForestClassifier()\n",
      "[0.62332394 0.62231903] RandomForestClassifier()\n",
      "[0.93694 0.93597] XGBClassifier(base_score=None, booster=None, callbacks=None,\n",
      "              colsample_bylevel=None, colsample_bynode=None,\n",
      "              colsample_bytree=None, early_stopping_rounds=None,\n",
      "              enable_categorical=False, eval_metric=None, gamma=None,\n",
      "              gpu_id=None, grow_policy=None, importance_type=None,\n",
      "              interaction_constraints=None, learning_rate=None, max_bin=None,\n",
      "              max_cat_to_onehot=None, max_delta_step=None, max_depth=None,\n",
      "              max_leaves=None, min_child_weight=None, missing=nan,\n",
      "              monotone_constraints=None, n_estimators=100, n_jobs=None,\n",
      "              num_parallel_tree=None, predictor=None, random_state=None,\n",
      "              reg_alpha=None, reg_lambda=None, ...)\n",
      "[0.62700898 0.61652711] XGBClassifier(base_score=None, booster=None, callbacks=None,\n",
      "              colsample_bylevel=None, colsample_bynode=None,\n",
      "              colsample_bytree=None, early_stopping_rounds=None,\n",
      "              enable_categorical=False, eval_metric=None, gamma=None,\n",
      "              gpu_id=None, grow_policy=None, importance_type=None,\n",
      "              interaction_constraints=None, learning_rate=None, max_bin=None,\n",
      "              max_cat_to_onehot=None, max_delta_step=None, max_depth=None,\n",
      "              max_leaves=None, min_child_weight=None, missing=nan,\n",
      "              monotone_constraints=None, n_estimators=100, n_jobs=None,\n",
      "              num_parallel_tree=None, predictor=None, random_state=None,\n",
      "              reg_alpha=None, reg_lambda=None, ...)\n",
      "[0.68741419 0.70758494] XGBClassifier(base_score=None, booster=None, callbacks=None,\n",
      "              colsample_bylevel=None, colsample_bynode=None,\n",
      "              colsample_bytree=None, early_stopping_rounds=None,\n",
      "              enable_categorical=False, eval_metric=None, gamma=None,\n",
      "              gpu_id=None, grow_policy=None, importance_type=None,\n",
      "              interaction_constraints=None, learning_rate=None, max_bin=None,\n",
      "              max_cat_to_onehot=None, max_delta_step=None, max_depth=None,\n",
      "              max_leaves=None, min_child_weight=None, missing=nan,\n",
      "              monotone_constraints=None, n_estimators=100, n_jobs=None,\n",
      "              num_parallel_tree=None, predictor=None, random_state=None,\n",
      "              reg_alpha=None, reg_lambda=None, ...)\n",
      "[0.6558236  0.65892505] XGBClassifier(base_score=None, booster=None, callbacks=None,\n",
      "              colsample_bylevel=None, colsample_bynode=None,\n",
      "              colsample_bytree=None, early_stopping_rounds=None,\n",
      "              enable_categorical=False, eval_metric=None, gamma=None,\n",
      "              gpu_id=None, grow_policy=None, importance_type=None,\n",
      "              interaction_constraints=None, learning_rate=None, max_bin=None,\n",
      "              max_cat_to_onehot=None, max_delta_step=None, max_depth=None,\n",
      "              max_leaves=None, min_child_weight=None, missing=nan,\n",
      "              monotone_constraints=None, n_estimators=100, n_jobs=None,\n",
      "              num_parallel_tree=None, predictor=None, random_state=None,\n",
      "              reg_alpha=None, reg_lambda=None, ...)\n"
     ]
    }
   ],
   "source": [
    "model_machine_learning = [model_knn,model_dt, model_rf, model_xgb]\n",
    "\n",
    "score_accuracy_mean_ml_test = []\n",
    "score_recall_mean_ml_test = []\n",
    "score_precision_mean_ml_test = []\n",
    "score_f1_mean_ml_test = []\n",
    "\n",
    "for i in model_machine_learning:\n",
    "    croval_classification = StratifiedKFold(n_splits=2)\n",
    "    estimator = Pipeline([\n",
    "        ('Processor',preprocessor),\n",
    "        ('Model_Machine_Learning',i)])\n",
    "    \n",
    "    model_crossval_acc_test = cross_val_score(estimator,X_test,y_test,cv=croval_classification,scoring='accuracy')\n",
    "    model_crossval_recall_test = cross_val_score(estimator,X_test,y_test,cv=croval_classification,scoring='recall')\n",
    "    model_crossval_precision_test = cross_val_score(estimator,X_test,y_test,cv=croval_classification,scoring='precision')\n",
    "    model_crossval_f1_test =  cross_val_score(estimator,X_test,y_test,cv=croval_classification,scoring='f1')\n",
    "    \n",
    "    score_accuracy_mean_ml_test.append(model_crossval_acc_test.mean())\n",
    "    score_recall_mean_ml_test.append(model_crossval_recall_test.mean())\n",
    "    score_precision_mean_ml_test.append(model_crossval_precision_test.mean())\n",
    "    score_f1_mean_ml_test.append(model_crossval_f1_test.mean())\n",
    "    \n",
    "    print(model_crossval_acc_test, i)\n",
    "    print(model_crossval_precision_test, i)\n",
    "    print(model_crossval_recall_test, i)\n",
    "    print(model_crossval_f1_test, i)"
   ]
  },
  {
   "cell_type": "code",
   "execution_count": 26,
   "metadata": {},
   "outputs": [
    {
     "name": "stdout",
     "output_type": "stream",
     "text": [
      "Score Training :\n"
     ]
    },
    {
     "data": {
      "text/html": [
       "<div>\n",
       "<style scoped>\n",
       "    .dataframe tbody tr th:only-of-type {\n",
       "        vertical-align: middle;\n",
       "    }\n",
       "\n",
       "    .dataframe tbody tr th {\n",
       "        vertical-align: top;\n",
       "    }\n",
       "\n",
       "    .dataframe thead th {\n",
       "        text-align: right;\n",
       "    }\n",
       "</style>\n",
       "<table border=\"1\" class=\"dataframe\">\n",
       "  <thead>\n",
       "    <tr style=\"text-align: right;\">\n",
       "      <th></th>\n",
       "      <th>Model</th>\n",
       "      <th>Score Accuracy</th>\n",
       "      <th>Score Precision</th>\n",
       "      <th>Score Recall</th>\n",
       "      <th>Score F1</th>\n",
       "    </tr>\n",
       "  </thead>\n",
       "  <tbody>\n",
       "    <tr>\n",
       "      <th>0</th>\n",
       "      <td>Testing Model KNN Regressor</td>\n",
       "      <td>0.929285</td>\n",
       "      <td>0.607402</td>\n",
       "      <td>0.593260</td>\n",
       "      <td>0.600218</td>\n",
       "    </tr>\n",
       "    <tr>\n",
       "      <th>1</th>\n",
       "      <td>Testing Model DecisionTree Regressor</td>\n",
       "      <td>0.926650</td>\n",
       "      <td>0.581374</td>\n",
       "      <td>0.578265</td>\n",
       "      <td>0.581313</td>\n",
       "    </tr>\n",
       "    <tr>\n",
       "      <th>2</th>\n",
       "      <td>Testing Model RandomForest Regressor</td>\n",
       "      <td>0.932960</td>\n",
       "      <td>0.634689</td>\n",
       "      <td>0.610615</td>\n",
       "      <td>0.622821</td>\n",
       "    </tr>\n",
       "    <tr>\n",
       "      <th>3</th>\n",
       "      <td>Testing Model XGBoost Regressor</td>\n",
       "      <td>0.936455</td>\n",
       "      <td>0.697500</td>\n",
       "      <td>0.621768</td>\n",
       "      <td>0.657374</td>\n",
       "    </tr>\n",
       "  </tbody>\n",
       "</table>\n",
       "</div>"
      ],
      "text/plain": [
       "                                  Model  Score Accuracy  Score Precision  \\\n",
       "0           Testing Model KNN Regressor        0.929285         0.607402   \n",
       "1  Testing Model DecisionTree Regressor        0.926650         0.581374   \n",
       "2  Testing Model RandomForest Regressor        0.932960         0.634689   \n",
       "3       Testing Model XGBoost Regressor        0.936455         0.697500   \n",
       "\n",
       "   Score Recall  Score F1  \n",
       "0      0.593260  0.600218  \n",
       "1      0.578265  0.581313  \n",
       "2      0.610615  0.622821  \n",
       "3      0.621768  0.657374  "
      ]
     },
     "execution_count": 26,
     "metadata": {},
     "output_type": "execute_result"
    }
   ],
   "source": [
    "score_testing = pd.DataFrame({ 'Model': ['Testing Model KNN Regressor', 'Testing Model DecisionTree Regressor', 'Testing Model RandomForest Regressor', 'Testing Model XGBoost Regressor'],\n",
    "    'Score Accuracy': score_accuracy_mean_ml_test,\n",
    "    'Score Precision': score_recall_mean_ml_test,\n",
    "    'Score Recall': score_precision_mean_ml_test,\n",
    "    'Score F1': score_f1_mean_ml_test})\n",
    "print('Score Training :')\n",
    "score_testing"
   ]
  },
  {
   "cell_type": "code",
   "execution_count": 27,
   "metadata": {},
   "outputs": [
    {
     "name": "stdout",
     "output_type": "stream",
     "text": [
      "Score Training VS Score Testing:\n"
     ]
    },
    {
     "data": {
      "text/html": [
       "<div>\n",
       "<style scoped>\n",
       "    .dataframe tbody tr th:only-of-type {\n",
       "        vertical-align: middle;\n",
       "    }\n",
       "\n",
       "    .dataframe tbody tr th {\n",
       "        vertical-align: top;\n",
       "    }\n",
       "\n",
       "    .dataframe thead th {\n",
       "        text-align: right;\n",
       "    }\n",
       "</style>\n",
       "<table border=\"1\" class=\"dataframe\">\n",
       "  <thead>\n",
       "    <tr style=\"text-align: right;\">\n",
       "      <th></th>\n",
       "      <th>Model</th>\n",
       "      <th>Score F1 Train</th>\n",
       "      <th>Score F1 Test</th>\n",
       "    </tr>\n",
       "  </thead>\n",
       "  <tbody>\n",
       "    <tr>\n",
       "      <th>0</th>\n",
       "      <td>Model KNN Regressor</td>\n",
       "      <td>0.606587</td>\n",
       "      <td>0.600218</td>\n",
       "    </tr>\n",
       "    <tr>\n",
       "      <th>1</th>\n",
       "      <td>Model DecisionTree Regressor</td>\n",
       "      <td>0.580768</td>\n",
       "      <td>0.581313</td>\n",
       "    </tr>\n",
       "    <tr>\n",
       "      <th>2</th>\n",
       "      <td>Model RandomForest Regressor</td>\n",
       "      <td>0.625889</td>\n",
       "      <td>0.622821</td>\n",
       "    </tr>\n",
       "    <tr>\n",
       "      <th>3</th>\n",
       "      <td>Model XGBoost Regressor</td>\n",
       "      <td>0.677482</td>\n",
       "      <td>0.657374</td>\n",
       "    </tr>\n",
       "  </tbody>\n",
       "</table>\n",
       "</div>"
      ],
      "text/plain": [
       "                          Model  Score F1 Train  Score F1 Test\n",
       "0           Model KNN Regressor        0.606587       0.600218\n",
       "1  Model DecisionTree Regressor        0.580768       0.581313\n",
       "2  Model RandomForest Regressor        0.625889       0.622821\n",
       "3       Model XGBoost Regressor        0.677482       0.657374"
      ]
     },
     "execution_count": 27,
     "metadata": {},
     "output_type": "execute_result"
    }
   ],
   "source": [
    "score_train_test_ol = pd.DataFrame({ 'Model': ['Model KNN Regressor', 'Model DecisionTree Regressor', 'Model RandomForest Regressor', 'Model XGBoost Regressor'],\n",
    "    'Score F1 Train': score_f1_mean_ml_train,\n",
    "    'Score F1 Test': score_f1_mean_ml_test})\n",
    "print('Score Training VS Score Testing:')\n",
    "score_train_test_ol"
   ]
  },
  {
   "cell_type": "markdown",
   "metadata": {},
   "source": [
    "##### **MACHINE LEARNING WITHOUT OUTLIER**"
   ]
  },
  {
   "cell_type": "code",
   "execution_count": 28,
   "metadata": {},
   "outputs": [],
   "source": [
    "df_2 = df.copy()"
   ]
  },
  {
   "cell_type": "code",
   "execution_count": 29,
   "metadata": {},
   "outputs": [
    {
     "data": {
      "image/png": "[encoded data removed]",
      "text/plain": [
       "<Figure size 1152x504 with 1 Axes>"
      ]
     },
     "metadata": {},
     "output_type": "display_data"
    }
   ],
   "source": [
    "sns.set(style='darkgrid', palette='viridis')\n",
    "fig, ax = plt.subplots(figsize=(16,7))\n",
    "sns.boxplot(data=df_2)\n",
    "plt.xticks(rotation=45)\n",
    "plt.show()"
   ]
  },
  {
   "cell_type": "code",
   "execution_count": 30,
   "metadata": {},
   "outputs": [],
   "source": [
    "# Membuat fungsi untuk mengecek outliers\n",
    "def check_outliers(df,col):\n",
    "    Q1=df[col].describe()['25%']\n",
    "    Q3=df[col].describe()['75%']\n",
    "    IQR=Q3-Q1\n",
    "    Upper_fence=Q3+(1.5*IQR)\n",
    "    Lower_fence=Q1-(1.5*IQR)\n",
    "    df_outliers=df_2[(df_2[col]<Lower_fence) | (df_2[col]>Upper_fence)]\n",
    "    if len(df_outliers)==0:\n",
    "        return 'Tidak Ada Outliers'\n",
    "    else:\n",
    "        return df_outliers"
   ]
  },
  {
   "cell_type": "code",
   "execution_count": 31,
   "metadata": {},
   "outputs": [
    {
     "data": {
      "image/png": "[encoded data removed]",
      "text/plain": [
       "<Figure size 432x288 with 1 Axes>"
      ]
     },
     "metadata": {},
     "output_type": "display_data"
    }
   ],
   "source": [
    "sns.boxplot(df_2['ratio_to_median_purchase_price'])\n",
    "plt.title('Boxplot Outlier Ratio to Median Purchase Price')\n",
    "plt.show()"
   ]
  },
  {
   "cell_type": "code",
   "execution_count": 32,
   "metadata": {},
   "outputs": [
    {
     "data": {
      "text/html": [
       "<div>\n",
       "<style scoped>\n",
       "    .dataframe tbody tr th:only-of-type {\n",
       "        vertical-align: middle;\n",
       "    }\n",
       "\n",
       "    .dataframe tbody tr th {\n",
       "        vertical-align: top;\n",
       "    }\n",
       "\n",
       "    .dataframe thead th {\n",
       "        text-align: right;\n",
       "    }\n",
       "</style>\n",
       "<table border=\"1\" class=\"dataframe\">\n",
       "  <thead>\n",
       "    <tr style=\"text-align: right;\">\n",
       "      <th></th>\n",
       "      <th>distance_from_home</th>\n",
       "      <th>distance_from_last_transaction</th>\n",
       "      <th>ratio_to_median_purchase_price</th>\n",
       "      <th>repeat_retailer</th>\n",
       "      <th>used_chip</th>\n",
       "      <th>used_pin_number</th>\n",
       "      <th>online_order</th>\n",
       "      <th>fraud</th>\n",
       "    </tr>\n",
       "  </thead>\n",
       "  <tbody>\n",
       "    <tr>\n",
       "      <th>13</th>\n",
       "      <td>2.131956</td>\n",
       "      <td>56.372401</td>\n",
       "      <td>6.358667</td>\n",
       "      <td>1.0</td>\n",
       "      <td>0.0</td>\n",
       "      <td>0.0</td>\n",
       "      <td>1.0</td>\n",
       "      <td>1.0</td>\n",
       "    </tr>\n",
       "    <tr>\n",
       "      <th>35</th>\n",
       "      <td>26.711462</td>\n",
       "      <td>1.552008</td>\n",
       "      <td>4.603601</td>\n",
       "      <td>1.0</td>\n",
       "      <td>1.0</td>\n",
       "      <td>0.0</td>\n",
       "      <td>1.0</td>\n",
       "      <td>1.0</td>\n",
       "    </tr>\n",
       "    <tr>\n",
       "      <th>36</th>\n",
       "      <td>10.664474</td>\n",
       "      <td>1.565769</td>\n",
       "      <td>4.886521</td>\n",
       "      <td>1.0</td>\n",
       "      <td>0.0</td>\n",
       "      <td>0.0</td>\n",
       "      <td>1.0</td>\n",
       "      <td>1.0</td>\n",
       "    </tr>\n",
       "    <tr>\n",
       "      <th>47</th>\n",
       "      <td>2.530145</td>\n",
       "      <td>3.689781</td>\n",
       "      <td>8.297407</td>\n",
       "      <td>1.0</td>\n",
       "      <td>0.0</td>\n",
       "      <td>0.0</td>\n",
       "      <td>1.0</td>\n",
       "      <td>1.0</td>\n",
       "    </tr>\n",
       "    <tr>\n",
       "      <th>48</th>\n",
       "      <td>21.126116</td>\n",
       "      <td>0.271987</td>\n",
       "      <td>6.081771</td>\n",
       "      <td>1.0</td>\n",
       "      <td>0.0</td>\n",
       "      <td>0.0</td>\n",
       "      <td>1.0</td>\n",
       "      <td>1.0</td>\n",
       "    </tr>\n",
       "  </tbody>\n",
       "</table>\n",
       "</div>"
      ],
      "text/plain": [
       "    distance_from_home  distance_from_last_transaction  \\\n",
       "13            2.131956                       56.372401   \n",
       "35           26.711462                        1.552008   \n",
       "36           10.664474                        1.565769   \n",
       "47            2.530145                        3.689781   \n",
       "48           21.126116                        0.271987   \n",
       "\n",
       "    ratio_to_median_purchase_price  repeat_retailer  used_chip  \\\n",
       "13                        6.358667              1.0        0.0   \n",
       "35                        4.603601              1.0        1.0   \n",
       "36                        4.886521              1.0        0.0   \n",
       "47                        8.297407              1.0        0.0   \n",
       "48                        6.081771              1.0        0.0   \n",
       "\n",
       "    used_pin_number  online_order  fraud  \n",
       "13              0.0           1.0    1.0  \n",
       "35              0.0           1.0    1.0  \n",
       "36              0.0           1.0    1.0  \n",
       "47              0.0           1.0    1.0  \n",
       "48              0.0           1.0    1.0  "
      ]
     },
     "execution_count": 32,
     "metadata": {},
     "output_type": "execute_result"
    }
   ],
   "source": [
    "outliers_ratio_to_median_purchase_price=check_outliers(df_2,'ratio_to_median_purchase_price')\n",
    "outliers_ratio_to_median_purchase_price.head()"
   ]
  },
  {
   "cell_type": "code",
   "execution_count": 33,
   "metadata": {},
   "outputs": [
    {
     "name": "stdout",
     "output_type": "stream",
     "text": [
      "Total outlier pada kolom ratio to median purchase price : 84386\n",
      "Total data awal: 1000000\n",
      "Persentase total outlier dari total data (%): 8.438600000000001\n"
     ]
    }
   ],
   "source": [
    "print(f'Total outlier pada kolom ratio to median purchase price : {outliers_ratio_to_median_purchase_price.shape[0]}')\n",
    "print(f'Total data awal: {df_2.shape[0]}')\n",
    "print(f'Persentase total outlier dari total data (%): {(outliers_ratio_to_median_purchase_price.shape[0]/df_2.shape[0])*100}')"
   ]
  },
  {
   "cell_type": "code",
   "execution_count": 34,
   "metadata": {},
   "outputs": [],
   "source": [
    "df_2.drop(outliers_ratio_to_median_purchase_price.index,inplace=True)"
   ]
  },
  {
   "cell_type": "code",
   "execution_count": 35,
   "metadata": {},
   "outputs": [
    {
     "data": {
      "image/png": "[encoded data removed]",
      "text/plain": [
       "<Figure size 432x288 with 1 Axes>"
      ]
     },
     "metadata": {},
     "output_type": "display_data"
    }
   ],
   "source": [
    "sns.boxplot(df_2['ratio_to_median_purchase_price'])\n",
    "plt.title('Boxplot Outlier Ratio to Median Purchase Price')\n",
    "plt.show()"
   ]
  },
  {
   "cell_type": "code",
   "execution_count": 36,
   "metadata": {},
   "outputs": [],
   "source": [
    "X_2 = df_2.drop(columns='fraud')\n",
    "y_2 = df_2['fraud']"
   ]
  },
  {
   "cell_type": "code",
   "execution_count": 37,
   "metadata": {},
   "outputs": [],
   "source": [
    "X_train_OL, X_test_OL, y_train_OL, y_test_OL = train_test_split(X_2, y_2, stratify=y_2, test_size = .20, random_state=42)"
   ]
  },
  {
   "cell_type": "code",
   "execution_count": 38,
   "metadata": {},
   "outputs": [],
   "source": [
    "model_knn_ol=KNeighborsClassifier()\n",
    "model_dt_ol=DecisionTreeClassifier()\n",
    "model_rf_ol=RandomForestClassifier()\n",
    "model_xgb_ol=XGBClassifier()"
   ]
  },
  {
   "cell_type": "code",
   "execution_count": 39,
   "metadata": {},
   "outputs": [
    {
     "name": "stdout",
     "output_type": "stream",
     "text": [
      "[0.96308492 0.96296195] KNeighborsClassifier()\n",
      "[0.50853384 0.50653622] KNeighborsClassifier()\n",
      "[0.44502732 0.4489216 ] KNeighborsClassifier()\n",
      "[0.47466584 0.47599181] KNeighborsClassifier()\n",
      "[0.96102073 0.96114623] DecisionTreeClassifier()\n",
      "[0.47687549 0.48335247] DecisionTreeClassifier()\n",
      "[0.48539162 0.49118333] DecisionTreeClassifier()\n",
      "[0.48197563 0.48900742] DecisionTreeClassifier()\n",
      "[0.96522556 0.96509986] RandomForestClassifier()\n",
      "[0.5434557  0.54355794] RandomForestClassifier()\n",
      "[0.42535519 0.42349169] RandomForestClassifier()\n",
      "[0.47326181 0.47927928] RandomForestClassifier()\n",
      "[0.96757098 0.96749444] XGBClassifier(base_score=None, booster=None, callbacks=None,\n",
      "              colsample_bylevel=None, colsample_bynode=None,\n",
      "              colsample_bytree=None, early_stopping_rounds=None,\n",
      "              enable_categorical=False, eval_metric=None, gamma=None,\n",
      "              gpu_id=None, grow_policy=None, importance_type=None,\n",
      "              interaction_constraints=None, learning_rate=None, max_bin=None,\n",
      "              max_cat_to_onehot=None, max_delta_step=None, max_depth=None,\n",
      "              max_leaves=None, min_child_weight=None, missing=nan,\n",
      "              monotone_constraints=None, n_estimators=100, n_jobs=None,\n",
      "              num_parallel_tree=None, predictor=None, random_state=None,\n",
      "              reg_alpha=None, reg_lambda=None, ...)\n",
      "[0.6075419 0.6007533] XGBClassifier(base_score=None, booster=None, callbacks=None,\n",
      "              colsample_bylevel=None, colsample_bynode=None,\n",
      "              colsample_bytree=None, early_stopping_rounds=None,\n",
      "              enable_categorical=False, eval_metric=None, gamma=None,\n",
      "              gpu_id=None, grow_policy=None, importance_type=None,\n",
      "              interaction_constraints=None, learning_rate=None, max_bin=None,\n",
      "              max_cat_to_onehot=None, max_delta_step=None, max_depth=None,\n",
      "              max_leaves=None, min_child_weight=None, missing=nan,\n",
      "              monotone_constraints=None, n_estimators=100, n_jobs=None,\n",
      "              num_parallel_tree=None, predictor=None, random_state=None,\n",
      "              reg_alpha=None, reg_lambda=None, ...)\n",
      "[0.38032787 0.39514719] XGBClassifier(base_score=None, booster=None, callbacks=None,\n",
      "              colsample_bylevel=None, colsample_bynode=None,\n",
      "              colsample_bytree=None, early_stopping_rounds=None,\n",
      "              enable_categorical=False, eval_metric=None, gamma=None,\n",
      "              gpu_id=None, grow_policy=None, importance_type=None,\n",
      "              interaction_constraints=None, learning_rate=None, max_bin=None,\n",
      "              max_cat_to_onehot=None, max_delta_step=None, max_depth=None,\n",
      "              max_leaves=None, min_child_weight=None, missing=nan,\n",
      "              monotone_constraints=None, n_estimators=100, n_jobs=None,\n",
      "              num_parallel_tree=None, predictor=None, random_state=None,\n",
      "              reg_alpha=None, reg_lambda=None, ...)\n",
      "[0.46780481 0.4767263 ] XGBClassifier(base_score=None, booster=None, callbacks=None,\n",
      "              colsample_bylevel=None, colsample_bynode=None,\n",
      "              colsample_bytree=None, early_stopping_rounds=None,\n",
      "              enable_categorical=False, eval_metric=None, gamma=None,\n",
      "              gpu_id=None, grow_policy=None, importance_type=None,\n",
      "              interaction_constraints=None, learning_rate=None, max_bin=None,\n",
      "              max_cat_to_onehot=None, max_delta_step=None, max_depth=None,\n",
      "              max_leaves=None, min_child_weight=None, missing=nan,\n",
      "              monotone_constraints=None, n_estimators=100, n_jobs=None,\n",
      "              num_parallel_tree=None, predictor=None, random_state=None,\n",
      "              reg_alpha=None, reg_lambda=None, ...)\n"
     ]
    }
   ],
   "source": [
    "model_machine_learning_2 = [model_knn_ol,model_dt_ol, model_rf_ol, model_xgb_ol]\n",
    "\n",
    "score_accuracy_mean_ml_train_ol = []\n",
    "score_recall_mean_ml_train_ol = []\n",
    "score_precision_mean_ml_train_ol = []\n",
    "score_f1_mean_ml_train_ol = []\n",
    "\n",
    "for i in model_machine_learning_2:\n",
    "    croval_classification_2 = StratifiedKFold(n_splits=2)\n",
    "    estimator_2 = Pipeline([\n",
    "        ('Processor',preprocessor),\n",
    "        ('Model_Machine_Learning',i)])\n",
    "    \n",
    "    model_crossval_acc_train_ol = cross_val_score(estimator_2,X_train_OL,y_train_OL,cv=croval_classification_2,scoring='accuracy')\n",
    "    model_crossval_recall_train_ol = cross_val_score(estimator_2,X_train_OL,y_train_OL,cv=croval_classification_2,scoring='recall')\n",
    "    model_crossval_precision_train_ol = cross_val_score(estimator_2,X_train_OL,y_train_OL,cv=croval_classification_2,scoring='precision')\n",
    "    model_crossval_f1_train_ol = cross_val_score(estimator_2,X_train_OL,y_train_OL,cv=croval_classification_2,scoring='f1')\n",
    "    \n",
    "    score_accuracy_mean_ml_train_ol.append(model_crossval_acc_train_ol.mean())\n",
    "    score_recall_mean_ml_train_ol.append(model_crossval_recall_train_ol.mean())\n",
    "    score_precision_mean_ml_train_ol.append(model_crossval_precision_train_ol.mean())\n",
    "    score_f1_mean_ml_train_ol.append(model_crossval_f1_train_ol.mean())\n",
    "    \n",
    "    print(model_crossval_acc_train_ol, i)\n",
    "    print(model_crossval_precision_train_ol, i)\n",
    "    print(model_crossval_recall_train_ol, i)\n",
    "    print(model_crossval_f1_train_ol, i)"
   ]
  },
  {
   "cell_type": "code",
   "execution_count": 40,
   "metadata": {},
   "outputs": [
    {
     "name": "stdout",
     "output_type": "stream",
     "text": [
      "Score Training Non Outlier :\n"
     ]
    },
    {
     "data": {
      "text/html": [
       "<div>\n",
       "<style scoped>\n",
       "    .dataframe tbody tr th:only-of-type {\n",
       "        vertical-align: middle;\n",
       "    }\n",
       "\n",
       "    .dataframe tbody tr th {\n",
       "        vertical-align: top;\n",
       "    }\n",
       "\n",
       "    .dataframe thead th {\n",
       "        text-align: right;\n",
       "    }\n",
       "</style>\n",
       "<table border=\"1\" class=\"dataframe\">\n",
       "  <thead>\n",
       "    <tr style=\"text-align: right;\">\n",
       "      <th></th>\n",
       "      <th>Model</th>\n",
       "      <th>Score Accuracy Non Outlier</th>\n",
       "      <th>Score Precision Non Outlier</th>\n",
       "      <th>Score Recall Non Outlier</th>\n",
       "      <th>Score F1 Non Outlier</th>\n",
       "    </tr>\n",
       "  </thead>\n",
       "  <tbody>\n",
       "    <tr>\n",
       "      <th>0</th>\n",
       "      <td>Training Model KNN Regressor Non Outlier</td>\n",
       "      <td>0.963023</td>\n",
       "      <td>0.446974</td>\n",
       "      <td>0.507535</td>\n",
       "      <td>0.475329</td>\n",
       "    </tr>\n",
       "    <tr>\n",
       "      <th>1</th>\n",
       "      <td>Training Model DecisionTree Regressor Non Outlier</td>\n",
       "      <td>0.961083</td>\n",
       "      <td>0.488287</td>\n",
       "      <td>0.480114</td>\n",
       "      <td>0.485492</td>\n",
       "    </tr>\n",
       "    <tr>\n",
       "      <th>2</th>\n",
       "      <td>Training Model RandomForest Regressor Non Outlier</td>\n",
       "      <td>0.965163</td>\n",
       "      <td>0.424423</td>\n",
       "      <td>0.543507</td>\n",
       "      <td>0.476271</td>\n",
       "    </tr>\n",
       "    <tr>\n",
       "      <th>3</th>\n",
       "      <td>Training Model XGBoost Regressor Non Outlier</td>\n",
       "      <td>0.967533</td>\n",
       "      <td>0.387738</td>\n",
       "      <td>0.604148</td>\n",
       "      <td>0.472266</td>\n",
       "    </tr>\n",
       "  </tbody>\n",
       "</table>\n",
       "</div>"
      ],
      "text/plain": [
       "                                               Model  \\\n",
       "0           Training Model KNN Regressor Non Outlier   \n",
       "1  Training Model DecisionTree Regressor Non Outlier   \n",
       "2  Training Model RandomForest Regressor Non Outlier   \n",
       "3       Training Model XGBoost Regressor Non Outlier   \n",
       "\n",
       "   Score Accuracy Non Outlier  Score Precision Non Outlier  \\\n",
       "0                    0.963023                     0.446974   \n",
       "1                    0.961083                     0.488287   \n",
       "2                    0.965163                     0.424423   \n",
       "3                    0.967533                     0.387738   \n",
       "\n",
       "   Score Recall Non Outlier  Score F1 Non Outlier  \n",
       "0                  0.507535              0.475329  \n",
       "1                  0.480114              0.485492  \n",
       "2                  0.543507              0.476271  \n",
       "3                  0.604148              0.472266  "
      ]
     },
     "execution_count": 40,
     "metadata": {},
     "output_type": "execute_result"
    }
   ],
   "source": [
    "score_training_non_ol = pd.DataFrame({ 'Model': ['Training Model KNN Regressor Non Outlier', 'Training Model DecisionTree Regressor Non Outlier', 'Training Model RandomForest Regressor Non Outlier', 'Training Model XGBoost Regressor Non Outlier'],\n",
    "    'Score Accuracy Non Outlier': score_accuracy_mean_ml_train_ol,\n",
    "    'Score Precision Non Outlier': score_recall_mean_ml_train_ol,\n",
    "    'Score Recall Non Outlier': score_precision_mean_ml_train_ol,\n",
    "    'Score F1 Non Outlier': score_f1_mean_ml_train_ol})\n",
    "print('Score Training Non Outlier :')\n",
    "score_training_non_ol"
   ]
  },
  {
   "cell_type": "code",
   "execution_count": 41,
   "metadata": {},
   "outputs": [
    {
     "name": "stdout",
     "output_type": "stream",
     "text": [
      "[0.96342369 0.96365265] KNeighborsClassifier()\n",
      "[0.51371237 0.51714952] KNeighborsClassifier()\n",
      "[0.44768289 0.45263771] KNeighborsClassifier()\n",
      "[0.47843015 0.4827479 ] KNeighborsClassifier()\n",
      "[0.96116293 0.96174135] DecisionTreeClassifier()\n",
      "[0.48063128 0.48224083] DecisionTreeClassifier()\n",
      "[0.48732148 0.48382396] DecisionTreeClassifier()\n",
      "[0.48248801 0.48504211] DecisionTreeClassifier()\n",
      "[0.96519298 0.96511615] RandomForestClassifier()\n",
      "[0.54425976 0.53848934] RandomForestClassifier()\n",
      "[0.41678811 0.4293209 ] RandomForestClassifier()\n",
      "[0.47041273 0.47498786] RandomForestClassifier()\n",
      "[0.96488718 0.96534551] XGBClassifier(base_score=None, booster=None, callbacks=None,\n",
      "              colsample_bylevel=None, colsample_bynode=None,\n",
      "              colsample_bytree=None, early_stopping_rounds=None,\n",
      "              enable_categorical=False, eval_metric=None, gamma=None,\n",
      "              gpu_id=None, grow_policy=None, importance_type=None,\n",
      "              interaction_constraints=None, learning_rate=None, max_bin=None,\n",
      "              max_cat_to_onehot=None, max_delta_step=None, max_depth=None,\n",
      "              max_leaves=None, min_child_weight=None, missing=nan,\n",
      "              monotone_constraints=None, n_estimators=100, n_jobs=None,\n",
      "              num_parallel_tree=None, predictor=None, random_state=None,\n",
      "              reg_alpha=None, reg_lambda=None, ...)\n",
      "[0.5448505  0.54831461] XGBClassifier(base_score=None, booster=None, callbacks=None,\n",
      "              colsample_bylevel=None, colsample_bynode=None,\n",
      "              colsample_bytree=None, early_stopping_rounds=None,\n",
      "              enable_categorical=False, eval_metric=None, gamma=None,\n",
      "              gpu_id=None, grow_policy=None, importance_type=None,\n",
      "              interaction_constraints=None, learning_rate=None, max_bin=None,\n",
      "              max_cat_to_onehot=None, max_delta_step=None, max_depth=None,\n",
      "              max_leaves=None, min_child_weight=None, missing=nan,\n",
      "              monotone_constraints=None, n_estimators=100, n_jobs=None,\n",
      "              num_parallel_tree=None, predictor=None, random_state=None,\n",
      "              reg_alpha=None, reg_lambda=None, ...)\n",
      "[0.3823958  0.42669776] XGBClassifier(base_score=None, booster=None, callbacks=None,\n",
      "              colsample_bylevel=None, colsample_bynode=None,\n",
      "              colsample_bytree=None, early_stopping_rounds=None,\n",
      "              enable_categorical=False, eval_metric=None, gamma=None,\n",
      "              gpu_id=None, grow_policy=None, importance_type=None,\n",
      "              interaction_constraints=None, learning_rate=None, max_bin=None,\n",
      "              max_cat_to_onehot=None, max_delta_step=None, max_depth=None,\n",
      "              max_leaves=None, min_child_weight=None, missing=nan,\n",
      "              monotone_constraints=None, n_estimators=100, n_jobs=None,\n",
      "              num_parallel_tree=None, predictor=None, random_state=None,\n",
      "              reg_alpha=None, reg_lambda=None, ...)\n",
      "[0.44939202 0.47992132] XGBClassifier(base_score=None, booster=None, callbacks=None,\n",
      "              colsample_bylevel=None, colsample_bynode=None,\n",
      "              colsample_bytree=None, early_stopping_rounds=None,\n",
      "              enable_categorical=False, eval_metric=None, gamma=None,\n",
      "              gpu_id=None, grow_policy=None, importance_type=None,\n",
      "              interaction_constraints=None, learning_rate=None, max_bin=None,\n",
      "              max_cat_to_onehot=None, max_delta_step=None, max_depth=None,\n",
      "              max_leaves=None, min_child_weight=None, missing=nan,\n",
      "              monotone_constraints=None, n_estimators=100, n_jobs=None,\n",
      "              num_parallel_tree=None, predictor=None, random_state=None,\n",
      "              reg_alpha=None, reg_lambda=None, ...)\n"
     ]
    }
   ],
   "source": [
    "model_machine_learning_2 = [model_knn_ol,model_dt_ol, model_rf_ol, model_xgb_ol]\n",
    "\n",
    "score_accuracy_mean_ml_test_ol = []\n",
    "score_recall_mean_ml_test_ol = []\n",
    "score_precision_mean_ml_test_ol = []\n",
    "score_f1_mean_ml_test_ol = []\n",
    "\n",
    "for i in model_machine_learning_2:\n",
    "    croval_classification_2 = StratifiedKFold(n_splits=2)\n",
    "    estimator_2 = Pipeline([\n",
    "        ('Processor',preprocessor),\n",
    "        ('Model_Machine_Learning',i)])\n",
    "    \n",
    "    model_crossval_acc_test_ol = cross_val_score(estimator_2,X_test_OL,y_test_OL,cv=croval_classification_2,scoring='accuracy')\n",
    "    model_crossval_recall_test_ol = cross_val_score(estimator_2,X_test_OL,y_test_OL,cv=croval_classification_2,scoring='recall')\n",
    "    model_crossval_precision_test_ol = cross_val_score(estimator_2,X_test_OL,y_test_OL,cv=croval_classification_2,scoring='precision')\n",
    "    model_crossval_f1_test_ol = cross_val_score(estimator_2,X_test_OL,y_test_OL,cv=croval_classification_2,scoring='f1')\n",
    "    \n",
    "    score_accuracy_mean_ml_test_ol.append(model_crossval_acc_test_ol.mean())\n",
    "    score_recall_mean_ml_test_ol.append(model_crossval_recall_test_ol.mean())\n",
    "    score_precision_mean_ml_test_ol.append(model_crossval_precision_test_ol.mean())\n",
    "    score_f1_mean_ml_test_ol.append(model_crossval_f1_test_ol.mean())\n",
    "    \n",
    "    print(model_crossval_acc_test_ol, i)\n",
    "    print(model_crossval_precision_test_ol, i)\n",
    "    print(model_crossval_recall_test_ol, i)\n",
    "    print(model_crossval_f1_test_ol, i)"
   ]
  },
  {
   "cell_type": "code",
   "execution_count": 42,
   "metadata": {},
   "outputs": [
    {
     "name": "stdout",
     "output_type": "stream",
     "text": [
      "Score Testing Non Outlier :\n"
     ]
    },
    {
     "data": {
      "text/html": [
       "<div>\n",
       "<style scoped>\n",
       "    .dataframe tbody tr th:only-of-type {\n",
       "        vertical-align: middle;\n",
       "    }\n",
       "\n",
       "    .dataframe tbody tr th {\n",
       "        vertical-align: top;\n",
       "    }\n",
       "\n",
       "    .dataframe thead th {\n",
       "        text-align: right;\n",
       "    }\n",
       "</style>\n",
       "<table border=\"1\" class=\"dataframe\">\n",
       "  <thead>\n",
       "    <tr style=\"text-align: right;\">\n",
       "      <th></th>\n",
       "      <th>Model</th>\n",
       "      <th>Score Accuracy Non Outlier</th>\n",
       "      <th>Score Precision Non Outlier</th>\n",
       "      <th>Score Recall Non Outlier</th>\n",
       "      <th>Score F1 Non Outlier</th>\n",
       "    </tr>\n",
       "  </thead>\n",
       "  <tbody>\n",
       "    <tr>\n",
       "      <th>0</th>\n",
       "      <td>Testing Model KNN Regressor Non Outlier</td>\n",
       "      <td>0.963538</td>\n",
       "      <td>0.450160</td>\n",
       "      <td>0.515431</td>\n",
       "      <td>0.480589</td>\n",
       "    </tr>\n",
       "    <tr>\n",
       "      <th>1</th>\n",
       "      <td>Testing Model DecisionTree Regressor Non Outlier</td>\n",
       "      <td>0.961452</td>\n",
       "      <td>0.485573</td>\n",
       "      <td>0.481436</td>\n",
       "      <td>0.483765</td>\n",
       "    </tr>\n",
       "    <tr>\n",
       "      <th>2</th>\n",
       "      <td>Testing Model RandomForest Regressor Non Outlier</td>\n",
       "      <td>0.965155</td>\n",
       "      <td>0.423055</td>\n",
       "      <td>0.541375</td>\n",
       "      <td>0.472700</td>\n",
       "    </tr>\n",
       "    <tr>\n",
       "      <th>3</th>\n",
       "      <td>Testing Model XGBoost Regressor Non Outlier</td>\n",
       "      <td>0.965116</td>\n",
       "      <td>0.404547</td>\n",
       "      <td>0.546583</td>\n",
       "      <td>0.464657</td>\n",
       "    </tr>\n",
       "  </tbody>\n",
       "</table>\n",
       "</div>"
      ],
      "text/plain": [
       "                                              Model  \\\n",
       "0           Testing Model KNN Regressor Non Outlier   \n",
       "1  Testing Model DecisionTree Regressor Non Outlier   \n",
       "2  Testing Model RandomForest Regressor Non Outlier   \n",
       "3       Testing Model XGBoost Regressor Non Outlier   \n",
       "\n",
       "   Score Accuracy Non Outlier  Score Precision Non Outlier  \\\n",
       "0                    0.963538                     0.450160   \n",
       "1                    0.961452                     0.485573   \n",
       "2                    0.965155                     0.423055   \n",
       "3                    0.965116                     0.404547   \n",
       "\n",
       "   Score Recall Non Outlier  Score F1 Non Outlier  \n",
       "0                  0.515431              0.480589  \n",
       "1                  0.481436              0.483765  \n",
       "2                  0.541375              0.472700  \n",
       "3                  0.546583              0.464657  "
      ]
     },
     "execution_count": 42,
     "metadata": {},
     "output_type": "execute_result"
    }
   ],
   "source": [
    "score_testing_non_ol = pd.DataFrame({ 'Model': ['Testing Model KNN Regressor Non Outlier', 'Testing Model DecisionTree Regressor Non Outlier', 'Testing Model RandomForest Regressor Non Outlier', 'Testing Model XGBoost Regressor Non Outlier'],\n",
    "    'Score Accuracy Non Outlier': score_accuracy_mean_ml_test_ol,\n",
    "    'Score Precision Non Outlier': score_recall_mean_ml_test_ol,\n",
    "    'Score Recall Non Outlier': score_precision_mean_ml_test_ol,\n",
    "    'Score F1 Non Outlier': score_f1_mean_ml_test_ol})\n",
    "print('Score Testing Non Outlier :')\n",
    "score_testing_non_ol"
   ]
  },
  {
   "cell_type": "code",
   "execution_count": 43,
   "metadata": {},
   "outputs": [
    {
     "name": "stdout",
     "output_type": "stream",
     "text": [
      "Score Training VS Score Testing:\n"
     ]
    },
    {
     "data": {
      "text/html": [
       "<div>\n",
       "<style scoped>\n",
       "    .dataframe tbody tr th:only-of-type {\n",
       "        vertical-align: middle;\n",
       "    }\n",
       "\n",
       "    .dataframe tbody tr th {\n",
       "        vertical-align: top;\n",
       "    }\n",
       "\n",
       "    .dataframe thead th {\n",
       "        text-align: right;\n",
       "    }\n",
       "</style>\n",
       "<table border=\"1\" class=\"dataframe\">\n",
       "  <thead>\n",
       "    <tr style=\"text-align: right;\">\n",
       "      <th></th>\n",
       "      <th>Model</th>\n",
       "      <th>Score F1 Train</th>\n",
       "      <th>Score F1 Test</th>\n",
       "      <th>Score F1 Train NoN Outlier</th>\n",
       "      <th>Score F1 Test NoN Outlier</th>\n",
       "    </tr>\n",
       "  </thead>\n",
       "  <tbody>\n",
       "    <tr>\n",
       "      <th>0</th>\n",
       "      <td>Model KNN Regressor</td>\n",
       "      <td>0.606587</td>\n",
       "      <td>0.600218</td>\n",
       "      <td>0.475329</td>\n",
       "      <td>0.480589</td>\n",
       "    </tr>\n",
       "    <tr>\n",
       "      <th>1</th>\n",
       "      <td>Model DecisionTree Regressor</td>\n",
       "      <td>0.580768</td>\n",
       "      <td>0.581313</td>\n",
       "      <td>0.485492</td>\n",
       "      <td>0.483765</td>\n",
       "    </tr>\n",
       "    <tr>\n",
       "      <th>2</th>\n",
       "      <td>Model RandomForest Regressor</td>\n",
       "      <td>0.625889</td>\n",
       "      <td>0.622821</td>\n",
       "      <td>0.476271</td>\n",
       "      <td>0.472700</td>\n",
       "    </tr>\n",
       "    <tr>\n",
       "      <th>3</th>\n",
       "      <td>Model XGBoost Regressor</td>\n",
       "      <td>0.677482</td>\n",
       "      <td>0.657374</td>\n",
       "      <td>0.472266</td>\n",
       "      <td>0.464657</td>\n",
       "    </tr>\n",
       "  </tbody>\n",
       "</table>\n",
       "</div>"
      ],
      "text/plain": [
       "                          Model  Score F1 Train  Score F1 Test  \\\n",
       "0           Model KNN Regressor        0.606587       0.600218   \n",
       "1  Model DecisionTree Regressor        0.580768       0.581313   \n",
       "2  Model RandomForest Regressor        0.625889       0.622821   \n",
       "3       Model XGBoost Regressor        0.677482       0.657374   \n",
       "\n",
       "   Score F1 Train NoN Outlier  Score F1 Test NoN Outlier  \n",
       "0                    0.475329                   0.480589  \n",
       "1                    0.485492                   0.483765  \n",
       "2                    0.476271                   0.472700  \n",
       "3                    0.472266                   0.464657  "
      ]
     },
     "execution_count": 43,
     "metadata": {},
     "output_type": "execute_result"
    }
   ],
   "source": [
    "score_train_test_ol_nol = pd.DataFrame({ 'Model': ['Model KNN Regressor', 'Model DecisionTree Regressor', 'Model RandomForest Regressor', 'Model XGBoost Regressor'],\n",
    "    'Score F1 Train': score_f1_mean_ml_train,\n",
    "    'Score F1 Test': score_f1_mean_ml_test,\n",
    "    'Score F1 Train NoN Outlier': score_f1_mean_ml_train_ol,\n",
    "    'Score F1 Test NoN Outlier': score_f1_mean_ml_test_ol,})\n",
    "print('Score Training VS Score Testing:')\n",
    "score_train_test_ol_nol"
   ]
  },
  {
   "cell_type": "markdown",
   "metadata": {},
   "source": [
    "##### **MACHINE LEARNING WITH OVERSAMPLING T1**"
   ]
  },
  {
   "cell_type": "code",
   "execution_count": 44,
   "metadata": {},
   "outputs": [
    {
     "name": "stdout",
     "output_type": "stream",
     "text": [
      "[0.95649645 0.95645538] KNeighborsClassifier()\n",
      "[0.45581879 0.45530187] KNeighborsClassifier()\n",
      "[0.8298725  0.82534247] KNeighborsClassifier()\n",
      "[0.58843283 0.58686078] KNeighborsClassifier()\n",
      "[0.96161596 0.96167866] DecisionTreeClassifier()\n",
      "[0.49300131 0.48953289] DecisionTreeClassifier()\n",
      "[0.46375228 0.46451472] DecisionTreeClassifier()\n",
      "[0.47552029 0.47409627] DecisionTreeClassifier()\n",
      "[0.96248969 0.96257423] RandomForestClassifier()\n",
      "[0.49540299 0.49768505] RandomForestClassifier()\n",
      "[0.60218579 0.60317692] RandomForestClassifier()\n",
      "[0.54527546 0.54331671] RandomForestClassifier()\n",
      "[0.95447595 0.95474341] XGBClassifier(base_score=None, booster=None, callbacks=None,\n",
      "              colsample_bylevel=None, colsample_bynode=None,\n",
      "              colsample_bytree=None, early_stopping_rounds=None,\n",
      "              enable_categorical=False, eval_metric=None, gamma=None,\n",
      "              gpu_id=None, grow_policy=None, importance_type=None,\n",
      "              interaction_constraints=None, learning_rate=None, max_bin=None,\n",
      "              max_cat_to_onehot=None, max_delta_step=None, max_depth=None,\n",
      "              max_leaves=None, min_child_weight=None, missing=nan,\n",
      "              monotone_constraints=None, n_estimators=100, n_jobs=None,\n",
      "              num_parallel_tree=None, predictor=None, random_state=None,\n",
      "              reg_alpha=None, reg_lambda=None, ...)\n",
      "[0.45203479 0.45223756] XGBClassifier(base_score=None, booster=None, callbacks=None,\n",
      "              colsample_bylevel=None, colsample_bynode=None,\n",
      "              colsample_bytree=None, early_stopping_rounds=None,\n",
      "              enable_categorical=False, eval_metric=None, gamma=None,\n",
      "              gpu_id=None, grow_policy=None, importance_type=None,\n",
      "              interaction_constraints=None, learning_rate=None, max_bin=None,\n",
      "              max_cat_to_onehot=None, max_delta_step=None, max_depth=None,\n",
      "              max_leaves=None, min_child_weight=None, missing=nan,\n",
      "              monotone_constraints=None, n_estimators=100, n_jobs=None,\n",
      "              num_parallel_tree=None, predictor=None, random_state=None,\n",
      "              reg_alpha=None, reg_lambda=None, ...)\n",
      "[0.99030965 0.98797727] XGBClassifier(base_score=None, booster=None, callbacks=None,\n",
      "              colsample_bylevel=None, colsample_bynode=None,\n",
      "              colsample_bytree=None, early_stopping_rounds=None,\n",
      "              enable_categorical=False, eval_metric=None, gamma=None,\n",
      "              gpu_id=None, grow_policy=None, importance_type=None,\n",
      "              interaction_constraints=None, learning_rate=None, max_bin=None,\n",
      "              max_cat_to_onehot=None, max_delta_step=None, max_depth=None,\n",
      "              max_leaves=None, min_child_weight=None, missing=nan,\n",
      "              monotone_constraints=None, n_estimators=100, n_jobs=None,\n",
      "              num_parallel_tree=None, predictor=None, random_state=None,\n",
      "              reg_alpha=None, reg_lambda=None, ...)\n",
      "[0.62015504 0.61996209] XGBClassifier(base_score=None, booster=None, callbacks=None,\n",
      "              colsample_bylevel=None, colsample_bynode=None,\n",
      "              colsample_bytree=None, early_stopping_rounds=None,\n",
      "              enable_categorical=False, eval_metric=None, gamma=None,\n",
      "              gpu_id=None, grow_policy=None, importance_type=None,\n",
      "              interaction_constraints=None, learning_rate=None, max_bin=None,\n",
      "              max_cat_to_onehot=None, max_delta_step=None, max_depth=None,\n",
      "              max_leaves=None, min_child_weight=None, missing=nan,\n",
      "              monotone_constraints=None, n_estimators=100, n_jobs=None,\n",
      "              num_parallel_tree=None, predictor=None, random_state=None,\n",
      "              reg_alpha=None, reg_lambda=None, ...)\n"
     ]
    }
   ],
   "source": [
    "model_machine_learning_3 = [model_knn_ol,model_dt_ol, model_rf_ol, model_xgb_ol]\n",
    "\n",
    "score_accuracy_mean_ml_train_ol_os = []\n",
    "score_recall_mean_ml_train_ol_os = []\n",
    "score_precision_mean_ml_train_ol_os = []\n",
    "score_f1_mean_ml_train_ol_os = []\n",
    "\n",
    "for i in model_machine_learning_3:\n",
    "    croval_classification_3 = StratifiedKFold(n_splits=2)\n",
    "    estimator_3 = Pipeline([\n",
    "        ('Processor',preprocessor),\n",
    "        ('balancing',RandomOverSampler()),\n",
    "        ('Model_Machine_Learning',i)])\n",
    "    \n",
    "    model_crossval_acc_train_ol_os = cross_val_score(estimator_3,X_train_OL,y_train_OL,cv=croval_classification_3,scoring='accuracy')\n",
    "    model_crossval_recall_train_ol_os = cross_val_score(estimator_3,X_train_OL,y_train_OL,cv=croval_classification_3,scoring='recall')\n",
    "    model_crossval_precision_train_ol_os = cross_val_score(estimator_3,X_train_OL,y_train_OL,cv=croval_classification_3,scoring='precision')\n",
    "    model_crossval_f1_train_ol_os = cross_val_score(estimator_3,X_train_OL,y_train_OL,cv=croval_classification_3,scoring='f1')\n",
    "    \n",
    "    score_accuracy_mean_ml_train_ol_os.append(model_crossval_acc_train_ol_os.mean())\n",
    "    score_recall_mean_ml_train_ol_os.append(model_crossval_recall_train_ol_os.mean())\n",
    "    score_precision_mean_ml_train_ol_os.append(model_crossval_precision_train_ol_os.mean())\n",
    "    score_f1_mean_ml_train_ol_os.append(model_crossval_f1_train_ol_os.mean())\n",
    "    \n",
    "    print(model_crossval_acc_train_ol_os, i)\n",
    "    print(model_crossval_precision_train_ol_os, i)\n",
    "    print(model_crossval_recall_train_ol_os, i)\n",
    "    print(model_crossval_f1_train_ol_os, i)"
   ]
  },
  {
   "cell_type": "code",
   "execution_count": 45,
   "metadata": {},
   "outputs": [
    {
     "name": "stdout",
     "output_type": "stream",
     "text": [
      "Score Training Non Outlier OS:\n"
     ]
    },
    {
     "data": {
      "text/html": [
       "<div>\n",
       "<style scoped>\n",
       "    .dataframe tbody tr th:only-of-type {\n",
       "        vertical-align: middle;\n",
       "    }\n",
       "\n",
       "    .dataframe tbody tr th {\n",
       "        vertical-align: top;\n",
       "    }\n",
       "\n",
       "    .dataframe thead th {\n",
       "        text-align: right;\n",
       "    }\n",
       "</style>\n",
       "<table border=\"1\" class=\"dataframe\">\n",
       "  <thead>\n",
       "    <tr style=\"text-align: right;\">\n",
       "      <th></th>\n",
       "      <th>Model</th>\n",
       "      <th>Score Accuracy Non Outlier OS</th>\n",
       "      <th>Score Precision Non Outlier OS</th>\n",
       "      <th>Score Recall Non Outlier OS</th>\n",
       "      <th>Score F1 Non Outlier OS</th>\n",
       "    </tr>\n",
       "  </thead>\n",
       "  <tbody>\n",
       "    <tr>\n",
       "      <th>0</th>\n",
       "      <td>Training Model KNN Regressor Non Outlier OS</td>\n",
       "      <td>0.956476</td>\n",
       "      <td>0.827607</td>\n",
       "      <td>0.455560</td>\n",
       "      <td>0.587647</td>\n",
       "    </tr>\n",
       "    <tr>\n",
       "      <th>1</th>\n",
       "      <td>Training Model DecisionTree Regressor Non Outl...</td>\n",
       "      <td>0.961647</td>\n",
       "      <td>0.464133</td>\n",
       "      <td>0.491267</td>\n",
       "      <td>0.474808</td>\n",
       "    </tr>\n",
       "    <tr>\n",
       "      <th>2</th>\n",
       "      <td>Training Model RandomForest Regressor Non Outl...</td>\n",
       "      <td>0.962532</td>\n",
       "      <td>0.602681</td>\n",
       "      <td>0.496544</td>\n",
       "      <td>0.544296</td>\n",
       "    </tr>\n",
       "    <tr>\n",
       "      <th>3</th>\n",
       "      <td>Training Model XGBoost Regressor Non Outlier OS</td>\n",
       "      <td>0.954610</td>\n",
       "      <td>0.989143</td>\n",
       "      <td>0.452136</td>\n",
       "      <td>0.620059</td>\n",
       "    </tr>\n",
       "  </tbody>\n",
       "</table>\n",
       "</div>"
      ],
      "text/plain": [
       "                                               Model  \\\n",
       "0        Training Model KNN Regressor Non Outlier OS   \n",
       "1  Training Model DecisionTree Regressor Non Outl...   \n",
       "2  Training Model RandomForest Regressor Non Outl...   \n",
       "3    Training Model XGBoost Regressor Non Outlier OS   \n",
       "\n",
       "   Score Accuracy Non Outlier OS  Score Precision Non Outlier OS  \\\n",
       "0                       0.956476                        0.827607   \n",
       "1                       0.961647                        0.464133   \n",
       "2                       0.962532                        0.602681   \n",
       "3                       0.954610                        0.989143   \n",
       "\n",
       "   Score Recall Non Outlier OS  Score F1 Non Outlier OS  \n",
       "0                     0.455560                 0.587647  \n",
       "1                     0.491267                 0.474808  \n",
       "2                     0.496544                 0.544296  \n",
       "3                     0.452136                 0.620059  "
      ]
     },
     "execution_count": 45,
     "metadata": {},
     "output_type": "execute_result"
    }
   ],
   "source": [
    "score_training_non_ol_os = pd.DataFrame({ 'Model': ['Training Model KNN Regressor Non Outlier OS', 'Training Model DecisionTree Regressor Non Outlier OS', 'Training Model RandomForest Regressor Non Outlier OS', 'Training Model XGBoost Regressor Non Outlier OS'],\n",
    "    'Score Accuracy Non Outlier OS': score_accuracy_mean_ml_train_ol_os,\n",
    "    'Score Precision Non Outlier OS': score_recall_mean_ml_train_ol_os,\n",
    "    'Score Recall Non Outlier OS': score_precision_mean_ml_train_ol_os,\n",
    "    'Score F1 Non Outlier OS': score_f1_mean_ml_train_ol_os})\n",
    "print('Score Training Non Outlier OS:')\n",
    "score_training_non_ol_os"
   ]
  },
  {
   "cell_type": "code",
   "execution_count": 46,
   "metadata": {},
   "outputs": [
    {
     "name": "stdout",
     "output_type": "stream",
     "text": [
      "[0.95596426 0.95659724] KNeighborsClassifier()\n",
      "[0.45229401 0.45584648] KNeighborsClassifier()\n",
      "[0.83037015 0.81696298] KNeighborsClassifier()\n",
      "[0.58561151 0.58517745] KNeighborsClassifier()\n",
      "[0.96158887 0.96210177] DecisionTreeClassifier()\n",
      "[0.49140049 0.49176623] DecisionTreeClassifier()\n",
      "[0.4622559  0.45875838] DecisionTreeClassifier()\n",
      "[0.48079786 0.46132931] DecisionTreeClassifier()\n",
      "[0.96240799 0.96262601] RandomForestClassifier()\n",
      "[0.49383325 0.49880211] RandomForestClassifier()\n",
      "[0.58729233 0.60448849] RandomForestClassifier()\n",
      "[0.54066986 0.54841677] RandomForestClassifier()\n",
      "[0.95539634 0.95560337] XGBClassifier(base_score=None, booster=None, callbacks=None,\n",
      "              colsample_bylevel=None, colsample_bynode=None,\n",
      "              colsample_bytree=None, early_stopping_rounds=None,\n",
      "              enable_categorical=False, eval_metric=None, gamma=None,\n",
      "              gpu_id=None, grow_policy=None, importance_type=None,\n",
      "              interaction_constraints=None, learning_rate=None, max_bin=None,\n",
      "              max_cat_to_onehot=None, max_delta_step=None, max_depth=None,\n",
      "              max_leaves=None, min_child_weight=None, missing=nan,\n",
      "              monotone_constraints=None, n_estimators=100, n_jobs=None,\n",
      "              num_parallel_tree=None, predictor=None, random_state=None,\n",
      "              reg_alpha=None, reg_lambda=None, ...)\n",
      "[0.45587223 0.45585158] XGBClassifier(base_score=None, booster=None, callbacks=None,\n",
      "              colsample_bylevel=None, colsample_bynode=None,\n",
      "              colsample_bytree=None, early_stopping_rounds=None,\n",
      "              enable_categorical=False, eval_metric=None, gamma=None,\n",
      "              gpu_id=None, grow_policy=None, importance_type=None,\n",
      "              interaction_constraints=None, learning_rate=None, max_bin=None,\n",
      "              max_cat_to_onehot=None, max_delta_step=None, max_depth=None,\n",
      "              max_leaves=None, min_child_weight=None, missing=nan,\n",
      "              monotone_constraints=None, n_estimators=100, n_jobs=None,\n",
      "              num_parallel_tree=None, predictor=None, random_state=None,\n",
      "              reg_alpha=None, reg_lambda=None, ...)\n",
      "[0.94666278 0.948703  ] XGBClassifier(base_score=None, booster=None, callbacks=None,\n",
      "              colsample_bylevel=None, colsample_bynode=None,\n",
      "              colsample_bytree=None, early_stopping_rounds=None,\n",
      "              enable_categorical=False, eval_metric=None, gamma=None,\n",
      "              gpu_id=None, grow_policy=None, importance_type=None,\n",
      "              interaction_constraints=None, learning_rate=None, max_bin=None,\n",
      "              max_cat_to_onehot=None, max_delta_step=None, max_depth=None,\n",
      "              max_leaves=None, min_child_weight=None, missing=nan,\n",
      "              monotone_constraints=None, n_estimators=100, n_jobs=None,\n",
      "              num_parallel_tree=None, predictor=None, random_state=None,\n",
      "              reg_alpha=None, reg_lambda=None, ...)\n",
      "[0.61816141 0.61708981] XGBClassifier(base_score=None, booster=None, callbacks=None,\n",
      "              colsample_bylevel=None, colsample_bynode=None,\n",
      "              colsample_bytree=None, early_stopping_rounds=None,\n",
      "              enable_categorical=False, eval_metric=None, gamma=None,\n",
      "              gpu_id=None, grow_policy=None, importance_type=None,\n",
      "              interaction_constraints=None, learning_rate=None, max_bin=None,\n",
      "              max_cat_to_onehot=None, max_delta_step=None, max_depth=None,\n",
      "              max_leaves=None, min_child_weight=None, missing=nan,\n",
      "              monotone_constraints=None, n_estimators=100, n_jobs=None,\n",
      "              num_parallel_tree=None, predictor=None, random_state=None,\n",
      "              reg_alpha=None, reg_lambda=None, ...)\n"
     ]
    }
   ],
   "source": [
    "model_machine_learning_3 = [model_knn_ol,model_dt_ol, model_rf_ol, model_xgb_ol]\n",
    "\n",
    "score_accuracy_mean_ml_test_ol_os = []\n",
    "score_recall_mean_ml_test_ol_os = []\n",
    "score_precision_mean_ml_test_ol_os = []\n",
    "score_f1_mean_ml_test_ol_os = []\n",
    "\n",
    "for i in model_machine_learning_3:\n",
    "    croval_classification_3 = StratifiedKFold(n_splits=2)\n",
    "    estimator_3 = Pipeline([\n",
    "        ('Processor',preprocessor),\n",
    "        ('balancing',RandomOverSampler()),\n",
    "        ('Model_Machine_Learning',i)])\n",
    "    \n",
    "    model_crossval_acc_test_ol_os = cross_val_score(estimator_3,X_test_OL,y_test_OL,cv=croval_classification_3,scoring='accuracy')\n",
    "    model_crossval_recall_test_ol_os = cross_val_score(estimator_3,X_test_OL,y_test_OL,cv=croval_classification_3,scoring='recall')\n",
    "    model_crossval_precision_test_ol_os = cross_val_score(estimator_3,X_test_OL,y_test_OL,cv=croval_classification_3,scoring='precision')\n",
    "    model_crossval_f1_test_ol_os = cross_val_score(estimator_3,X_test_OL,y_test_OL,cv=croval_classification_3,scoring='f1')\n",
    "    \n",
    "    score_accuracy_mean_ml_test_ol_os.append(model_crossval_acc_test_ol_os.mean())\n",
    "    score_recall_mean_ml_test_ol_os.append(model_crossval_recall_test_ol_os.mean())\n",
    "    score_precision_mean_ml_test_ol_os.append(model_crossval_precision_test_ol_os.mean())\n",
    "    score_f1_mean_ml_test_ol_os.append(model_crossval_f1_test_ol_os.mean())\n",
    "    \n",
    "    print(model_crossval_acc_test_ol_os, i)\n",
    "    print(model_crossval_precision_test_ol_os, i)\n",
    "    print(model_crossval_recall_test_ol_os, i)\n",
    "    print(model_crossval_f1_test_ol_os, i)"
   ]
  },
  {
   "cell_type": "code",
   "execution_count": 47,
   "metadata": {},
   "outputs": [
    {
     "name": "stdout",
     "output_type": "stream",
     "text": [
      "Score Testing Non Outlier OS:\n"
     ]
    },
    {
     "data": {
      "text/html": [
       "<div>\n",
       "<style scoped>\n",
       "    .dataframe tbody tr th:only-of-type {\n",
       "        vertical-align: middle;\n",
       "    }\n",
       "\n",
       "    .dataframe tbody tr th {\n",
       "        vertical-align: top;\n",
       "    }\n",
       "\n",
       "    .dataframe thead th {\n",
       "        text-align: right;\n",
       "    }\n",
       "</style>\n",
       "<table border=\"1\" class=\"dataframe\">\n",
       "  <thead>\n",
       "    <tr style=\"text-align: right;\">\n",
       "      <th></th>\n",
       "      <th>Model</th>\n",
       "      <th>Score Accuracy Non Outlier OS</th>\n",
       "      <th>Score Precision Non Outlier OS</th>\n",
       "      <th>Score Recall Non Outlier OS</th>\n",
       "      <th>Score F1 Non Outlier OS</th>\n",
       "    </tr>\n",
       "  </thead>\n",
       "  <tbody>\n",
       "    <tr>\n",
       "      <th>0</th>\n",
       "      <td>Testing Model KNN Regressor Non Outlier OS</td>\n",
       "      <td>0.956281</td>\n",
       "      <td>0.823667</td>\n",
       "      <td>0.454070</td>\n",
       "      <td>0.585394</td>\n",
       "    </tr>\n",
       "    <tr>\n",
       "      <th>1</th>\n",
       "      <td>Testing Model DecisionTree Regressor Non Outli...</td>\n",
       "      <td>0.961845</td>\n",
       "      <td>0.460507</td>\n",
       "      <td>0.491583</td>\n",
       "      <td>0.471064</td>\n",
       "    </tr>\n",
       "    <tr>\n",
       "      <th>2</th>\n",
       "      <td>Testing Model RandomForest Regressor Non Outli...</td>\n",
       "      <td>0.962517</td>\n",
       "      <td>0.595890</td>\n",
       "      <td>0.496318</td>\n",
       "      <td>0.544543</td>\n",
       "    </tr>\n",
       "    <tr>\n",
       "      <th>3</th>\n",
       "      <td>Testing Model XGBoost Regressor Non Outlier OS</td>\n",
       "      <td>0.955500</td>\n",
       "      <td>0.947683</td>\n",
       "      <td>0.455862</td>\n",
       "      <td>0.617626</td>\n",
       "    </tr>\n",
       "  </tbody>\n",
       "</table>\n",
       "</div>"
      ],
      "text/plain": [
       "                                               Model  \\\n",
       "0         Testing Model KNN Regressor Non Outlier OS   \n",
       "1  Testing Model DecisionTree Regressor Non Outli...   \n",
       "2  Testing Model RandomForest Regressor Non Outli...   \n",
       "3     Testing Model XGBoost Regressor Non Outlier OS   \n",
       "\n",
       "   Score Accuracy Non Outlier OS  Score Precision Non Outlier OS  \\\n",
       "0                       0.956281                        0.823667   \n",
       "1                       0.961845                        0.460507   \n",
       "2                       0.962517                        0.595890   \n",
       "3                       0.955500                        0.947683   \n",
       "\n",
       "   Score Recall Non Outlier OS  Score F1 Non Outlier OS  \n",
       "0                     0.454070                 0.585394  \n",
       "1                     0.491583                 0.471064  \n",
       "2                     0.496318                 0.544543  \n",
       "3                     0.455862                 0.617626  "
      ]
     },
     "execution_count": 47,
     "metadata": {},
     "output_type": "execute_result"
    }
   ],
   "source": [
    "score_testing_non_ol_os = pd.DataFrame({ 'Model': ['Testing Model KNN Regressor Non Outlier OS', 'Testing Model DecisionTree Regressor Non Outlier OS', 'Testing Model RandomForest Regressor Non Outlier OS', 'Testing Model XGBoost Regressor Non Outlier OS'],\n",
    "    'Score Accuracy Non Outlier OS': score_accuracy_mean_ml_test_ol_os,\n",
    "    'Score Precision Non Outlier OS': score_recall_mean_ml_test_ol_os,\n",
    "    'Score Recall Non Outlier OS': score_precision_mean_ml_test_ol_os,\n",
    "    'Score F1 Non Outlier OS': score_f1_mean_ml_test_ol_os})\n",
    "print('Score Testing Non Outlier OS:')\n",
    "score_testing_non_ol_os"
   ]
  },
  {
   "cell_type": "markdown",
   "metadata": {},
   "source": [
    "##### **MACHINE LEARNING WITH SMOTE**"
   ]
  },
  {
   "cell_type": "code",
   "execution_count": 48,
   "metadata": {},
   "outputs": [
    {
     "name": "stdout",
     "output_type": "stream",
     "text": [
      "[0.95501111 0.95513386] KNeighborsClassifier()\n",
      "[0.44932966 0.4502911 ] KNeighborsClassifier()\n",
      "[0.89056466 0.88538327] KNeighborsClassifier()\n",
      "[0.59751989 0.59801154] KNeighborsClassifier()\n",
      "[0.95755039 0.95771683] DecisionTreeClassifier()\n",
      "[0.46080176 0.46131467] DecisionTreeClassifier()\n",
      "[0.79118397 0.79787234] DecisionTreeClassifier()\n",
      "[0.58416319 0.58546473] DecisionTreeClassifier()\n",
      "[0.95469985 0.95488539] RandomForestClassifier()\n",
      "[0.45180621 0.45252095] RandomForestClassifier()\n",
      "[0.97894353 0.97631886] RandomForestClassifier()\n",
      "[0.61753061 0.61834231] RandomForestClassifier()\n",
      "[0.95447868 0.95458778] XGBClassifier(base_score=None, booster=None, callbacks=None,\n",
      "              colsample_bylevel=None, colsample_bynode=None,\n",
      "              colsample_bytree=None, early_stopping_rounds=None,\n",
      "              enable_categorical=False, eval_metric=None, gamma=None,\n",
      "              gpu_id=None, grow_policy=None, importance_type=None,\n",
      "              interaction_constraints=None, learning_rate=None, max_bin=None,\n",
      "              max_cat_to_onehot=None, max_delta_step=None, max_depth=None,\n",
      "              max_leaves=None, min_child_weight=None, missing=nan,\n",
      "              monotone_constraints=None, n_estimators=100, n_jobs=None,\n",
      "              num_parallel_tree=None, predictor=None, random_state=None,\n",
      "              reg_alpha=None, reg_lambda=None, ...)\n",
      "[0.45120175 0.45197347] XGBClassifier(base_score=None, booster=None, callbacks=None,\n",
      "              colsample_bylevel=None, colsample_bynode=None,\n",
      "              colsample_bytree=None, early_stopping_rounds=None,\n",
      "              enable_categorical=False, eval_metric=None, gamma=None,\n",
      "              gpu_id=None, grow_policy=None, importance_type=None,\n",
      "              interaction_constraints=None, learning_rate=None, max_bin=None,\n",
      "              max_cat_to_onehot=None, max_delta_step=None, max_depth=None,\n",
      "              max_leaves=None, min_child_weight=None, missing=nan,\n",
      "              monotone_constraints=None, n_estimators=100, n_jobs=None,\n",
      "              num_parallel_tree=None, predictor=None, random_state=None,\n",
      "              reg_alpha=None, reg_lambda=None, ...)\n",
      "[0.99315118 0.99234917] XGBClassifier(base_score=None, booster=None, callbacks=None,\n",
      "              colsample_bylevel=None, colsample_bynode=None,\n",
      "              colsample_bytree=None, early_stopping_rounds=None,\n",
      "              enable_categorical=False, eval_metric=None, gamma=None,\n",
      "              gpu_id=None, grow_policy=None, importance_type=None,\n",
      "              interaction_constraints=None, learning_rate=None, max_bin=None,\n",
      "              max_cat_to_onehot=None, max_delta_step=None, max_depth=None,\n",
      "              max_leaves=None, min_child_weight=None, missing=nan,\n",
      "              monotone_constraints=None, n_estimators=100, n_jobs=None,\n",
      "              num_parallel_tree=None, predictor=None, random_state=None,\n",
      "              reg_alpha=None, reg_lambda=None, ...)\n",
      "[0.62003919 0.62090967] XGBClassifier(base_score=None, booster=None, callbacks=None,\n",
      "              colsample_bylevel=None, colsample_bynode=None,\n",
      "              colsample_bytree=None, early_stopping_rounds=None,\n",
      "              enable_categorical=False, eval_metric=None, gamma=None,\n",
      "              gpu_id=None, grow_policy=None, importance_type=None,\n",
      "              interaction_constraints=None, learning_rate=None, max_bin=None,\n",
      "              max_cat_to_onehot=None, max_delta_step=None, max_depth=None,\n",
      "              max_leaves=None, min_child_weight=None, missing=nan,\n",
      "              monotone_constraints=None, n_estimators=100, n_jobs=None,\n",
      "              num_parallel_tree=None, predictor=None, random_state=None,\n",
      "              reg_alpha=None, reg_lambda=None, ...)\n"
     ]
    }
   ],
   "source": [
    "model_machine_learning_4 = [model_knn_ol,model_dt_ol, model_rf_ol, model_xgb_ol]\n",
    "\n",
    "score_accuracy_mean_ml_train_ol_smote = []\n",
    "score_recall_mean_ml_train_ol_smote = []\n",
    "score_precision_mean_ml_train_ol_smote = []\n",
    "score_f1_mean_ml_train_ol_smote = []\n",
    "\n",
    "for i in model_machine_learning_4:\n",
    "    croval_classification_4 = StratifiedKFold(n_splits=2)\n",
    "    estimator_4 = Pipeline([\n",
    "        ('Processor',preprocessor),\n",
    "        ('balancing',SMOTE()),\n",
    "        ('Model_Machine_Learning',i)])\n",
    "    \n",
    "    model_crossval_acc_train_ol_smote = cross_val_score(estimator_4,X_train_OL,y_train_OL,cv=croval_classification_4,scoring='accuracy')\n",
    "    model_crossval_recall_train_ol_smote = cross_val_score(estimator_4,X_train_OL,y_train_OL,cv=croval_classification_4,scoring='recall')\n",
    "    model_crossval_precision_train_ol_smote = cross_val_score(estimator_4,X_train_OL,y_train_OL,cv=croval_classification_4,scoring='precision')\n",
    "    model_crossval_f1_train_ol_smote = cross_val_score(estimator_4,X_train_OL,y_train_OL,cv=croval_classification_4,scoring='f1')\n",
    "    \n",
    "    score_accuracy_mean_ml_train_ol_smote.append(model_crossval_acc_train_ol_smote.mean())\n",
    "    score_recall_mean_ml_train_ol_smote.append(model_crossval_recall_train_ol_smote.mean())\n",
    "    score_precision_mean_ml_train_ol_smote.append(model_crossval_precision_train_ol_smote.mean())\n",
    "    score_f1_mean_ml_train_ol_smote.append(model_crossval_f1_train_ol_smote.mean())\n",
    "    \n",
    "    print(model_crossval_acc_train_ol_smote, i)\n",
    "    print(model_crossval_precision_train_ol_smote, i)\n",
    "    print(model_crossval_recall_train_ol_smote, i)\n",
    "    print(model_crossval_f1_train_ol_smote, i)"
   ]
  },
  {
   "cell_type": "code",
   "execution_count": 49,
   "metadata": {},
   "outputs": [
    {
     "name": "stdout",
     "output_type": "stream",
     "text": [
      "Score Training Non Outlier Smote:\n"
     ]
    },
    {
     "data": {
      "text/html": [
       "<div>\n",
       "<style scoped>\n",
       "    .dataframe tbody tr th:only-of-type {\n",
       "        vertical-align: middle;\n",
       "    }\n",
       "\n",
       "    .dataframe tbody tr th {\n",
       "        vertical-align: top;\n",
       "    }\n",
       "\n",
       "    .dataframe thead th {\n",
       "        text-align: right;\n",
       "    }\n",
       "</style>\n",
       "<table border=\"1\" class=\"dataframe\">\n",
       "  <thead>\n",
       "    <tr style=\"text-align: right;\">\n",
       "      <th></th>\n",
       "      <th>Model</th>\n",
       "      <th>Score Accuracy Non Outlier Smote</th>\n",
       "      <th>Score Precision Non Outlier Smote</th>\n",
       "      <th>Score Recall Non Outlier Smote</th>\n",
       "      <th>Score F1 Non Outlier Smote</th>\n",
       "    </tr>\n",
       "  </thead>\n",
       "  <tbody>\n",
       "    <tr>\n",
       "      <th>0</th>\n",
       "      <td>Training Model KNN Regressor Non Outlier Smote</td>\n",
       "      <td>0.955072</td>\n",
       "      <td>0.887974</td>\n",
       "      <td>0.449810</td>\n",
       "      <td>0.597766</td>\n",
       "    </tr>\n",
       "    <tr>\n",
       "      <th>1</th>\n",
       "      <td>Training Model DecisionTree Regressor Non Outl...</td>\n",
       "      <td>0.957634</td>\n",
       "      <td>0.794528</td>\n",
       "      <td>0.461058</td>\n",
       "      <td>0.584814</td>\n",
       "    </tr>\n",
       "    <tr>\n",
       "      <th>2</th>\n",
       "      <td>Training Model RandomForest Regressor Non Outl...</td>\n",
       "      <td>0.954793</td>\n",
       "      <td>0.977631</td>\n",
       "      <td>0.452164</td>\n",
       "      <td>0.617936</td>\n",
       "    </tr>\n",
       "    <tr>\n",
       "      <th>3</th>\n",
       "      <td>Training Model XGBoost Regressor Non Outlier S...</td>\n",
       "      <td>0.954533</td>\n",
       "      <td>0.992750</td>\n",
       "      <td>0.451588</td>\n",
       "      <td>0.620474</td>\n",
       "    </tr>\n",
       "  </tbody>\n",
       "</table>\n",
       "</div>"
      ],
      "text/plain": [
       "                                               Model  \\\n",
       "0     Training Model KNN Regressor Non Outlier Smote   \n",
       "1  Training Model DecisionTree Regressor Non Outl...   \n",
       "2  Training Model RandomForest Regressor Non Outl...   \n",
       "3  Training Model XGBoost Regressor Non Outlier S...   \n",
       "\n",
       "   Score Accuracy Non Outlier Smote  Score Precision Non Outlier Smote  \\\n",
       "0                          0.955072                           0.887974   \n",
       "1                          0.957634                           0.794528   \n",
       "2                          0.954793                           0.977631   \n",
       "3                          0.954533                           0.992750   \n",
       "\n",
       "   Score Recall Non Outlier Smote  Score F1 Non Outlier Smote  \n",
       "0                        0.449810                    0.597766  \n",
       "1                        0.461058                    0.584814  \n",
       "2                        0.452164                    0.617936  \n",
       "3                        0.451588                    0.620474  "
      ]
     },
     "execution_count": 49,
     "metadata": {},
     "output_type": "execute_result"
    }
   ],
   "source": [
    "score_training_non_ol_smote = pd.DataFrame({ 'Model': ['Training Model KNN Regressor Non Outlier Smote', 'Training Model DecisionTree Regressor Non Outlier Smote', 'Training Model RandomForest Regressor Non Outlier Smote', 'Training Model XGBoost Regressor Non Outlier Smote'],\n",
    "    'Score Accuracy Non Outlier Smote': score_accuracy_mean_ml_train_ol_smote,\n",
    "    'Score Precision Non Outlier Smote': score_recall_mean_ml_train_ol_smote,\n",
    "    'Score Recall Non Outlier Smote': score_precision_mean_ml_train_ol_smote,\n",
    "    'Score F1 Non Outlier Smote': score_f1_mean_ml_train_ol_smote})\n",
    "print('Score Training Non Outlier Smote:')\n",
    "score_training_non_ol_smote"
   ]
  },
  {
   "cell_type": "code",
   "execution_count": 50,
   "metadata": {},
   "outputs": [
    {
     "name": "stdout",
     "output_type": "stream",
     "text": [
      "[0.95473013 0.95471871] KNeighborsClassifier()\n",
      "[0.44605687 0.44845514] KNeighborsClassifier()\n",
      "[0.8901195  0.87496357] KNeighborsClassifier()\n",
      "[0.59502196 0.59294998] KNeighborsClassifier()\n",
      "[0.95788646 0.95794061] DecisionTreeClassifier()\n",
      "[0.46681842 0.46007339] DecisionTreeClassifier()\n",
      "[0.76770621 0.76479161] DecisionTreeClassifier()\n",
      "[0.57555049 0.57597212] DecisionTreeClassifier()\n",
      "[0.95546187 0.95519927] RandomForestClassifier()\n",
      "[0.4544575  0.45359386] RandomForestClassifier()\n",
      "[0.95540659 0.95511513] RandomForestClassifier()\n",
      "[0.61747864 0.61510994] RandomForestClassifier()\n",
      "[0.95507962 0.95502452] XGBClassifier(base_score=None, booster=None, callbacks=None,\n",
      "              colsample_bylevel=None, colsample_bynode=None,\n",
      "              colsample_bytree=None, early_stopping_rounds=None,\n",
      "              enable_categorical=False, eval_metric=None, gamma=None,\n",
      "              gpu_id=None, grow_policy=None, importance_type=None,\n",
      "              interaction_constraints=None, learning_rate=None, max_bin=None,\n",
      "              max_cat_to_onehot=None, max_delta_step=None, max_depth=None,\n",
      "              max_leaves=None, min_child_weight=None, missing=nan,\n",
      "              monotone_constraints=None, n_estimators=100, n_jobs=None,\n",
      "              num_parallel_tree=None, predictor=None, random_state=None,\n",
      "              reg_alpha=None, reg_lambda=None, ...)\n",
      "[0.45339845 0.45194664] XGBClassifier(base_score=None, booster=None, callbacks=None,\n",
      "              colsample_bylevel=None, colsample_bynode=None,\n",
      "              colsample_bytree=None, early_stopping_rounds=None,\n",
      "              enable_categorical=False, eval_metric=None, gamma=None,\n",
      "              gpu_id=None, grow_policy=None, importance_type=None,\n",
      "              interaction_constraints=None, learning_rate=None, max_bin=None,\n",
      "              max_cat_to_onehot=None, max_delta_step=None, max_depth=None,\n",
      "              max_leaves=None, min_child_weight=None, missing=nan,\n",
      "              monotone_constraints=None, n_estimators=100, n_jobs=None,\n",
      "              num_parallel_tree=None, predictor=None, random_state=None,\n",
      "              reg_alpha=None, reg_lambda=None, ...)\n",
      "[0.97551734 0.97027106] XGBClassifier(base_score=None, booster=None, callbacks=None,\n",
      "              colsample_bylevel=None, colsample_bynode=None,\n",
      "              colsample_bytree=None, early_stopping_rounds=None,\n",
      "              enable_categorical=False, eval_metric=None, gamma=None,\n",
      "              gpu_id=None, grow_policy=None, importance_type=None,\n",
      "              interaction_constraints=None, learning_rate=None, max_bin=None,\n",
      "              max_cat_to_onehot=None, max_delta_step=None, max_depth=None,\n",
      "              max_leaves=None, min_child_weight=None, missing=nan,\n",
      "              monotone_constraints=None, n_estimators=100, n_jobs=None,\n",
      "              num_parallel_tree=None, predictor=None, random_state=None,\n",
      "              reg_alpha=None, reg_lambda=None, ...)\n",
      "[0.61857196 0.61695229] XGBClassifier(base_score=None, booster=None, callbacks=None,\n",
      "              colsample_bylevel=None, colsample_bynode=None,\n",
      "              colsample_bytree=None, early_stopping_rounds=None,\n",
      "              enable_categorical=False, eval_metric=None, gamma=None,\n",
      "              gpu_id=None, grow_policy=None, importance_type=None,\n",
      "              interaction_constraints=None, learning_rate=None, max_bin=None,\n",
      "              max_cat_to_onehot=None, max_delta_step=None, max_depth=None,\n",
      "              max_leaves=None, min_child_weight=None, missing=nan,\n",
      "              monotone_constraints=None, n_estimators=100, n_jobs=None,\n",
      "              num_parallel_tree=None, predictor=None, random_state=None,\n",
      "              reg_alpha=None, reg_lambda=None, ...)\n"
     ]
    }
   ],
   "source": [
    "model_machine_learning_4 = [model_knn_ol,model_dt_ol, model_rf_ol, model_xgb_ol]\n",
    "\n",
    "score_accuracy_mean_ml_test_ol_smote = []\n",
    "score_recall_mean_ml_test_ol_smote = []\n",
    "score_precision_mean_ml_test_ol_smote = []\n",
    "score_f1_mean_ml_test_ol_smote = []\n",
    "\n",
    "for i in model_machine_learning_4:\n",
    "    croval_classification_4 = StratifiedKFold(n_splits=2)\n",
    "    estimator_4 = Pipeline([\n",
    "        ('Processor',preprocessor),\n",
    "        ('balancing',SMOTE()),\n",
    "        ('Model_Machine_Learning',i)])\n",
    "    \n",
    "    model_crossval_acc_test_ol_smote = cross_val_score(estimator_4,X_test_OL,y_test_OL,cv=croval_classification_4,scoring='accuracy')\n",
    "    model_crossval_recall_test_ol_smote = cross_val_score(estimator_4,X_test_OL,y_test_OL,cv=croval_classification_4,scoring='recall')\n",
    "    model_crossval_precision_test_ol_smote = cross_val_score(estimator_4,X_test_OL,y_test_OL,cv=croval_classification_4,scoring='precision')\n",
    "    model_crossval_f1_test_ol_smote = cross_val_score(estimator_4,X_test_OL,y_test_OL,cv=croval_classification_4,scoring='f1')\n",
    "    \n",
    "    score_accuracy_mean_ml_test_ol_smote.append(model_crossval_acc_test_ol_smote.mean())\n",
    "    score_recall_mean_ml_test_ol_smote.append(model_crossval_recall_test_ol_smote.mean())\n",
    "    score_precision_mean_ml_test_ol_smote.append(model_crossval_precision_test_ol_smote.mean())\n",
    "    score_f1_mean_ml_test_ol_smote.append(model_crossval_f1_test_ol_smote.mean())\n",
    "    \n",
    "    print(model_crossval_acc_test_ol_smote, i)\n",
    "    print(model_crossval_precision_test_ol_smote, i)\n",
    "    print(model_crossval_recall_test_ol_smote, i)\n",
    "    print(model_crossval_f1_test_ol_smote, i)"
   ]
  },
  {
   "cell_type": "markdown",
   "metadata": {},
   "source": [
    "##### PERBANDINGAN MODELING MACHINE LEARNING"
   ]
  },
  {
   "cell_type": "code",
   "execution_count": 51,
   "metadata": {},
   "outputs": [
    {
     "name": "stdout",
     "output_type": "stream",
     "text": [
      "Score Training VS Score Testing:\n"
     ]
    },
    {
     "data": {
      "text/html": [
       "<div>\n",
       "<style scoped>\n",
       "    .dataframe tbody tr th:only-of-type {\n",
       "        vertical-align: middle;\n",
       "    }\n",
       "\n",
       "    .dataframe tbody tr th {\n",
       "        vertical-align: top;\n",
       "    }\n",
       "\n",
       "    .dataframe thead th {\n",
       "        text-align: right;\n",
       "    }\n",
       "</style>\n",
       "<table border=\"1\" class=\"dataframe\">\n",
       "  <thead>\n",
       "    <tr style=\"text-align: right;\">\n",
       "      <th></th>\n",
       "      <th>Model</th>\n",
       "      <th>Score F1 Train</th>\n",
       "      <th>Score F1 Test</th>\n",
       "      <th>Score F1 Train NoN Outlier</th>\n",
       "      <th>Score F1 Test NoN Outlier</th>\n",
       "      <th>Score F1 Train Non Outlier OS</th>\n",
       "      <th>Score F1 Test Non Outlier OS</th>\n",
       "      <th>Score F1 Train Non Outlier Smote</th>\n",
       "      <th>Score F1 Test Non OUtlier Smote</th>\n",
       "    </tr>\n",
       "  </thead>\n",
       "  <tbody>\n",
       "    <tr>\n",
       "      <th>0</th>\n",
       "      <td>Model KNN Regressor</td>\n",
       "      <td>0.606587</td>\n",
       "      <td>0.600218</td>\n",
       "      <td>0.475329</td>\n",
       "      <td>0.480589</td>\n",
       "      <td>0.587647</td>\n",
       "      <td>0.585394</td>\n",
       "      <td>0.597766</td>\n",
       "      <td>0.593986</td>\n",
       "    </tr>\n",
       "    <tr>\n",
       "      <th>1</th>\n",
       "      <td>Model DecisionTree Regressor</td>\n",
       "      <td>0.580768</td>\n",
       "      <td>0.581313</td>\n",
       "      <td>0.485492</td>\n",
       "      <td>0.483765</td>\n",
       "      <td>0.474808</td>\n",
       "      <td>0.471064</td>\n",
       "      <td>0.584814</td>\n",
       "      <td>0.575761</td>\n",
       "    </tr>\n",
       "    <tr>\n",
       "      <th>2</th>\n",
       "      <td>Model RandomForest Regressor</td>\n",
       "      <td>0.625889</td>\n",
       "      <td>0.622821</td>\n",
       "      <td>0.476271</td>\n",
       "      <td>0.472700</td>\n",
       "      <td>0.544296</td>\n",
       "      <td>0.544543</td>\n",
       "      <td>0.617936</td>\n",
       "      <td>0.616294</td>\n",
       "    </tr>\n",
       "    <tr>\n",
       "      <th>3</th>\n",
       "      <td>Model XGBoost Regressor</td>\n",
       "      <td>0.677482</td>\n",
       "      <td>0.657374</td>\n",
       "      <td>0.472266</td>\n",
       "      <td>0.464657</td>\n",
       "      <td>0.620059</td>\n",
       "      <td>0.617626</td>\n",
       "      <td>0.620474</td>\n",
       "      <td>0.617762</td>\n",
       "    </tr>\n",
       "  </tbody>\n",
       "</table>\n",
       "</div>"
      ],
      "text/plain": [
       "                          Model  Score F1 Train  Score F1 Test  \\\n",
       "0           Model KNN Regressor        0.606587       0.600218   \n",
       "1  Model DecisionTree Regressor        0.580768       0.581313   \n",
       "2  Model RandomForest Regressor        0.625889       0.622821   \n",
       "3       Model XGBoost Regressor        0.677482       0.657374   \n",
       "\n",
       "   Score F1 Train NoN Outlier  Score F1 Test NoN Outlier  \\\n",
       "0                    0.475329                   0.480589   \n",
       "1                    0.485492                   0.483765   \n",
       "2                    0.476271                   0.472700   \n",
       "3                    0.472266                   0.464657   \n",
       "\n",
       "   Score F1 Train Non Outlier OS  Score F1 Test Non Outlier OS  \\\n",
       "0                       0.587647                      0.585394   \n",
       "1                       0.474808                      0.471064   \n",
       "2                       0.544296                      0.544543   \n",
       "3                       0.620059                      0.617626   \n",
       "\n",
       "   Score F1 Train Non Outlier Smote  Score F1 Test Non OUtlier Smote  \n",
       "0                          0.597766                         0.593986  \n",
       "1                          0.584814                         0.575761  \n",
       "2                          0.617936                         0.616294  \n",
       "3                          0.620474                         0.617762  "
      ]
     },
     "execution_count": 51,
     "metadata": {},
     "output_type": "execute_result"
    }
   ],
   "source": [
    "score_train_test_ol_nol_os_smote = pd.DataFrame({ 'Model': ['Model KNN Regressor', 'Model DecisionTree Regressor', 'Model RandomForest Regressor', 'Model XGBoost Regressor'],\n",
    "    'Score F1 Train': score_f1_mean_ml_train,\n",
    "    'Score F1 Test': score_f1_mean_ml_test,\n",
    "    'Score F1 Train NoN Outlier': score_f1_mean_ml_train_ol,\n",
    "    'Score F1 Test NoN Outlier': score_f1_mean_ml_test_ol,\n",
    "    'Score F1 Train Non Outlier OS': score_f1_mean_ml_train_ol_os,\n",
    "    'Score F1 Test Non Outlier OS': score_f1_mean_ml_test_ol_os,\n",
    "    'Score F1 Train Non Outlier Smote':score_f1_mean_ml_train_ol_smote,\n",
    "    'Score F1 Test Non OUtlier Smote': score_f1_mean_ml_test_ol_smote})\n",
    "print('Score Training VS Score Testing:')\n",
    "score_train_test_ol_nol_os_smote"
   ]
  },
  {
   "cell_type": "code",
   "execution_count": 52,
   "metadata": {},
   "outputs": [
    {
     "name": "stdout",
     "output_type": "stream",
     "text": [
      "Score Testing:\n"
     ]
    },
    {
     "data": {
      "text/html": [
       "<div>\n",
       "<style scoped>\n",
       "    .dataframe tbody tr th:only-of-type {\n",
       "        vertical-align: middle;\n",
       "    }\n",
       "\n",
       "    .dataframe tbody tr th {\n",
       "        vertical-align: top;\n",
       "    }\n",
       "\n",
       "    .dataframe thead th {\n",
       "        text-align: right;\n",
       "    }\n",
       "</style>\n",
       "<table border=\"1\" class=\"dataframe\">\n",
       "  <thead>\n",
       "    <tr style=\"text-align: right;\">\n",
       "      <th></th>\n",
       "      <th>Model</th>\n",
       "      <th>Score F1 Test</th>\n",
       "      <th>Score F1 Test NoN Outlier</th>\n",
       "      <th>Score F1 Test Non Outlier OS</th>\n",
       "      <th>Score F1 Test Non Outlier Smote</th>\n",
       "    </tr>\n",
       "  </thead>\n",
       "  <tbody>\n",
       "    <tr>\n",
       "      <th>0</th>\n",
       "      <td>Model KNN Regressor</td>\n",
       "      <td>0.600218</td>\n",
       "      <td>0.480589</td>\n",
       "      <td>0.585394</td>\n",
       "      <td>0.593986</td>\n",
       "    </tr>\n",
       "    <tr>\n",
       "      <th>1</th>\n",
       "      <td>Model DecisionTree Regressor</td>\n",
       "      <td>0.581313</td>\n",
       "      <td>0.483765</td>\n",
       "      <td>0.471064</td>\n",
       "      <td>0.575761</td>\n",
       "    </tr>\n",
       "    <tr>\n",
       "      <th>2</th>\n",
       "      <td>Model RandomForest Regressor</td>\n",
       "      <td>0.622821</td>\n",
       "      <td>0.472700</td>\n",
       "      <td>0.544543</td>\n",
       "      <td>0.616294</td>\n",
       "    </tr>\n",
       "    <tr>\n",
       "      <th>3</th>\n",
       "      <td>Model XGBoost Regressor</td>\n",
       "      <td>0.657374</td>\n",
       "      <td>0.464657</td>\n",
       "      <td>0.617626</td>\n",
       "      <td>0.617762</td>\n",
       "    </tr>\n",
       "  </tbody>\n",
       "</table>\n",
       "</div>"
      ],
      "text/plain": [
       "                          Model  Score F1 Test  Score F1 Test NoN Outlier  \\\n",
       "0           Model KNN Regressor       0.600218                   0.480589   \n",
       "1  Model DecisionTree Regressor       0.581313                   0.483765   \n",
       "2  Model RandomForest Regressor       0.622821                   0.472700   \n",
       "3       Model XGBoost Regressor       0.657374                   0.464657   \n",
       "\n",
       "   Score F1 Test Non Outlier OS  Score F1 Test Non Outlier Smote  \n",
       "0                      0.585394                         0.593986  \n",
       "1                      0.471064                         0.575761  \n",
       "2                      0.544543                         0.616294  \n",
       "3                      0.617626                         0.617762  "
      ]
     },
     "execution_count": 52,
     "metadata": {},
     "output_type": "execute_result"
    }
   ],
   "source": [
    "score_test_ol_nol_os_smote = pd.DataFrame({ 'Model': ['Model KNN Regressor', 'Model DecisionTree Regressor', 'Model RandomForest Regressor', 'Model XGBoost Regressor'],\n",
    "    'Score F1 Test': score_f1_mean_ml_test,\n",
    "    'Score F1 Test NoN Outlier': score_f1_mean_ml_test_ol,\n",
    "    'Score F1 Test Non Outlier OS': score_f1_mean_ml_test_ol_os,\n",
    "    'Score F1 Test Non Outlier Smote': score_f1_mean_ml_test_ol_smote})\n",
    "print('Score Testing:')\n",
    "score_test_ol_nol_os_smote"
   ]
  },
  {
   "cell_type": "markdown",
   "metadata": {},
   "source": [
    "Dari hasil melakukan modeling data, terdapat base model dari data ini ada pada `Model XGBoost Regressor` yang memiliki skore test F1 score tertinggi pada kolom `Score F1 Test Non Outlier Smote`"
   ]
  },
  {
   "cell_type": "markdown",
   "metadata": {},
   "source": [
    "#### **HYPERPARAMETER TUNING XGBOOST**"
   ]
  },
  {
   "cell_type": "code",
   "execution_count": 82,
   "metadata": {},
   "outputs": [],
   "source": [
    "max_depth = list(np.arange(1, 11))\n",
    "learning_rate = list(np.arange(1, 100)/100)\n",
    "n_estimators = list(np.arange(100, 201))\n",
    "subsample = list(np.arange(2, 10)/10)\n",
    "gamma = list(np.arange(1, 11)) \n",
    "colsample_bytree = list(np.arange(1, 10)/10)\n",
    "reg_alpha = list(np.logspace(-3, 1, 10)) \n",
    "\n",
    "# Hyperparam space XGboost\n",
    "hyperparam_space_xgb = {\n",
    "    'model__max_depth': max_depth, \n",
    "    'model__learning_rate': learning_rate,\n",
    "    'model__n_estimators': n_estimators,\n",
    "    'model__subsample': subsample,\n",
    "    'model__gamma': gamma,\n",
    "    'model__colsample_bytree': colsample_bytree,\n",
    "    'model__reg_alpha': reg_alpha\n",
    "}"
   ]
  },
  {
   "cell_type": "code",
   "execution_count": 83,
   "metadata": {},
   "outputs": [],
   "source": [
    "estimator_xgb = Pipeline([ \n",
    "        ('preprocess', preprocessor),\n",
    "        ('balancing',SMOTE()), \n",
    "        ('model', model_xgb_ol)\n",
    "        ])\n",
    "\n",
    "skfold = StratifiedKFold(n_splits=5)\n",
    "\n",
    "random_xgb = RandomizedSearchCV(\n",
    "    estimator_xgb, \n",
    "    param_distributions = hyperparam_space_xgb,\n",
    "    n_iter = 50,\n",
    "    cv = skfold, \n",
    "    scoring = ['f1'], \n",
    "    n_jobs = -1,\n",
    "    refit = 'f1')"
   ]
  },
  {
   "cell_type": "code",
   "execution_count": 84,
   "metadata": {},
   "outputs": [],
   "source": [
    "random_xgb.fit(X_train_OL,y_train_OL)"
   ]
  },
  {
   "cell_type": "code",
   "execution_count": null,
   "metadata": {},
   "outputs": [
    {
     "name": "stdout",
     "output_type": "stream",
     "text": [
      "0.9999075\n",
      "{'colsample_bytree': 0.3, 'gamma': 0.00398107, 'learning_rate': 1.0, 'max_depth': 1, 'n_estimators': 201, 'reg_alpha': 1, 'reg_lambda': 100, 'subsample': 0.3}\n"
     ]
    }
   ],
   "source": [
    "print(random_xgb.best_score_)\n",
    "print(random_xgb.best_params_)"
   ]
  }
 ],
 "metadata": {
  "kernelspec": {
   "display_name": "Python 3.10.4 64-bit",
   "language": "python",
   "name": "python3"
  },
  "language_info": {
   "codemirror_mode": {
    "name": "ipython",
    "version": 3
   },
   "file_extension": ".py",
   "mimetype": "text/x-python",
   "name": "python",
   "nbconvert_exporter": "python",
   "pygments_lexer": "ipython3",
   "version": "3.10.4"
  },
  "orig_nbformat": 4,
  "vscode": {
   "interpreter": {
    "hash": "0d72b21489300652f2337cd7f80c57cc00ce6bbc92cf98d285c178d0a8ced433"
   }
  }
 },
 "nbformat": 4,
 "nbformat_minor": 2
}
