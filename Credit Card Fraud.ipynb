{
 "cells": [
  {
   "cell_type": "markdown",
   "metadata": {},
   "source": [
    "# **Methodology**"
   ]
  },
  {
   "cell_type": "markdown",
   "metadata": {},
   "source": [
    "## **1. Data Preparation**"
   ]
  },
  {
   "cell_type": "markdown",
   "metadata": {},
   "source": [
    "### **Problem Statement**"
   ]
  },
  {
   "cell_type": "markdown",
   "metadata": {},
   "source": [
    "Menurut beberapa sumber terkenal, diperkirakan 10.000 transaksi terjadi melalui kartu kredit setiap detik di seluruh dunia. Karena frekuensi transaksi yang begitu tinggi, kartu kredit menjadi sasaran utama penipuan.\n",
    "\n",
    "Setiap tahun, miliaran dolar hilang secara langsung karena penipuan kartu kredit. Kasus penipuan terjadi dalam kondisi yang berbeda, misalnya, transaksi di tempat penjualan (POS) atau transaksi yang dilakukan secara online atau melalui telepon, misalnya kasus kartu tidak ada (CNP) atau transaksi dengan kartu yang hilang dan dicuri. Dengan cara ini, penipuan kartu kredit pada tahun 2015 saja berjumlah 21,84 miliar dolar, dengan penerbit menanggung biaya 15,72 miliar dolar.\n",
    "\n",
    "Banyak survei menunjukkan bahwa peningkatan ketergantungan pada kartu kredit untuk melakukan transaksi keuangan disertai dengan peningkatan tingkat penipuan.\n",
    "\n",
    "Peningkatan penipuan kartu kredit baru-baru ini secara langsung memukul sektor keuangan dengan keras. Kerugian akibat penipuan kartu kredit terutama berdampak pada pedagang karena mereka menanggung semua biaya, termasuk biaya dari penerbit kartu mereka, biaya administrasi dan biaya lainnya. Semua kerugian ditanggung oleh pedagang, yang menyebabkan kenaikan harga barang dan penurunan diskon. Oleh karena itu, mengurangi kerugian ini sangat penting. Diperlukan sistem deteksi fraud yang efektif untuk meminimalisir jumlah kasus fraud."
   ]
  },
  {
   "cell_type": "markdown",
   "metadata": {},
   "source": [
    "### **Objectives**"
   ]
  },
  {
   "cell_type": "markdown",
   "metadata": {},
   "source": [
    "- Analisa ini akan berfokus mendeteksi hal apa yang paling berpengaruh dalam pencurian kartu kredit ini sehingga perusahaan jasa keuangan (Perbankan) dapat melakukan evaluasi terhadap tindak kriminal ini.\n"
   ]
  },
  {
   "cell_type": "markdown",
   "metadata": {},
   "source": [
    "## **Metrics**\n",
    "- 0 = Non-Fraud (Negative)\n",
    "- 1 = Fraud (Positive)\n",
    "\n",
    "- Error tipe 1: False Positive\n",
    "- False Positive akan memberikan prediksi jumlah tidak terjadinya kasus kriminal pencurian kartu kredit namun pada realitanya terjadi kecurangan pencurian kartu kredit, hal ini jika dibiarkan maka akan menyebabkan semakin tinggi tingkat pencurian kartu kredit dan beresiko menyebabkan konsumen kehilangan kepercayaan pada perbankan.\n",
    "\n",
    "- Error Tipe 2: False Negative\n",
    "- False Negatif akan memberikan prediksi jumlah tindakan kasus kriminal pencurian kartu kredit namun pada realitanya tidak terjadi kecurangan pencurian kartu kredit, hal ini akan menyebabkan perusahaan sering mendapatkan komplain dari customer terkait laporan - laporan transaksi customer.\n",
    "\n",
    "Berdasarkan konsekuensinya, maka sebisa mungkin model yang akan dibuat dapat membantu pihak perbankan dan customer dalam mengecilkan pencurian kartu kredit tanpa merugikan perbankan dari segi nama baik perbankan dan tanpa mengganggu transaksi konsumen sehingga penggunaan machine learning ini dapat membantu kedua pihak. Maka dari itu , nilai recall dan precision berdasarkan kelas positifnya perlu untuk di seimbangkan sehingga metric utama yang akan digunakan adalah `f-1 score`."
   ]
  },
  {
   "cell_type": "markdown",
   "metadata": {},
   "source": [
    "### **Analytical Approach**"
   ]
  },
  {
   "cell_type": "markdown",
   "metadata": {},
   "source": [
    "- Dalam analisa ini akan dilakukan 3 tahapan :\n",
    "  - 1. Tahapan pertama akan melakukan Exploratory Data Analyst untuk mendapatkan insight secara deskriptive\n",
    "  - 2. Tahapan kedua akan melakukan visualisasi dari hasil data yang sudah di analisa\n",
    "  - 3. Tahapan ketiga akan melakukan modeling machine learning sehingga diperoleh faktor apa yang memiliki pengaruh penyebab terjadinya tindakan kriminal pencurian kartu kredit sehingga perusahaan dapat menargetkan berapa total nasabah yang akan dicegah dari tindakan kecurangan pencurian kartu kredit ini."
   ]
  },
  {
   "cell_type": "markdown",
   "metadata": {},
   "source": [
    "### **Definisi Kolom**"
   ]
  },
  {
   "cell_type": "markdown",
   "metadata": {},
   "source": [
    "| **Nama Kolom** | **Keterangan Kolom** |\n",
    "| --- | --- |\n",
    "|**Credit Card Fraud**||\n",
    "|Distance From Home| The distance from home where the transaction happened|\n",
    "|Distance From Last Transaction| The distance from last transaction happened|\n",
    "|Ratio To Median Purchase Price| Ratio of purchased price transaction to median purchase price|\n",
    "|Repeat Retailer|  Is the transaction happened from same retailer|\n",
    "|Used Chip |  Is the transaction through chip (credit card)|\n",
    "|Used Pin Number| Is the transaction happened by using PIN number|\n",
    "|Online Order | Is the transaction an online order|\n",
    "|Fraud | Is the transaction fraudulent|"
   ]
  },
  {
   "cell_type": "code",
   "execution_count": 130,
   "metadata": {},
   "outputs": [],
   "source": [
    "# Library\n",
    "import pandas as pd # Pandas Library \n",
    "import numpy as np # Numpy Library\n",
    "\n",
    "# Visualization\n",
    "import matplotlib.pyplot as plt # For Data Visualization\n",
    "import seaborn as sns # For Data Visualization\n",
    "\n",
    "# Feature Engineering\n",
    "from sklearn.pipeline import Pipeline # to Create a Pipeline for Feature Engineering\n",
    "from sklearn.impute import SimpleImputer # For Missing Value Handling\n",
    "from sklearn.preprocessing import OneHotEncoder, LabelEncoder, OrdinalEncoder # to Handle Catogorical Features\n",
    "from sklearn.compose import ColumnTransformer # to Transform Features\n",
    "import category_encoders as ce # to encode category features\n",
    "from sklearn.preprocessing import StandardScaler\n",
    "from sklearn.model_selection import train_test_split, StratifiedKFold, cross_val_score, KFold, RandomizedSearchCV\n",
    "\n",
    "# Model Selection\n",
    "from sklearn.linear_model import LogisticRegression # Base Model for Logistic Regression\n",
    "from sklearn.tree import DecisionTreeClassifier # Base Model for Decision Tree \n",
    "from sklearn.model_selection import StratifiedKFold,train_test_split, cross_val_score, RandomizedSearchCV , GridSearchCV# Finding Best Hyperparameter with GridsearchCV\n",
    "from sklearn.metrics import classification_report, confusion_matrix # to Display Classification Report and Confusion Matrix\n",
    "from sklearn.neighbors import KNeighborsClassifier # Base Model for KNN\n",
    "from sklearn.ensemble import RandomForestClassifier # Ensemble method using Random Forest\n",
    "from xgboost import XGBClassifier # Ensemble method using XGBoost\n",
    "from sklearn.metrics import f1_score, accuracy_score, recall_score, precision_score # Evaluation Metric\n",
    "\n",
    "# Imbalance Dataset\n",
    "from imblearn.pipeline import Pipeline # to Create Pipeline for Imbalance Handling\n",
    "from imblearn.over_sampling import RandomOverSampler, SMOTE # Random Over Sample as Imblance Handling method\n",
    "from sklearn.utils import resample\n",
    "from imblearn.over_sampling import SMOTE\n",
    "from imblearn.pipeline import Pipeline as imbpipeline\n",
    "from sklearn.preprocessing import StandardScaler,PolynomialFeatures, PowerTransformer, OneHotEncoder,MinMaxScaler\n",
    "\n",
    "# Ignore Warning\n",
    "import warnings \n",
    "warnings.simplefilter(\"ignore\")"
   ]
  },
  {
   "cell_type": "code",
   "execution_count": 131,
   "metadata": {},
   "outputs": [
    {
     "data": {
      "text/html": [
       "<div>\n",
       "<style scoped>\n",
       "    .dataframe tbody tr th:only-of-type {\n",
       "        vertical-align: middle;\n",
       "    }\n",
       "\n",
       "    .dataframe tbody tr th {\n",
       "        vertical-align: top;\n",
       "    }\n",
       "\n",
       "    .dataframe thead th {\n",
       "        text-align: right;\n",
       "    }\n",
       "</style>\n",
       "<table border=\"1\" class=\"dataframe\">\n",
       "  <thead>\n",
       "    <tr style=\"text-align: right;\">\n",
       "      <th></th>\n",
       "      <th>distance_from_home</th>\n",
       "      <th>distance_from_last_transaction</th>\n",
       "      <th>ratio_to_median_purchase_price</th>\n",
       "      <th>repeat_retailer</th>\n",
       "      <th>used_chip</th>\n",
       "      <th>used_pin_number</th>\n",
       "      <th>online_order</th>\n",
       "      <th>fraud</th>\n",
       "    </tr>\n",
       "  </thead>\n",
       "  <tbody>\n",
       "    <tr>\n",
       "      <th>0</th>\n",
       "      <td>57.877857</td>\n",
       "      <td>0.311140</td>\n",
       "      <td>1.945940</td>\n",
       "      <td>1.0</td>\n",
       "      <td>1.0</td>\n",
       "      <td>0.0</td>\n",
       "      <td>0.0</td>\n",
       "      <td>0.0</td>\n",
       "    </tr>\n",
       "    <tr>\n",
       "      <th>1</th>\n",
       "      <td>10.829943</td>\n",
       "      <td>0.175592</td>\n",
       "      <td>1.294219</td>\n",
       "      <td>1.0</td>\n",
       "      <td>0.0</td>\n",
       "      <td>0.0</td>\n",
       "      <td>0.0</td>\n",
       "      <td>0.0</td>\n",
       "    </tr>\n",
       "    <tr>\n",
       "      <th>2</th>\n",
       "      <td>5.091079</td>\n",
       "      <td>0.805153</td>\n",
       "      <td>0.427715</td>\n",
       "      <td>1.0</td>\n",
       "      <td>0.0</td>\n",
       "      <td>0.0</td>\n",
       "      <td>1.0</td>\n",
       "      <td>0.0</td>\n",
       "    </tr>\n",
       "    <tr>\n",
       "      <th>3</th>\n",
       "      <td>2.247564</td>\n",
       "      <td>5.600044</td>\n",
       "      <td>0.362663</td>\n",
       "      <td>1.0</td>\n",
       "      <td>1.0</td>\n",
       "      <td>0.0</td>\n",
       "      <td>1.0</td>\n",
       "      <td>0.0</td>\n",
       "    </tr>\n",
       "    <tr>\n",
       "      <th>4</th>\n",
       "      <td>44.190936</td>\n",
       "      <td>0.566486</td>\n",
       "      <td>2.222767</td>\n",
       "      <td>1.0</td>\n",
       "      <td>1.0</td>\n",
       "      <td>0.0</td>\n",
       "      <td>1.0</td>\n",
       "      <td>0.0</td>\n",
       "    </tr>\n",
       "  </tbody>\n",
       "</table>\n",
       "</div>"
      ],
      "text/plain": [
       "   distance_from_home  distance_from_last_transaction  \\\n",
       "0           57.877857                        0.311140   \n",
       "1           10.829943                        0.175592   \n",
       "2            5.091079                        0.805153   \n",
       "3            2.247564                        5.600044   \n",
       "4           44.190936                        0.566486   \n",
       "\n",
       "   ratio_to_median_purchase_price  repeat_retailer  used_chip  \\\n",
       "0                        1.945940              1.0        1.0   \n",
       "1                        1.294219              1.0        0.0   \n",
       "2                        0.427715              1.0        0.0   \n",
       "3                        0.362663              1.0        1.0   \n",
       "4                        2.222767              1.0        1.0   \n",
       "\n",
       "   used_pin_number  online_order  fraud  \n",
       "0              0.0           0.0    0.0  \n",
       "1              0.0           0.0    0.0  \n",
       "2              0.0           1.0    0.0  \n",
       "3              0.0           1.0    0.0  \n",
       "4              0.0           1.0    0.0  "
      ]
     },
     "execution_count": 131,
     "metadata": {},
     "output_type": "execute_result"
    }
   ],
   "source": [
    "df = pd.read_csv('card_transdata.csv')\n",
    "pd.options.display.max_columns=100\n",
    "pd.options.display.max_rows=1000000\n",
    "df.head()"
   ]
  },
  {
   "cell_type": "code",
   "execution_count": 132,
   "metadata": {},
   "outputs": [
    {
     "data": {
      "text/plain": [
       "(1000000, 8)"
      ]
     },
     "execution_count": 132,
     "metadata": {},
     "output_type": "execute_result"
    }
   ],
   "source": [
    "df.shape"
   ]
  },
  {
   "cell_type": "code",
   "execution_count": 133,
   "metadata": {},
   "outputs": [
    {
     "name": "stdout",
     "output_type": "stream",
     "text": [
      "<class 'pandas.core.frame.DataFrame'>\n",
      "RangeIndex: 1000000 entries, 0 to 999999\n",
      "Data columns (total 8 columns):\n",
      " #   Column                          Non-Null Count    Dtype  \n",
      "---  ------                          --------------    -----  \n",
      " 0   distance_from_home              1000000 non-null  float64\n",
      " 1   distance_from_last_transaction  1000000 non-null  float64\n",
      " 2   ratio_to_median_purchase_price  1000000 non-null  float64\n",
      " 3   repeat_retailer                 1000000 non-null  float64\n",
      " 4   used_chip                       1000000 non-null  float64\n",
      " 5   used_pin_number                 1000000 non-null  float64\n",
      " 6   online_order                    1000000 non-null  float64\n",
      " 7   fraud                           1000000 non-null  float64\n",
      "dtypes: float64(8)\n",
      "memory usage: 61.0 MB\n"
     ]
    }
   ],
   "source": [
    "df.info()"
   ]
  },
  {
   "cell_type": "code",
   "execution_count": 134,
   "metadata": {},
   "outputs": [
    {
     "data": {
      "text/html": [
       "<div>\n",
       "<style scoped>\n",
       "    .dataframe tbody tr th:only-of-type {\n",
       "        vertical-align: middle;\n",
       "    }\n",
       "\n",
       "    .dataframe tbody tr th {\n",
       "        vertical-align: top;\n",
       "    }\n",
       "\n",
       "    .dataframe thead th {\n",
       "        text-align: right;\n",
       "    }\n",
       "</style>\n",
       "<table border=\"1\" class=\"dataframe\">\n",
       "  <thead>\n",
       "    <tr style=\"text-align: right;\">\n",
       "      <th></th>\n",
       "      <th>distance_from_home</th>\n",
       "      <th>distance_from_last_transaction</th>\n",
       "      <th>ratio_to_median_purchase_price</th>\n",
       "      <th>repeat_retailer</th>\n",
       "      <th>used_chip</th>\n",
       "      <th>used_pin_number</th>\n",
       "      <th>online_order</th>\n",
       "      <th>fraud</th>\n",
       "    </tr>\n",
       "  </thead>\n",
       "  <tbody>\n",
       "    <tr>\n",
       "      <th>0</th>\n",
       "      <td>57.877857</td>\n",
       "      <td>0.311140</td>\n",
       "      <td>1.945940</td>\n",
       "      <td>1.0</td>\n",
       "      <td>1.0</td>\n",
       "      <td>0.0</td>\n",
       "      <td>0.0</td>\n",
       "      <td>0.0</td>\n",
       "    </tr>\n",
       "    <tr>\n",
       "      <th>1</th>\n",
       "      <td>10.829943</td>\n",
       "      <td>0.175592</td>\n",
       "      <td>1.294219</td>\n",
       "      <td>1.0</td>\n",
       "      <td>0.0</td>\n",
       "      <td>0.0</td>\n",
       "      <td>0.0</td>\n",
       "      <td>0.0</td>\n",
       "    </tr>\n",
       "    <tr>\n",
       "      <th>2</th>\n",
       "      <td>5.091079</td>\n",
       "      <td>0.805153</td>\n",
       "      <td>0.427715</td>\n",
       "      <td>1.0</td>\n",
       "      <td>0.0</td>\n",
       "      <td>0.0</td>\n",
       "      <td>1.0</td>\n",
       "      <td>0.0</td>\n",
       "    </tr>\n",
       "    <tr>\n",
       "      <th>3</th>\n",
       "      <td>2.247564</td>\n",
       "      <td>5.600044</td>\n",
       "      <td>0.362663</td>\n",
       "      <td>1.0</td>\n",
       "      <td>1.0</td>\n",
       "      <td>0.0</td>\n",
       "      <td>1.0</td>\n",
       "      <td>0.0</td>\n",
       "    </tr>\n",
       "    <tr>\n",
       "      <th>4</th>\n",
       "      <td>44.190936</td>\n",
       "      <td>0.566486</td>\n",
       "      <td>2.222767</td>\n",
       "      <td>1.0</td>\n",
       "      <td>1.0</td>\n",
       "      <td>0.0</td>\n",
       "      <td>1.0</td>\n",
       "      <td>0.0</td>\n",
       "    </tr>\n",
       "  </tbody>\n",
       "</table>\n",
       "</div>"
      ],
      "text/plain": [
       "   distance_from_home  distance_from_last_transaction  \\\n",
       "0           57.877857                        0.311140   \n",
       "1           10.829943                        0.175592   \n",
       "2            5.091079                        0.805153   \n",
       "3            2.247564                        5.600044   \n",
       "4           44.190936                        0.566486   \n",
       "\n",
       "   ratio_to_median_purchase_price  repeat_retailer  used_chip  \\\n",
       "0                        1.945940              1.0        1.0   \n",
       "1                        1.294219              1.0        0.0   \n",
       "2                        0.427715              1.0        0.0   \n",
       "3                        0.362663              1.0        1.0   \n",
       "4                        2.222767              1.0        1.0   \n",
       "\n",
       "   used_pin_number  online_order  fraud  \n",
       "0              0.0           0.0    0.0  \n",
       "1              0.0           0.0    0.0  \n",
       "2              0.0           1.0    0.0  \n",
       "3              0.0           1.0    0.0  \n",
       "4              0.0           1.0    0.0  "
      ]
     },
     "execution_count": 134,
     "metadata": {},
     "output_type": "execute_result"
    }
   ],
   "source": [
    "df.head()"
   ]
  },
  {
   "cell_type": "code",
   "execution_count": 135,
   "metadata": {},
   "outputs": [
    {
     "data": {
      "text/html": [
       "<div>\n",
       "<style scoped>\n",
       "    .dataframe tbody tr th:only-of-type {\n",
       "        vertical-align: middle;\n",
       "    }\n",
       "\n",
       "    .dataframe tbody tr th {\n",
       "        vertical-align: top;\n",
       "    }\n",
       "\n",
       "    .dataframe thead th {\n",
       "        text-align: right;\n",
       "    }\n",
       "</style>\n",
       "<table border=\"1\" class=\"dataframe\">\n",
       "  <thead>\n",
       "    <tr style=\"text-align: right;\">\n",
       "      <th></th>\n",
       "      <th>distance_from_home</th>\n",
       "      <th>distance_from_last_transaction</th>\n",
       "      <th>ratio_to_median_purchase_price</th>\n",
       "      <th>repeat_retailer</th>\n",
       "      <th>used_chip</th>\n",
       "      <th>used_pin_number</th>\n",
       "      <th>online_order</th>\n",
       "      <th>fraud</th>\n",
       "    </tr>\n",
       "  </thead>\n",
       "  <tbody>\n",
       "    <tr>\n",
       "      <th>count</th>\n",
       "      <td>1000000.000000</td>\n",
       "      <td>1000000.000000</td>\n",
       "      <td>1000000.000000</td>\n",
       "      <td>1000000.000000</td>\n",
       "      <td>1000000.000000</td>\n",
       "      <td>1000000.000000</td>\n",
       "      <td>1000000.000000</td>\n",
       "      <td>1000000.000000</td>\n",
       "    </tr>\n",
       "    <tr>\n",
       "      <th>mean</th>\n",
       "      <td>26.628792</td>\n",
       "      <td>5.036519</td>\n",
       "      <td>1.824182</td>\n",
       "      <td>0.881536</td>\n",
       "      <td>0.350399</td>\n",
       "      <td>0.100608</td>\n",
       "      <td>0.650552</td>\n",
       "      <td>0.087403</td>\n",
       "    </tr>\n",
       "    <tr>\n",
       "      <th>std</th>\n",
       "      <td>65.390784</td>\n",
       "      <td>25.843093</td>\n",
       "      <td>2.799589</td>\n",
       "      <td>0.323157</td>\n",
       "      <td>0.477095</td>\n",
       "      <td>0.300809</td>\n",
       "      <td>0.476796</td>\n",
       "      <td>0.282425</td>\n",
       "    </tr>\n",
       "    <tr>\n",
       "      <th>min</th>\n",
       "      <td>0.004874</td>\n",
       "      <td>0.000118</td>\n",
       "      <td>0.004399</td>\n",
       "      <td>0.000000</td>\n",
       "      <td>0.000000</td>\n",
       "      <td>0.000000</td>\n",
       "      <td>0.000000</td>\n",
       "      <td>0.000000</td>\n",
       "    </tr>\n",
       "    <tr>\n",
       "      <th>25%</th>\n",
       "      <td>3.878008</td>\n",
       "      <td>0.296671</td>\n",
       "      <td>0.475673</td>\n",
       "      <td>1.000000</td>\n",
       "      <td>0.000000</td>\n",
       "      <td>0.000000</td>\n",
       "      <td>0.000000</td>\n",
       "      <td>0.000000</td>\n",
       "    </tr>\n",
       "    <tr>\n",
       "      <th>50%</th>\n",
       "      <td>9.967760</td>\n",
       "      <td>0.998650</td>\n",
       "      <td>0.997717</td>\n",
       "      <td>1.000000</td>\n",
       "      <td>0.000000</td>\n",
       "      <td>0.000000</td>\n",
       "      <td>1.000000</td>\n",
       "      <td>0.000000</td>\n",
       "    </tr>\n",
       "    <tr>\n",
       "      <th>75%</th>\n",
       "      <td>25.743985</td>\n",
       "      <td>3.355748</td>\n",
       "      <td>2.096370</td>\n",
       "      <td>1.000000</td>\n",
       "      <td>1.000000</td>\n",
       "      <td>0.000000</td>\n",
       "      <td>1.000000</td>\n",
       "      <td>0.000000</td>\n",
       "    </tr>\n",
       "    <tr>\n",
       "      <th>max</th>\n",
       "      <td>10632.723672</td>\n",
       "      <td>11851.104565</td>\n",
       "      <td>267.802942</td>\n",
       "      <td>1.000000</td>\n",
       "      <td>1.000000</td>\n",
       "      <td>1.000000</td>\n",
       "      <td>1.000000</td>\n",
       "      <td>1.000000</td>\n",
       "    </tr>\n",
       "  </tbody>\n",
       "</table>\n",
       "</div>"
      ],
      "text/plain": [
       "       distance_from_home  distance_from_last_transaction  \\\n",
       "count      1000000.000000                  1000000.000000   \n",
       "mean            26.628792                        5.036519   \n",
       "std             65.390784                       25.843093   \n",
       "min              0.004874                        0.000118   \n",
       "25%              3.878008                        0.296671   \n",
       "50%              9.967760                        0.998650   \n",
       "75%             25.743985                        3.355748   \n",
       "max          10632.723672                    11851.104565   \n",
       "\n",
       "       ratio_to_median_purchase_price  repeat_retailer       used_chip  \\\n",
       "count                  1000000.000000   1000000.000000  1000000.000000   \n",
       "mean                         1.824182         0.881536        0.350399   \n",
       "std                          2.799589         0.323157        0.477095   \n",
       "min                          0.004399         0.000000        0.000000   \n",
       "25%                          0.475673         1.000000        0.000000   \n",
       "50%                          0.997717         1.000000        0.000000   \n",
       "75%                          2.096370         1.000000        1.000000   \n",
       "max                        267.802942         1.000000        1.000000   \n",
       "\n",
       "       used_pin_number    online_order           fraud  \n",
       "count   1000000.000000  1000000.000000  1000000.000000  \n",
       "mean          0.100608        0.650552        0.087403  \n",
       "std           0.300809        0.476796        0.282425  \n",
       "min           0.000000        0.000000        0.000000  \n",
       "25%           0.000000        0.000000        0.000000  \n",
       "50%           0.000000        1.000000        0.000000  \n",
       "75%           0.000000        1.000000        0.000000  \n",
       "max           1.000000        1.000000        1.000000  "
      ]
     },
     "execution_count": 135,
     "metadata": {},
     "output_type": "execute_result"
    }
   ],
   "source": [
    "df_statistik = df.describe(include='all')\n",
    "df_statistik"
   ]
  },
  {
   "cell_type": "code",
   "execution_count": 136,
   "metadata": {},
   "outputs": [
    {
     "data": {
      "text/plain": [
       "0"
      ]
     },
     "execution_count": 136,
     "metadata": {},
     "output_type": "execute_result"
    }
   ],
   "source": [
    "df.duplicated().sum()"
   ]
  },
  {
   "cell_type": "code",
   "execution_count": 137,
   "metadata": {},
   "outputs": [
    {
     "data": {
      "image/png": "[encoded data removed]",
      "text/plain": [
       "<Figure size 1440x1080 with 20 Axes>"
      ]
     },
     "metadata": {
      "needs_background": "light"
     },
     "output_type": "display_data"
    }
   ],
   "source": [
    "df.plot(kind='box', figsize=(20,15), subplots=True, layout=(5,4))\n",
    "plt.show()"
   ]
  },
  {
   "cell_type": "code",
   "execution_count": 138,
   "metadata": {},
   "outputs": [],
   "source": [
    "def distance_from_home_col(x):\n",
    "    if x > 0 and x <=26:\n",
    "        return 'Near Home'\n",
    "    else :\n",
    "        return 'Far From Home'"
   ]
  },
  {
   "cell_type": "code",
   "execution_count": 139,
   "metadata": {},
   "outputs": [],
   "source": [
    "df['distance_from_home_category'] = df['distance_from_home']"
   ]
  },
  {
   "cell_type": "code",
   "execution_count": 140,
   "metadata": {},
   "outputs": [],
   "source": [
    "df['distance_from_home_category'] = df['distance_from_home_category'].apply(distance_from_home_col)"
   ]
  },
  {
   "cell_type": "code",
   "execution_count": 141,
   "metadata": {},
   "outputs": [],
   "source": [
    "def ratio_to_median_purchase_price_col(x):\n",
    "    if x > 0 and x <=1:\n",
    "        return 'Low Price'\n",
    "    elif x > 1 and x <= 50:\n",
    "        return 'Medium Price'\n",
    "    else :\n",
    "        return 'High Price'"
   ]
  },
  {
   "cell_type": "code",
   "execution_count": 142,
   "metadata": {},
   "outputs": [],
   "source": [
    "df['ratio_to_median_purchase_price_category'] = df['ratio_to_median_purchase_price']"
   ]
  },
  {
   "cell_type": "code",
   "execution_count": 143,
   "metadata": {},
   "outputs": [],
   "source": [
    "df['ratio_to_median_purchase_price_category'] = df['ratio_to_median_purchase_price_category'].apply(ratio_to_median_purchase_price_col)"
   ]
  },
  {
   "cell_type": "code",
   "execution_count": 144,
   "metadata": {},
   "outputs": [],
   "source": [
    "total = float(len(df))"
   ]
  },
  {
   "cell_type": "code",
   "execution_count": 145,
   "metadata": {},
   "outputs": [
    {
     "data": {
      "text/html": [
       "<div>\n",
       "<style scoped>\n",
       "    .dataframe tbody tr th:only-of-type {\n",
       "        vertical-align: middle;\n",
       "    }\n",
       "\n",
       "    .dataframe tbody tr th {\n",
       "        vertical-align: top;\n",
       "    }\n",
       "\n",
       "    .dataframe thead th {\n",
       "        text-align: right;\n",
       "    }\n",
       "</style>\n",
       "<table border=\"1\" class=\"dataframe\">\n",
       "  <thead>\n",
       "    <tr style=\"text-align: right;\">\n",
       "      <th></th>\n",
       "      <th>distance_from_home</th>\n",
       "      <th>distance_from_last_transaction</th>\n",
       "      <th>ratio_to_median_purchase_price</th>\n",
       "      <th>repeat_retailer</th>\n",
       "      <th>used_chip</th>\n",
       "      <th>used_pin_number</th>\n",
       "      <th>online_order</th>\n",
       "      <th>fraud</th>\n",
       "      <th>distance_from_home_category</th>\n",
       "      <th>ratio_to_median_purchase_price_category</th>\n",
       "    </tr>\n",
       "  </thead>\n",
       "  <tbody>\n",
       "    <tr>\n",
       "      <th>0</th>\n",
       "      <td>57.877857</td>\n",
       "      <td>0.311140</td>\n",
       "      <td>1.945940</td>\n",
       "      <td>1.0</td>\n",
       "      <td>1.0</td>\n",
       "      <td>0.0</td>\n",
       "      <td>0.0</td>\n",
       "      <td>0.0</td>\n",
       "      <td>Far From Home</td>\n",
       "      <td>Medium Price</td>\n",
       "    </tr>\n",
       "    <tr>\n",
       "      <th>1</th>\n",
       "      <td>10.829943</td>\n",
       "      <td>0.175592</td>\n",
       "      <td>1.294219</td>\n",
       "      <td>1.0</td>\n",
       "      <td>0.0</td>\n",
       "      <td>0.0</td>\n",
       "      <td>0.0</td>\n",
       "      <td>0.0</td>\n",
       "      <td>Near Home</td>\n",
       "      <td>Medium Price</td>\n",
       "    </tr>\n",
       "    <tr>\n",
       "      <th>2</th>\n",
       "      <td>5.091079</td>\n",
       "      <td>0.805153</td>\n",
       "      <td>0.427715</td>\n",
       "      <td>1.0</td>\n",
       "      <td>0.0</td>\n",
       "      <td>0.0</td>\n",
       "      <td>1.0</td>\n",
       "      <td>0.0</td>\n",
       "      <td>Near Home</td>\n",
       "      <td>Low Price</td>\n",
       "    </tr>\n",
       "    <tr>\n",
       "      <th>3</th>\n",
       "      <td>2.247564</td>\n",
       "      <td>5.600044</td>\n",
       "      <td>0.362663</td>\n",
       "      <td>1.0</td>\n",
       "      <td>1.0</td>\n",
       "      <td>0.0</td>\n",
       "      <td>1.0</td>\n",
       "      <td>0.0</td>\n",
       "      <td>Near Home</td>\n",
       "      <td>Low Price</td>\n",
       "    </tr>\n",
       "    <tr>\n",
       "      <th>4</th>\n",
       "      <td>44.190936</td>\n",
       "      <td>0.566486</td>\n",
       "      <td>2.222767</td>\n",
       "      <td>1.0</td>\n",
       "      <td>1.0</td>\n",
       "      <td>0.0</td>\n",
       "      <td>1.0</td>\n",
       "      <td>0.0</td>\n",
       "      <td>Far From Home</td>\n",
       "      <td>Medium Price</td>\n",
       "    </tr>\n",
       "  </tbody>\n",
       "</table>\n",
       "</div>"
      ],
      "text/plain": [
       "   distance_from_home  distance_from_last_transaction  \\\n",
       "0           57.877857                        0.311140   \n",
       "1           10.829943                        0.175592   \n",
       "2            5.091079                        0.805153   \n",
       "3            2.247564                        5.600044   \n",
       "4           44.190936                        0.566486   \n",
       "\n",
       "   ratio_to_median_purchase_price  repeat_retailer  used_chip  \\\n",
       "0                        1.945940              1.0        1.0   \n",
       "1                        1.294219              1.0        0.0   \n",
       "2                        0.427715              1.0        0.0   \n",
       "3                        0.362663              1.0        1.0   \n",
       "4                        2.222767              1.0        1.0   \n",
       "\n",
       "   used_pin_number  online_order  fraud distance_from_home_category  \\\n",
       "0              0.0           0.0    0.0               Far From Home   \n",
       "1              0.0           0.0    0.0                   Near Home   \n",
       "2              0.0           1.0    0.0                   Near Home   \n",
       "3              0.0           1.0    0.0                   Near Home   \n",
       "4              0.0           1.0    0.0               Far From Home   \n",
       "\n",
       "  ratio_to_median_purchase_price_category  \n",
       "0                            Medium Price  \n",
       "1                            Medium Price  \n",
       "2                               Low Price  \n",
       "3                               Low Price  \n",
       "4                            Medium Price  "
      ]
     },
     "execution_count": 145,
     "metadata": {},
     "output_type": "execute_result"
    }
   ],
   "source": [
    "df.head()"
   ]
  },
  {
   "cell_type": "markdown",
   "metadata": {},
   "source": [
    "### Data Imbalance"
   ]
  },
  {
   "cell_type": "code",
   "execution_count": 146,
   "metadata": {},
   "outputs": [
    {
     "data": {
      "text/html": [
       "<div>\n",
       "<style scoped>\n",
       "    .dataframe tbody tr th:only-of-type {\n",
       "        vertical-align: middle;\n",
       "    }\n",
       "\n",
       "    .dataframe tbody tr th {\n",
       "        vertical-align: top;\n",
       "    }\n",
       "\n",
       "    .dataframe thead th {\n",
       "        text-align: right;\n",
       "    }\n",
       "</style>\n",
       "<table border=\"1\" class=\"dataframe\">\n",
       "  <thead>\n",
       "    <tr style=\"text-align: right;\">\n",
       "      <th>fraud</th>\n",
       "      <th>0.0</th>\n",
       "      <th>1.0</th>\n",
       "    </tr>\n",
       "    <tr>\n",
       "      <th>fraud</th>\n",
       "      <th></th>\n",
       "      <th></th>\n",
       "    </tr>\n",
       "  </thead>\n",
       "  <tbody>\n",
       "    <tr>\n",
       "      <th>0.0</th>\n",
       "      <td>0.91</td>\n",
       "      <td>0.00</td>\n",
       "    </tr>\n",
       "    <tr>\n",
       "      <th>1.0</th>\n",
       "      <td>0.00</td>\n",
       "      <td>0.09</td>\n",
       "    </tr>\n",
       "  </tbody>\n",
       "</table>\n",
       "</div>"
      ],
      "text/plain": [
       "fraud   0.0   1.0\n",
       "fraud            \n",
       "0.0    0.91  0.00\n",
       "1.0    0.00  0.09"
      ]
     },
     "execution_count": 146,
     "metadata": {},
     "output_type": "execute_result"
    }
   ],
   "source": [
    "pd.crosstab(index=df['fraud'],columns=df['fraud'],normalize=True).round(2)"
   ]
  },
  {
   "cell_type": "code",
   "execution_count": 147,
   "metadata": {},
   "outputs": [
    {
     "data": {
      "image/png": "[encoded data removed]",
      "text/plain": [
       "<Figure size 720x576 with 1 Axes>"
      ]
     },
     "metadata": {
      "needs_background": "light"
     },
     "output_type": "display_data"
    },
    {
     "data": {
      "image/png": "[encoded data removed]",
      "text/plain": [
       "<Figure size 720x576 with 1 Axes>"
      ]
     },
     "metadata": {
      "needs_background": "light"
     },
     "output_type": "display_data"
    }
   ],
   "source": [
    "plt.figure(figsize=(10,8))\n",
    "ax = sns.countplot(x='fraud', data=df, hue=\"fraud\", palette = 'PuBuGn_r')\n",
    "plt.xticks(size=10,fontstyle='italic')\n",
    "plt.yticks(size=10,fontstyle='italic')\n",
    "plt.title('Total Fraud VS Total fraud',size=15,fontstyle='italic',family='monospace', weight=900)\n",
    "plt.xlabel('Online Fraud', size=12, fontstyle='italic', family='monospace',weight=900)\n",
    "plt.ylabel('Total Fraud', size=12, fontstyle='italic',family='monospace', weight=900)\n",
    "for container in ax.containers:\n",
    "    ax.bar_label(container,size=10, horizontalalignment='left')\n",
    "plt.show()\n",
    "\n",
    "plt.figure(figsize=(10,8))\n",
    "ax = sns.countplot(x=\"fraud\", hue=\"fraud\", data=df,palette = 'PuBuGn_r')\n",
    "for p in ax.patches:\n",
    "    percentage = '{:.1f}%'.format(100 * p.get_height()/total)\n",
    "    x = p.get_x() + p.get_width()\n",
    "    y = p.get_height()\n",
    "    ax.annotate(percentage, (x, y),ha='right')\n",
    "    plt.xticks(size=12,fontstyle='italic')\n",
    "    plt.yticks(size=12,fontstyle='italic')\n",
    "    plt.title('Total Fraud (%) VS Total fraud (%)',size=15,fontstyle='italic',family='monospace', weight=900)\n",
    "    plt.xlabel('Fraud', size=12, fontstyle='italic', family='monospace',weight=900)\n",
    "    plt.ylabel('Total Fraud (%)', size=12, fontstyle='italic',family='monospace', weight=900)\n",
    "plt.show()"
   ]
  },
  {
   "cell_type": "markdown",
   "metadata": {},
   "source": [
    "- Insight :\n",
    "  - Total transaksi yang terjadi kecurangan di perusahaan sebanyak 8,7%, lebih rendah dari pada transaksi yang tidak terjadi kecurangan di perusahaan."
   ]
  },
  {
   "cell_type": "markdown",
   "metadata": {},
   "source": [
    "#### **Distance From Home Category**"
   ]
  },
  {
   "cell_type": "code",
   "execution_count": 148,
   "metadata": {},
   "outputs": [
    {
     "data": {
      "text/html": [
       "<div>\n",
       "<style scoped>\n",
       "    .dataframe tbody tr th:only-of-type {\n",
       "        vertical-align: middle;\n",
       "    }\n",
       "\n",
       "    .dataframe tbody tr th {\n",
       "        vertical-align: top;\n",
       "    }\n",
       "\n",
       "    .dataframe thead th {\n",
       "        text-align: right;\n",
       "    }\n",
       "</style>\n",
       "<table border=\"1\" class=\"dataframe\">\n",
       "  <thead>\n",
       "    <tr style=\"text-align: right;\">\n",
       "      <th>col_0</th>\n",
       "      <th>count</th>\n",
       "    </tr>\n",
       "    <tr>\n",
       "      <th>distance_from_home_category</th>\n",
       "      <th></th>\n",
       "    </tr>\n",
       "  </thead>\n",
       "  <tbody>\n",
       "    <tr>\n",
       "      <th>Far From Home</th>\n",
       "      <td>0.25</td>\n",
       "    </tr>\n",
       "    <tr>\n",
       "      <th>Near Home</th>\n",
       "      <td>0.75</td>\n",
       "    </tr>\n",
       "  </tbody>\n",
       "</table>\n",
       "</div>"
      ],
      "text/plain": [
       "col_0                        count\n",
       "distance_from_home_category       \n",
       "Far From Home                 0.25\n",
       "Near Home                     0.75"
      ]
     },
     "execution_count": 148,
     "metadata": {},
     "output_type": "execute_result"
    }
   ],
   "source": [
    "pd.crosstab(index=df['distance_from_home_category'],columns='count',normalize=True).round(2)"
   ]
  },
  {
   "cell_type": "code",
   "execution_count": 149,
   "metadata": {},
   "outputs": [
    {
     "data": {
      "text/html": [
       "<div>\n",
       "<style scoped>\n",
       "    .dataframe tbody tr th:only-of-type {\n",
       "        vertical-align: middle;\n",
       "    }\n",
       "\n",
       "    .dataframe tbody tr th {\n",
       "        vertical-align: top;\n",
       "    }\n",
       "\n",
       "    .dataframe thead th {\n",
       "        text-align: right;\n",
       "    }\n",
       "</style>\n",
       "<table border=\"1\" class=\"dataframe\">\n",
       "  <thead>\n",
       "    <tr style=\"text-align: right;\">\n",
       "      <th>fraud</th>\n",
       "      <th>0.0</th>\n",
       "      <th>1.0</th>\n",
       "    </tr>\n",
       "    <tr>\n",
       "      <th>distance_from_home_category</th>\n",
       "      <th></th>\n",
       "      <th></th>\n",
       "    </tr>\n",
       "  </thead>\n",
       "  <tbody>\n",
       "    <tr>\n",
       "      <th>Far From Home</th>\n",
       "      <td>0.21</td>\n",
       "      <td>0.04</td>\n",
       "    </tr>\n",
       "    <tr>\n",
       "      <th>Near Home</th>\n",
       "      <td>0.70</td>\n",
       "      <td>0.05</td>\n",
       "    </tr>\n",
       "  </tbody>\n",
       "</table>\n",
       "</div>"
      ],
      "text/plain": [
       "fraud                         0.0   1.0\n",
       "distance_from_home_category            \n",
       "Far From Home                0.21  0.04\n",
       "Near Home                    0.70  0.05"
      ]
     },
     "execution_count": 149,
     "metadata": {},
     "output_type": "execute_result"
    }
   ],
   "source": [
    "pd.crosstab(index=df['distance_from_home_category'],columns=df['fraud'],normalize=True).round(2)"
   ]
  },
  {
   "cell_type": "code",
   "execution_count": 150,
   "metadata": {},
   "outputs": [
    {
     "data": {
      "image/png": "[encoded data removed]",
      "text/plain": [
       "<Figure size 720x576 with 1 Axes>"
      ]
     },
     "metadata": {
      "needs_background": "light"
     },
     "output_type": "display_data"
    },
    {
     "data": {
      "image/png": "[encoded data removed]",
      "text/plain": [
       "<Figure size 720x576 with 1 Axes>"
      ]
     },
     "metadata": {
      "needs_background": "light"
     },
     "output_type": "display_data"
    }
   ],
   "source": [
    "plt.figure(figsize=(10,8))\n",
    "ax = sns.countplot(x='distance_from_home_category', data=df, hue=\"fraud\", palette = 'PuBuGn_r')\n",
    "plt.xticks(size=12,fontstyle='italic')\n",
    "plt.yticks(size=12,fontstyle='italic')\n",
    "plt.title('Total Distance From Home Category VS Total fraud', size=15,fontstyle='italic',family='monospace', weight=900)\n",
    "plt.xlabel('Distance From Home Category', size=12, fontstyle='italic', family='monospace',weight=900)\n",
    "plt.ylabel('Total Fraud', size=12, fontstyle='italic',family='monospace', weight=900)\n",
    "for container in ax.containers:\n",
    "    ax.bar_label(container,size=10, horizontalalignment='left')\n",
    "plt.show()\n",
    "\n",
    "plt.figure(figsize=(10,8))\n",
    "ax = sns.countplot(x=\"distance_from_home_category\", hue=\"fraud\", data=df,palette = 'PuBuGn_r')\n",
    "for p in ax.patches:\n",
    "    percentage = '{:.1f}%'.format(100 * p.get_height()/total)\n",
    "    x = p.get_x() + p.get_width()\n",
    "    y = p.get_height()\n",
    "    ax.annotate(percentage, (x, y),ha='right')\n",
    "    plt.xticks(size=12,fontstyle='italic')\n",
    "    plt.yticks(size=12,fontstyle='italic')\n",
    "    plt.title('Total Distance From Home Category (%) VS Total fraud (%)', size=15,fontstyle='italic',family='monospace', weight=900)\n",
    "    plt.xlabel('Distance From Home Category', size=12, fontstyle='italic', family='monospace',weight=900)\n",
    "    plt.ylabel('Total Fraud (%)',size=12, fontstyle='italic',family='monospace', weight=900)\n",
    "plt.show()"
   ]
  },
  {
   "cell_type": "code",
   "execution_count": 161,
   "metadata": {},
   "outputs": [
    {
     "data": {
      "image/png": "[encoded data removed]",
      "text/plain": [
       "<Figure size 864x504 with 1 Axes>"
      ]
     },
     "metadata": {
      "needs_background": "light"
     },
     "output_type": "display_data"
    }
   ],
   "source": [
    "plt.figure(figsize=(12,7))\n",
    "df_yes=df[df['fraud']==1]['distance_from_home'] \n",
    "df_no=df[df['fraud']==0]['distance_from_home'] \n",
    "sns.kdeplot(df_yes, label = 'Pelanggan Fraud', shade = True, color = 'r',fill=True)\n",
    "sns.kdeplot(df_no, label = 'Fraud', shade = True, color = 'b', fill=True)\n",
    "plt.legend()\n",
    "plt.xticks(size=10,fontstyle='italic')\n",
    "plt.yticks(size=10,fontstyle='italic')\n",
    "plt.title('Total Distance From Home (%)',fontstyle='italic',family='monospace', weight=900)\n",
    "plt.xlabel('Distance From Home', fontstyle='italic', size=10, family='monospace',weight=900)\n",
    "plt.ylabel('Density Distance From Home', size=10, fontstyle='italic',family='monospace', weight=900)\n",
    "plt.show()"
   ]
  },
  {
   "cell_type": "markdown",
   "metadata": {},
   "source": [
    "- Insight :\n",
    "  - Transaksi kecurangna kartu kredit paling banyak terjadi dekat dari rumah yang jaraknya itu kurang dari 27 mil dari rumah dengan total persentase 5,2% kecurangan terjadi dan angka ini berbeda sedikit dari total persentase transaksi kecurangan yang terjadi jauh dari rumah 3,5%."
   ]
  },
  {
   "cell_type": "markdown",
   "metadata": {},
   "source": [
    "#### **Repeat Retailer**"
   ]
  },
  {
   "cell_type": "code",
   "execution_count": 151,
   "metadata": {},
   "outputs": [
    {
     "data": {
      "image/png": "[encoded data removed]",
      "text/plain": [
       "<Figure size 720x576 with 1 Axes>"
      ]
     },
     "metadata": {
      "needs_background": "light"
     },
     "output_type": "display_data"
    },
    {
     "data": {
      "image/png": "[encoded data removed]",
      "text/plain": [
       "<Figure size 720x576 with 1 Axes>"
      ]
     },
     "metadata": {
      "needs_background": "light"
     },
     "output_type": "display_data"
    }
   ],
   "source": [
    "plt.figure(figsize=(10,8))\n",
    "ax = sns.countplot(x='repeat_retailer', data=df, hue=\"fraud\", palette = 'PuBuGn_r')\n",
    "plt.xticks(size=12,fontstyle='italic')\n",
    "plt.yticks(size=12,fontstyle='italic')\n",
    "plt.title('Total Repeat Retailer VS Total fraud', size=15,fontstyle='italic',family='monospace', weight=900)\n",
    "plt.xlabel('Repeat Retailer', size=12, fontstyle='italic', family='monospace',weight=900)\n",
    "plt.ylabel('Total Fraud', size=12, fontstyle='italic',family='monospace', weight=900)\n",
    "for container in ax.containers:\n",
    "    ax.bar_label(container,size=10, horizontalalignment='left')\n",
    "plt.show()\n",
    "\n",
    "plt.figure(figsize=(10,8))\n",
    "ax = sns.countplot(x=\"repeat_retailer\", hue=\"fraud\", data=df,palette = 'PuBuGn_r')\n",
    "for p in ax.patches:\n",
    "    percentage = '{:.1f}%'.format(100 * p.get_height()/total)\n",
    "    x = p.get_x() + p.get_width()\n",
    "    y = p.get_height()\n",
    "    ax.annotate(percentage, (x, y),ha='right')\n",
    "    plt.xticks(size=12,fontstyle='italic')\n",
    "    plt.yticks(size=12,fontstyle='italic')\n",
    "    plt.title('Total Repeat Retailer (%) VS Total fraud (%)', size=15,fontstyle='italic',family='monospace', weight=900)\n",
    "    plt.xlabel('Repeat Retailer', size=12, fontstyle='italic', family='monospace',weight=900)\n",
    "    plt.ylabel('Total Fraud (%)', size=12, fontstyle='italic',family='monospace', weight=900)\n",
    "plt.show()"
   ]
  },
  {
   "cell_type": "markdown",
   "metadata": {},
   "source": [
    "- Insight :\n",
    "  - Transaksi kecurangan paling banyak terjadi pada transaksi dari pembelian pada toko yang sama sebanyak 76.925 transaksi kecurangan dengan total persentase 7.7%"
   ]
  },
  {
   "cell_type": "code",
   "execution_count": 152,
   "metadata": {},
   "outputs": [
    {
     "data": {
      "text/html": [
       "<div>\n",
       "<style scoped>\n",
       "    .dataframe tbody tr th:only-of-type {\n",
       "        vertical-align: middle;\n",
       "    }\n",
       "\n",
       "    .dataframe tbody tr th {\n",
       "        vertical-align: top;\n",
       "    }\n",
       "\n",
       "    .dataframe thead th {\n",
       "        text-align: right;\n",
       "    }\n",
       "</style>\n",
       "<table border=\"1\" class=\"dataframe\">\n",
       "  <thead>\n",
       "    <tr style=\"text-align: right;\">\n",
       "      <th>fraud</th>\n",
       "      <th>0.0</th>\n",
       "      <th>1.0</th>\n",
       "    </tr>\n",
       "    <tr>\n",
       "      <th>used_chip</th>\n",
       "      <th></th>\n",
       "      <th></th>\n",
       "    </tr>\n",
       "  </thead>\n",
       "  <tbody>\n",
       "    <tr>\n",
       "      <th>0.0</th>\n",
       "      <td>0.58</td>\n",
       "      <td>0.06</td>\n",
       "    </tr>\n",
       "    <tr>\n",
       "      <th>1.0</th>\n",
       "      <td>0.33</td>\n",
       "      <td>0.02</td>\n",
       "    </tr>\n",
       "  </tbody>\n",
       "</table>\n",
       "</div>"
      ],
      "text/plain": [
       "fraud       0.0   1.0\n",
       "used_chip            \n",
       "0.0        0.58  0.06\n",
       "1.0        0.33  0.02"
      ]
     },
     "execution_count": 152,
     "metadata": {},
     "output_type": "execute_result"
    }
   ],
   "source": [
    "pd.crosstab(index=df['used_chip'],columns=df['fraud'],normalize=True).round(2)"
   ]
  },
  {
   "cell_type": "code",
   "execution_count": 153,
   "metadata": {},
   "outputs": [
    {
     "data": {
      "image/png": "[encoded data removed]",
      "text/plain": [
       "<Figure size 720x576 with 1 Axes>"
      ]
     },
     "metadata": {
      "needs_background": "light"
     },
     "output_type": "display_data"
    },
    {
     "data": {
      "image/png": "[encoded data removed]",
      "text/plain": [
       "<Figure size 720x576 with 1 Axes>"
      ]
     },
     "metadata": {
      "needs_background": "light"
     },
     "output_type": "display_data"
    }
   ],
   "source": [
    "plt.figure(figsize=(10,8))\n",
    "ax = sns.countplot(x='used_chip', data=df, hue=\"fraud\", palette = 'PuBuGn_r')\n",
    "plt.xticks(size=12,fontstyle='italic')\n",
    "plt.yticks(size=12,fontstyle='italic')\n",
    "plt.title('Total Used Chip VS Total fraud', size=15,fontstyle='italic',family='monospace', weight=900)\n",
    "plt.xlabel('Used Chip', size=12, fontstyle='italic', family='monospace',weight=900)\n",
    "plt.ylabel('Total Fraud', size=12, fontstyle='italic',family='monospace', weight=900)\n",
    "for container in ax.containers:\n",
    "    ax.bar_label(container,size=10, horizontalalignment='left')\n",
    "plt.show()\n",
    "\n",
    "plt.figure(figsize=(10,8))\n",
    "ax = sns.countplot(x=\"used_chip\", hue=\"fraud\", data=df,palette = 'PuBuGn_r')\n",
    "for p in ax.patches:\n",
    "    percentage = '{:.1f}%'.format(100 * p.get_height()/total)\n",
    "    x = p.get_x() + p.get_width()\n",
    "    y = p.get_height()\n",
    "    ax.annotate(percentage, (x, y),ha='right')\n",
    "    plt.xticks(size=12,fontstyle='italic')\n",
    "    plt.yticks(size=12,fontstyle='italic')\n",
    "    plt.title('Total Used Chip (%) VS Total fraud (%)', size=15,fontstyle='italic',family='monospace', weight=900)\n",
    "    plt.xlabel('Used Chip', size=12, fontstyle='italic', family='monospace',weight=900)\n",
    "    plt.ylabel('Total Fraud (%)', size=12, fontstyle='italic',family='monospace', weight=900)\n",
    "plt.show()"
   ]
  },
  {
   "cell_type": "markdown",
   "metadata": {},
   "source": [
    "- Insight :\n",
    "  - Total kartu kredit yang menggunakan chip sebanyak 35% dan yang tidak menggunakan chip sebanyak 65%, namun kecurangan paling banyak terjadi dari kartu kredit yang tidak menggunakan chip sebanyak 6.5% dari total keseluruhan kartu kredit yang tidak menggunakan chip, angka ini lebih tinggi dari pada kartu kredit yang menggunakan chip."
   ]
  },
  {
   "cell_type": "code",
   "execution_count": 154,
   "metadata": {},
   "outputs": [
    {
     "data": {
      "text/html": [
       "<div>\n",
       "<style scoped>\n",
       "    .dataframe tbody tr th:only-of-type {\n",
       "        vertical-align: middle;\n",
       "    }\n",
       "\n",
       "    .dataframe tbody tr th {\n",
       "        vertical-align: top;\n",
       "    }\n",
       "\n",
       "    .dataframe thead th {\n",
       "        text-align: right;\n",
       "    }\n",
       "</style>\n",
       "<table border=\"1\" class=\"dataframe\">\n",
       "  <thead>\n",
       "    <tr style=\"text-align: right;\">\n",
       "      <th>fraud</th>\n",
       "      <th>0.0</th>\n",
       "      <th>1.0</th>\n",
       "    </tr>\n",
       "    <tr>\n",
       "      <th>used_pin_number</th>\n",
       "      <th></th>\n",
       "      <th></th>\n",
       "    </tr>\n",
       "  </thead>\n",
       "  <tbody>\n",
       "    <tr>\n",
       "      <th>0.0</th>\n",
       "      <td>0.81</td>\n",
       "      <td>0.09</td>\n",
       "    </tr>\n",
       "    <tr>\n",
       "      <th>1.0</th>\n",
       "      <td>0.10</td>\n",
       "      <td>0.00</td>\n",
       "    </tr>\n",
       "  </tbody>\n",
       "</table>\n",
       "</div>"
      ],
      "text/plain": [
       "fraud             0.0   1.0\n",
       "used_pin_number            \n",
       "0.0              0.81  0.09\n",
       "1.0              0.10  0.00"
      ]
     },
     "execution_count": 154,
     "metadata": {},
     "output_type": "execute_result"
    }
   ],
   "source": [
    "pd.crosstab(index=df['used_pin_number'],columns=df['fraud'],normalize=True).round(2)"
   ]
  },
  {
   "cell_type": "markdown",
   "metadata": {},
   "source": [
    "#### **Used Pin**"
   ]
  },
  {
   "cell_type": "code",
   "execution_count": 155,
   "metadata": {},
   "outputs": [
    {
     "data": {
      "image/png": "[encoded data removed]",
      "text/plain": [
       "<Figure size 720x576 with 1 Axes>"
      ]
     },
     "metadata": {
      "needs_background": "light"
     },
     "output_type": "display_data"
    },
    {
     "data": {
      "image/png": "[encoded data removed]",
      "text/plain": [
       "<Figure size 720x576 with 1 Axes>"
      ]
     },
     "metadata": {
      "needs_background": "light"
     },
     "output_type": "display_data"
    }
   ],
   "source": [
    "plt.figure(figsize=(10,8))\n",
    "ax = sns.countplot(x='used_pin_number', data=df, hue=\"fraud\", palette = 'PuBuGn_r')\n",
    "plt.xticks(size=12,fontstyle='italic')\n",
    "plt.yticks(size=12,fontstyle='italic')\n",
    "plt.title('Total Use Pin Number VS Total fraud', size=15,fontstyle='italic',family='monospace', weight=900)\n",
    "plt.xlabel('Used Pin', size=12, fontstyle='italic', family='monospace',weight=900)\n",
    "plt.ylabel('Total Fraud (%)', size=12, fontstyle='italic',family='monospace', weight=900)\n",
    "for container in ax.containers:\n",
    "    ax.bar_label(container,size=10, horizontalalignment='left')\n",
    "plt.show()\n",
    "\n",
    "plt.figure(figsize=(10,8))\n",
    "ax = sns.countplot(x=\"used_pin_number\", hue=\"fraud\", data=df,palette = 'PuBuGn_r')\n",
    "for p in ax.patches:\n",
    "    percentage = '{:.1f}%'.format(100 * p.get_height()/total)\n",
    "    x = p.get_x() + p.get_width()\n",
    "    y = p.get_height()\n",
    "    ax.annotate(percentage, (x, y),ha='right')\n",
    "    plt.xticks(size=12,fontstyle='italic')\n",
    "    plt.yticks(size=12,fontstyle='italic')\n",
    "    plt.title('Total Use Pin Number (%) VS Total fraud (%)', size=15,fontstyle='italic',family='monospace', weight=900)\n",
    "    plt.xlabel('Used Pin Number', fontstyle='italic', size=12, family='monospace',weight=900)\n",
    "    plt.ylabel('Total Fraud (%)', size=12, fontstyle='italic',family='monospace', weight=900)\n",
    "plt.show()"
   ]
  },
  {
   "cell_type": "markdown",
   "metadata": {},
   "source": [
    "- Insight :\n",
    "  - Kartu kredit yang menggunakan nomor pada chip sebanyak 10.1%, lebih rendah dari pada kartu kredit yang tidak menggunakan nomor pada chip sebanyak 89%, namun kecurangan pada kartu kredit paling banyak terjadi pada kartu kredit yang tidak memiliki nomor pada chip yaitu sebanyak 8.7% dan hal ini lebih tinggi dari pada kartu kredit yang menggunakan chip yaitu 0.0%"
   ]
  },
  {
   "cell_type": "markdown",
   "metadata": {},
   "source": [
    "#### **Online Order**"
   ]
  },
  {
   "cell_type": "code",
   "execution_count": 156,
   "metadata": {},
   "outputs": [
    {
     "data": {
      "text/html": [
       "<div>\n",
       "<style scoped>\n",
       "    .dataframe tbody tr th:only-of-type {\n",
       "        vertical-align: middle;\n",
       "    }\n",
       "\n",
       "    .dataframe tbody tr th {\n",
       "        vertical-align: top;\n",
       "    }\n",
       "\n",
       "    .dataframe thead th {\n",
       "        text-align: right;\n",
       "    }\n",
       "</style>\n",
       "<table border=\"1\" class=\"dataframe\">\n",
       "  <thead>\n",
       "    <tr style=\"text-align: right;\">\n",
       "      <th>fraud</th>\n",
       "      <th>0.0</th>\n",
       "      <th>1.0</th>\n",
       "    </tr>\n",
       "    <tr>\n",
       "      <th>online_order</th>\n",
       "      <th></th>\n",
       "      <th></th>\n",
       "    </tr>\n",
       "  </thead>\n",
       "  <tbody>\n",
       "    <tr>\n",
       "      <th>0.0</th>\n",
       "      <td>0.34</td>\n",
       "      <td>0.00</td>\n",
       "    </tr>\n",
       "    <tr>\n",
       "      <th>1.0</th>\n",
       "      <td>0.57</td>\n",
       "      <td>0.08</td>\n",
       "    </tr>\n",
       "  </tbody>\n",
       "</table>\n",
       "</div>"
      ],
      "text/plain": [
       "fraud          0.0   1.0\n",
       "online_order            \n",
       "0.0           0.34  0.00\n",
       "1.0           0.57  0.08"
      ]
     },
     "execution_count": 156,
     "metadata": {},
     "output_type": "execute_result"
    }
   ],
   "source": [
    "pd.crosstab(index=df['online_order'],columns=df['fraud'],normalize=True).round(2)"
   ]
  },
  {
   "cell_type": "markdown",
   "metadata": {},
   "source": [
    "#### **Online Order**"
   ]
  },
  {
   "cell_type": "code",
   "execution_count": 157,
   "metadata": {},
   "outputs": [
    {
     "data": {
      "image/png": "[encoded data removed]",
      "text/plain": [
       "<Figure size 720x576 with 1 Axes>"
      ]
     },
     "metadata": {
      "needs_background": "light"
     },
     "output_type": "display_data"
    },
    {
     "data": {
      "image/png": "[encoded data removed]",
      "text/plain": [
       "<Figure size 720x576 with 1 Axes>"
      ]
     },
     "metadata": {
      "needs_background": "light"
     },
     "output_type": "display_data"
    }
   ],
   "source": [
    "plt.figure(figsize=(10,8))\n",
    "ax = sns.countplot(x='online_order', data=df, hue=\"fraud\", palette = 'PuBuGn_r')\n",
    "plt.xticks(size=10,fontstyle='italic')\n",
    "plt.yticks(size=10,fontstyle='italic')\n",
    "plt.title('Total Online Order VS Total fraud', size=15,fontstyle='italic',family='monospace', weight=900)\n",
    "plt.xlabel('Online Order', fontstyle='italic', size=12, family='monospace',weight=900)\n",
    "plt.ylabel('Total Fraud', size=12, fontstyle='italic',family='monospace', weight=900)\n",
    "for container in ax.containers:\n",
    "    ax.bar_label(container,size=10, horizontalalignment='left')\n",
    "plt.show()\n",
    "\n",
    "plt.figure(figsize=(10,8))\n",
    "ax = sns.countplot(x=\"online_order\", hue=\"fraud\", data=df,palette = 'PuBuGn_r')\n",
    "for p in ax.patches:\n",
    "    percentage = '{:.1f}%'.format(100 * p.get_height()/total)\n",
    "    x = p.get_x() + p.get_width()\n",
    "    y = p.get_height()\n",
    "    ax.annotate(percentage, (x, y),ha='right')\n",
    "    plt.xticks(size=12,fontstyle='italic')\n",
    "    plt.yticks(size=12,fontstyle='italic')\n",
    "    plt.title('Total Online Order (%) VS Total fraud (%)', size=15,fontstyle='italic',family='monospace', weight=900)\n",
    "    plt.xlabel('Online Order', size=12, fontstyle='italic', family='monospace',weight=900)\n",
    "    plt.ylabel('Total Fraud (%)', size=12, fontstyle='italic',family='monospace', weight=900)\n",
    "plt.show()"
   ]
  },
  {
   "cell_type": "markdown",
   "metadata": {},
   "source": [
    "- Insight :\n",
    "  - Pembelian secara online menggunakan kartu kredit lebih banyak 65% dari pada pembelian tidak online sebanyak 35%, namun kasus kecurangan kartu kredit paling banyak terjadi dari pembelian secara online yaitu 8.3%, pembelian secara online dengan kartu kredit memiliki proporsi lebih tinggi dari pada pembelian menggunakan kartu kredit untuk pembelian offline."
   ]
  },
  {
   "cell_type": "markdown",
   "metadata": {},
   "source": [
    "#### **Ratio To Median Purchase Price Category**"
   ]
  },
  {
   "cell_type": "code",
   "execution_count": 162,
   "metadata": {},
   "outputs": [
    {
     "data": {
      "image/png": "[encoded data removed]",
      "text/plain": [
       "<Figure size 720x576 with 1 Axes>"
      ]
     },
     "metadata": {
      "needs_background": "light"
     },
     "output_type": "display_data"
    },
    {
     "data": {
      "image/png": "[encoded data removed]",
      "text/plain": [
       "<Figure size 720x576 with 1 Axes>"
      ]
     },
     "metadata": {
      "needs_background": "light"
     },
     "output_type": "display_data"
    },
    {
     "data": {
      "image/png": "[encoded data removed]",
      "text/plain": [
       "<Figure size 864x504 with 1 Axes>"
      ]
     },
     "metadata": {
      "needs_background": "light"
     },
     "output_type": "display_data"
    }
   ],
   "source": [
    "plt.figure(figsize=(10,8))\n",
    "ax = sns.countplot(x='ratio_to_median_purchase_price_category', data=df, hue=\"fraud\", palette = 'PuBuGn_r')\n",
    "plt.xticks(size=12,fontstyle='italic')\n",
    "plt.yticks(size=12,fontstyle='italic')\n",
    "plt.title('Total Online Order VS Total fraud', size=15,fontstyle='italic',family='monospace', weight=900)\n",
    "plt.xlabel('Online Order', size=12, fontstyle='italic', family='monospace',weight=900)\n",
    "plt.ylabel('Total Fraud (%)', size=12, fontstyle='italic',family='monospace', weight=900)\n",
    "for container in ax.containers:\n",
    "    ax.bar_label(container,size=10, horizontalalignment='left')\n",
    "plt.show()\n",
    "\n",
    "plt.figure(figsize=(10,8))\n",
    "ax = sns.countplot(x=\"ratio_to_median_purchase_price_category\", hue=\"fraud\", data=df,palette = 'PuBuGn_r')\n",
    "for p in ax.patches:\n",
    "    percentage = '{:.1f}%'.format(100 * p.get_height()/total)\n",
    "    x = p.get_x() + p.get_width()\n",
    "    y = p.get_height()\n",
    "    ax.annotate(percentage, (x, y),ha='right')\n",
    "    plt.xticks(size=12,fontstyle='italic')\n",
    "    plt.yticks(size=12,fontstyle='italic')\n",
    "    plt.title('Total Ratio To Median Purchase Price Category (%) VS Total fraud (%)', size=15,fontstyle='italic',family='monospace', weight=900)\n",
    "    plt.xlabel('Ratio To Median Purchase Price Category', size=12, fontstyle='italic', family='monospace',weight=900)\n",
    "    plt.ylabel('Total Fraud (%)', size=12, fontstyle='italic',family='monospace', weight=900)\n",
    "plt.show()\n",
    "\n",
    "plt.figure(figsize=(12,7))\n",
    "df_yes=df[df['fraud']==1]['ratio_to_median_purchase_price'] \n",
    "df_no=df[df['fraud']==0]['ratio_to_median_purchase_price'] \n",
    "sns.kdeplot(df_yes, label = 'Pelanggan Fraud', shade = True, color = 'r',fill=True)\n",
    "sns.kdeplot(df_no, label = 'Fraud', shade = True, color = 'b', fill=True)\n",
    "plt.legend()\n",
    "plt.xticks(size=10,fontstyle='italic')\n",
    "plt.yticks(size=10,fontstyle='italic')\n",
    "plt.title('Total Ratio To Median Purchase Price (%)',fontstyle='italic',family='monospace', weight=900)\n",
    "plt.xlabel('Ratio To Median Purchase Price', fontstyle='italic', size=10, family='monospace',weight=900)\n",
    "plt.ylabel('Density Ratio To Median Purchase Price', size=10, fontstyle='italic',family='monospace', weight=900)\n",
    "plt.show()"
   ]
  },
  {
   "cell_type": "markdown",
   "metadata": {},
   "source": [
    "- Insight :\n",
    "  - Kasus kecurangan paling banyak terjadi dari pembelian yang kurang dari 20 USD , sedangkan pembelian diatas 20 USD cenderung menurun kasus kecurangan dengan kartu kredit."
   ]
  },
  {
   "cell_type": "code",
   "execution_count": null,
   "metadata": {},
   "outputs": [
    {
     "data": {
      "image/png": "[encoded data removed]",
      "text/plain": [
       "<Figure size 576x504 with 1 Axes>"
      ]
     },
     "metadata": {
      "needs_background": "light"
     },
     "output_type": "display_data"
    }
   ],
   "source": [
    "plt.figure(figsize=(8, 7))\n",
    "sns.heatmap(df.corr('spearman'), cmap='viridis', cbar=False, annot=True)\n",
    "plt.show()"
   ]
  },
  {
   "cell_type": "code",
   "execution_count": null,
   "metadata": {},
   "outputs": [
    {
     "data": {
      "image/png": "[encoded data removed]",
      "text/plain": [
       "<Figure size 576x504 with 1 Axes>"
      ]
     },
     "metadata": {
      "needs_background": "light"
     },
     "output_type": "display_data"
    }
   ],
   "source": [
    "plt.figure(figsize=(8, 7))\n",
    "sns.heatmap(df.corr('spearman'), cmap='viridis', cbar=False, annot=True)\n",
    "plt.show()"
   ]
  },
  {
   "cell_type": "code",
   "execution_count": null,
   "metadata": {},
   "outputs": [
    {
     "data": {
      "text/html": [
       "<div>\n",
       "<style scoped>\n",
       "    .dataframe tbody tr th:only-of-type {\n",
       "        vertical-align: middle;\n",
       "    }\n",
       "\n",
       "    .dataframe tbody tr th {\n",
       "        vertical-align: top;\n",
       "    }\n",
       "\n",
       "    .dataframe thead th {\n",
       "        text-align: right;\n",
       "    }\n",
       "</style>\n",
       "<table border=\"1\" class=\"dataframe\">\n",
       "  <thead>\n",
       "    <tr style=\"text-align: right;\">\n",
       "      <th></th>\n",
       "      <th>distance_from_home</th>\n",
       "      <th>distance_from_last_transaction</th>\n",
       "      <th>ratio_to_median_purchase_price</th>\n",
       "      <th>repeat_retailer</th>\n",
       "      <th>used_chip</th>\n",
       "      <th>used_pin_number</th>\n",
       "      <th>online_order</th>\n",
       "      <th>fraud</th>\n",
       "      <th>distance_from_home_category</th>\n",
       "      <th>ratio_to_median_purchase_price_category</th>\n",
       "    </tr>\n",
       "  </thead>\n",
       "  <tbody>\n",
       "    <tr>\n",
       "      <th>0</th>\n",
       "      <td>57.877857</td>\n",
       "      <td>0.311140</td>\n",
       "      <td>1.945940</td>\n",
       "      <td>1.0</td>\n",
       "      <td>1.0</td>\n",
       "      <td>0.0</td>\n",
       "      <td>0.0</td>\n",
       "      <td>0.0</td>\n",
       "      <td>Far From Home</td>\n",
       "      <td>Medium Price</td>\n",
       "    </tr>\n",
       "    <tr>\n",
       "      <th>1</th>\n",
       "      <td>10.829943</td>\n",
       "      <td>0.175592</td>\n",
       "      <td>1.294219</td>\n",
       "      <td>1.0</td>\n",
       "      <td>0.0</td>\n",
       "      <td>0.0</td>\n",
       "      <td>0.0</td>\n",
       "      <td>0.0</td>\n",
       "      <td>Near Home</td>\n",
       "      <td>Medium Price</td>\n",
       "    </tr>\n",
       "    <tr>\n",
       "      <th>2</th>\n",
       "      <td>5.091079</td>\n",
       "      <td>0.805153</td>\n",
       "      <td>0.427715</td>\n",
       "      <td>1.0</td>\n",
       "      <td>0.0</td>\n",
       "      <td>0.0</td>\n",
       "      <td>1.0</td>\n",
       "      <td>0.0</td>\n",
       "      <td>Near Home</td>\n",
       "      <td>Low Price</td>\n",
       "    </tr>\n",
       "    <tr>\n",
       "      <th>3</th>\n",
       "      <td>2.247564</td>\n",
       "      <td>5.600044</td>\n",
       "      <td>0.362663</td>\n",
       "      <td>1.0</td>\n",
       "      <td>1.0</td>\n",
       "      <td>0.0</td>\n",
       "      <td>1.0</td>\n",
       "      <td>0.0</td>\n",
       "      <td>Near Home</td>\n",
       "      <td>Low Price</td>\n",
       "    </tr>\n",
       "    <tr>\n",
       "      <th>4</th>\n",
       "      <td>44.190936</td>\n",
       "      <td>0.566486</td>\n",
       "      <td>2.222767</td>\n",
       "      <td>1.0</td>\n",
       "      <td>1.0</td>\n",
       "      <td>0.0</td>\n",
       "      <td>1.0</td>\n",
       "      <td>0.0</td>\n",
       "      <td>Far From Home</td>\n",
       "      <td>Medium Price</td>\n",
       "    </tr>\n",
       "  </tbody>\n",
       "</table>\n",
       "</div>"
      ],
      "text/plain": [
       "   distance_from_home  distance_from_last_transaction  \\\n",
       "0           57.877857                        0.311140   \n",
       "1           10.829943                        0.175592   \n",
       "2            5.091079                        0.805153   \n",
       "3            2.247564                        5.600044   \n",
       "4           44.190936                        0.566486   \n",
       "\n",
       "   ratio_to_median_purchase_price  repeat_retailer  used_chip  \\\n",
       "0                        1.945940              1.0        1.0   \n",
       "1                        1.294219              1.0        0.0   \n",
       "2                        0.427715              1.0        0.0   \n",
       "3                        0.362663              1.0        1.0   \n",
       "4                        2.222767              1.0        1.0   \n",
       "\n",
       "   used_pin_number  online_order  fraud distance_from_home_category  \\\n",
       "0              0.0           0.0    0.0               Far From Home   \n",
       "1              0.0           0.0    0.0                   Near Home   \n",
       "2              0.0           1.0    0.0                   Near Home   \n",
       "3              0.0           1.0    0.0                   Near Home   \n",
       "4              0.0           1.0    0.0               Far From Home   \n",
       "\n",
       "  ratio_to_median_purchase_price_category  \n",
       "0                            Medium Price  \n",
       "1                            Medium Price  \n",
       "2                               Low Price  \n",
       "3                               Low Price  \n",
       "4                            Medium Price  "
      ]
     },
     "execution_count": 32,
     "metadata": {},
     "output_type": "execute_result"
    }
   ],
   "source": [
    "df.head()"
   ]
  },
  {
   "cell_type": "code",
   "execution_count": null,
   "metadata": {},
   "outputs": [],
   "source": [
    "df.drop(columns=['distance_from_home_category','ratio_to_median_purchase_price_category','repeat_retailer','used_chip'],inplace=True)"
   ]
  },
  {
   "cell_type": "markdown",
   "metadata": {},
   "source": [
    "### **MACHINE LEARNING WITH**"
   ]
  },
  {
   "cell_type": "markdown",
   "metadata": {},
   "source": [
    "#### **MACHINE LEARNING WITH OUTLIER**"
   ]
  },
  {
   "cell_type": "markdown",
   "metadata": {},
   "source": [
    "##### **FEATURE ENGINEERING**"
   ]
  },
  {
   "cell_type": "code",
   "execution_count": null,
   "metadata": {},
   "outputs": [
    {
     "data": {
      "text/html": [
       "<div>\n",
       "<style scoped>\n",
       "    .dataframe tbody tr th:only-of-type {\n",
       "        vertical-align: middle;\n",
       "    }\n",
       "\n",
       "    .dataframe tbody tr th {\n",
       "        vertical-align: top;\n",
       "    }\n",
       "\n",
       "    .dataframe thead th {\n",
       "        text-align: right;\n",
       "    }\n",
       "</style>\n",
       "<table border=\"1\" class=\"dataframe\">\n",
       "  <thead>\n",
       "    <tr style=\"text-align: right;\">\n",
       "      <th></th>\n",
       "      <th>distance_from_home</th>\n",
       "      <th>distance_from_last_transaction</th>\n",
       "      <th>ratio_to_median_purchase_price</th>\n",
       "      <th>used_pin_number</th>\n",
       "      <th>online_order</th>\n",
       "      <th>fraud</th>\n",
       "    </tr>\n",
       "  </thead>\n",
       "  <tbody>\n",
       "    <tr>\n",
       "      <th>0</th>\n",
       "      <td>0.005443</td>\n",
       "      <td>0.000026</td>\n",
       "      <td>0.007250</td>\n",
       "      <td>0.0</td>\n",
       "      <td>0.0</td>\n",
       "      <td>0.0</td>\n",
       "    </tr>\n",
       "    <tr>\n",
       "      <th>1</th>\n",
       "      <td>0.001018</td>\n",
       "      <td>0.000015</td>\n",
       "      <td>0.004816</td>\n",
       "      <td>0.0</td>\n",
       "      <td>0.0</td>\n",
       "      <td>0.0</td>\n",
       "    </tr>\n",
       "    <tr>\n",
       "      <th>2</th>\n",
       "      <td>0.000478</td>\n",
       "      <td>0.000068</td>\n",
       "      <td>0.001581</td>\n",
       "      <td>0.0</td>\n",
       "      <td>1.0</td>\n",
       "      <td>0.0</td>\n",
       "    </tr>\n",
       "    <tr>\n",
       "      <th>3</th>\n",
       "      <td>0.000211</td>\n",
       "      <td>0.000473</td>\n",
       "      <td>0.001338</td>\n",
       "      <td>0.0</td>\n",
       "      <td>1.0</td>\n",
       "      <td>0.0</td>\n",
       "    </tr>\n",
       "    <tr>\n",
       "      <th>4</th>\n",
       "      <td>0.004156</td>\n",
       "      <td>0.000048</td>\n",
       "      <td>0.008284</td>\n",
       "      <td>0.0</td>\n",
       "      <td>1.0</td>\n",
       "      <td>0.0</td>\n",
       "    </tr>\n",
       "  </tbody>\n",
       "</table>\n",
       "</div>"
      ],
      "text/plain": [
       "   distance_from_home  distance_from_last_transaction  \\\n",
       "0            0.005443                        0.000026   \n",
       "1            0.001018                        0.000015   \n",
       "2            0.000478                        0.000068   \n",
       "3            0.000211                        0.000473   \n",
       "4            0.004156                        0.000048   \n",
       "\n",
       "   ratio_to_median_purchase_price  used_pin_number  online_order  fraud  \n",
       "0                        0.007250              0.0           0.0    0.0  \n",
       "1                        0.004816              0.0           0.0    0.0  \n",
       "2                        0.001581              0.0           1.0    0.0  \n",
       "3                        0.001338              0.0           1.0    0.0  \n",
       "4                        0.008284              0.0           1.0    0.0  "
      ]
     },
     "execution_count": 34,
     "metadata": {},
     "output_type": "execute_result"
    }
   ],
   "source": [
    "scaler = MinMaxScaler()\n",
    "fraud = df['fraud']\n",
    "used_pin_number = df['used_pin_number']\n",
    "online_order = df['online_order']\n",
    "df.drop(columns='fraud',inplace=True)\n",
    "df = pd.DataFrame(scaler.fit_transform(df), columns=df.columns)\n",
    "df['used_pin_number'] = used_pin_number\n",
    "df['online_order'] = online_order\n",
    "df['fraud'] = fraud\n",
    "df.head(5)"
   ]
  },
  {
   "cell_type": "code",
   "execution_count": null,
   "metadata": {},
   "outputs": [],
   "source": [
    "df.drop(columns='distance_from_last_transaction',inplace=True)"
   ]
  },
  {
   "cell_type": "code",
   "execution_count": null,
   "metadata": {},
   "outputs": [],
   "source": [
    "transformer = ColumnTransformer([\n",
    "    ('onehot', OneHotEncoder(drop='first'), ['used_pin_number','online_order']),\n",
    "], remainder='passthrough')"
   ]
  },
  {
   "cell_type": "code",
   "execution_count": null,
   "metadata": {},
   "outputs": [],
   "source": [
    "X = df.drop('fraud',axis=1)\n",
    "y = df['fraud']"
   ]
  },
  {
   "cell_type": "code",
   "execution_count": null,
   "metadata": {},
   "outputs": [],
   "source": [
    "X_train,X_test,y_train,y_test=train_test_split(X,y,stratify=y,test_size=0.2,random_state=42)"
   ]
  },
  {
   "cell_type": "code",
   "execution_count": null,
   "metadata": {},
   "outputs": [
    {
     "data": {
      "text/html": [
       "<div>\n",
       "<style scoped>\n",
       "    .dataframe tbody tr th:only-of-type {\n",
       "        vertical-align: middle;\n",
       "    }\n",
       "\n",
       "    .dataframe tbody tr th {\n",
       "        vertical-align: top;\n",
       "    }\n",
       "\n",
       "    .dataframe thead th {\n",
       "        text-align: right;\n",
       "    }\n",
       "</style>\n",
       "<table border=\"1\" class=\"dataframe\">\n",
       "  <thead>\n",
       "    <tr style=\"text-align: right;\">\n",
       "      <th></th>\n",
       "      <th>onehot__x0_1.0</th>\n",
       "      <th>onehot__x1_1.0</th>\n",
       "      <th>distance_from_home</th>\n",
       "      <th>ratio_to_median_purchase_price</th>\n",
       "    </tr>\n",
       "  </thead>\n",
       "  <tbody>\n",
       "    <tr>\n",
       "      <th>0</th>\n",
       "      <td>0.0</td>\n",
       "      <td>1.0</td>\n",
       "      <td>0.000322</td>\n",
       "      <td>0.000762</td>\n",
       "    </tr>\n",
       "    <tr>\n",
       "      <th>1</th>\n",
       "      <td>0.0</td>\n",
       "      <td>1.0</td>\n",
       "      <td>0.001420</td>\n",
       "      <td>0.010116</td>\n",
       "    </tr>\n",
       "    <tr>\n",
       "      <th>2</th>\n",
       "      <td>0.0</td>\n",
       "      <td>1.0</td>\n",
       "      <td>0.002990</td>\n",
       "      <td>0.001121</td>\n",
       "    </tr>\n",
       "    <tr>\n",
       "      <th>3</th>\n",
       "      <td>0.0</td>\n",
       "      <td>0.0</td>\n",
       "      <td>0.000960</td>\n",
       "      <td>0.001254</td>\n",
       "    </tr>\n",
       "    <tr>\n",
       "      <th>4</th>\n",
       "      <td>0.0</td>\n",
       "      <td>0.0</td>\n",
       "      <td>0.007693</td>\n",
       "      <td>0.004778</td>\n",
       "    </tr>\n",
       "  </tbody>\n",
       "</table>\n",
       "</div>"
      ],
      "text/plain": [
       "   onehot__x0_1.0  onehot__x1_1.0  distance_from_home  \\\n",
       "0             0.0             1.0            0.000322   \n",
       "1             0.0             1.0            0.001420   \n",
       "2             0.0             1.0            0.002990   \n",
       "3             0.0             0.0            0.000960   \n",
       "4             0.0             0.0            0.007693   \n",
       "\n",
       "   ratio_to_median_purchase_price  \n",
       "0                        0.000762  \n",
       "1                        0.010116  \n",
       "2                        0.001121  \n",
       "3                        0.001254  \n",
       "4                        0.004778  "
      ]
     },
     "execution_count": 39,
     "metadata": {},
     "output_type": "execute_result"
    }
   ],
   "source": [
    "cek_hasil_tranformer = pd.DataFrame(transformer.fit_transform(X_train),columns=transformer.get_feature_names())\n",
    "cek_hasil_tranformer.head()"
   ]
  },
  {
   "cell_type": "markdown",
   "metadata": {},
   "source": [
    "- Penggunaan Feature Engineering untuk kolom `distance from home` **,** `distance from last transaction` **,** ` retio to median purchase price`, dalam feature engineering ini menggunakan scaling untuk mengecilkan angka standar deviasi agar tidak menyebabkan bias terlalu besar saat di machine learning."
   ]
  },
  {
   "cell_type": "markdown",
   "metadata": {},
   "source": [
    "#### **MODELING MACHINE LEARNING**"
   ]
  },
  {
   "cell_type": "markdown",
   "metadata": {},
   "source": [
    "##### **BASE MODEL MACHINE LEARNING**"
   ]
  },
  {
   "cell_type": "code",
   "execution_count": null,
   "metadata": {},
   "outputs": [],
   "source": [
    "model_dt=DecisionTreeClassifier()\n",
    "model_rf=RandomForestClassifier()\n",
    "model_xgb=XGBClassifier()"
   ]
  },
  {
   "cell_type": "code",
   "execution_count": null,
   "metadata": {},
   "outputs": [
    {
     "name": "stdout",
     "output_type": "stream",
     "text": [
      "[0.9745125 0.9743425] DecisionTreeClassifier()\n",
      "[0.85301164 0.85412839] DecisionTreeClassifier()\n",
      "[0.85606819 0.84991848] DecisionTreeClassifier()\n",
      "[0.85464253 0.85242846] DecisionTreeClassifier()\n",
      "[0.9815  0.98121] RandomForestClassifier()\n",
      "[0.90330975 0.90624076] RandomForestClassifier()\n",
      "[0.88284088 0.87760648] RandomForestClassifier()\n",
      "[0.89284011 0.89091385] RandomForestClassifier()\n",
      "[0.98314   0.9830475] XGBClassifier(base_score=None, booster=None, callbacks=None,\n",
      "              colsample_bylevel=None, colsample_bynode=None,\n",
      "              colsample_bytree=None, early_stopping_rounds=None,\n",
      "              enable_categorical=False, eval_metric=None, gamma=None,\n",
      "              gpu_id=None, grow_policy=None, importance_type=None,\n",
      "              interaction_constraints=None, learning_rate=None, max_bin=None,\n",
      "              max_cat_to_onehot=None, max_delta_step=None, max_depth=None,\n",
      "              max_leaves=None, min_child_weight=None, missing=nan,\n",
      "              monotone_constraints=None, n_estimators=100, n_jobs=None,\n",
      "              num_parallel_tree=None, predictor=None, random_state=None,\n",
      "              reg_alpha=None, reg_lambda=None, ...)\n",
      "[0.88754292 0.88976487] XGBClassifier(base_score=None, booster=None, callbacks=None,\n",
      "              colsample_bylevel=None, colsample_bynode=None,\n",
      "              colsample_bytree=None, early_stopping_rounds=None,\n",
      "              enable_categorical=False, eval_metric=None, gamma=None,\n",
      "              gpu_id=None, grow_policy=None, importance_type=None,\n",
      "              interaction_constraints=None, learning_rate=None, max_bin=None,\n",
      "              max_cat_to_onehot=None, max_delta_step=None, max_depth=None,\n",
      "              max_leaves=None, min_child_weight=None, missing=nan,\n",
      "              monotone_constraints=None, n_estimators=100, n_jobs=None,\n",
      "              num_parallel_tree=None, predictor=None, random_state=None,\n",
      "              reg_alpha=None, reg_lambda=None, ...)\n",
      "[0.92420125 0.92002517] XGBClassifier(base_score=None, booster=None, callbacks=None,\n",
      "              colsample_bylevel=None, colsample_bynode=None,\n",
      "              colsample_bytree=None, early_stopping_rounds=None,\n",
      "              enable_categorical=False, eval_metric=None, gamma=None,\n",
      "              gpu_id=None, grow_policy=None, importance_type=None,\n",
      "              interaction_constraints=None, learning_rate=None, max_bin=None,\n",
      "              max_cat_to_onehot=None, max_delta_step=None, max_depth=None,\n",
      "              max_leaves=None, min_child_weight=None, missing=nan,\n",
      "              monotone_constraints=None, n_estimators=100, n_jobs=None,\n",
      "              num_parallel_tree=None, predictor=None, random_state=None,\n",
      "              reg_alpha=None, reg_lambda=None, ...)\n",
      "[0.90550122 0.90464204] XGBClassifier(base_score=None, booster=None, callbacks=None,\n",
      "              colsample_bylevel=None, colsample_bynode=None,\n",
      "              colsample_bytree=None, early_stopping_rounds=None,\n",
      "              enable_categorical=False, eval_metric=None, gamma=None,\n",
      "              gpu_id=None, grow_policy=None, importance_type=None,\n",
      "              interaction_constraints=None, learning_rate=None, max_bin=None,\n",
      "              max_cat_to_onehot=None, max_delta_step=None, max_depth=None,\n",
      "              max_leaves=None, min_child_weight=None, missing=nan,\n",
      "              monotone_constraints=None, n_estimators=100, n_jobs=None,\n",
      "              num_parallel_tree=None, predictor=None, random_state=None,\n",
      "              reg_alpha=None, reg_lambda=None, ...)\n"
     ]
    }
   ],
   "source": [
    "model_machine_learning = [model_dt, model_rf, model_xgb]\n",
    "\n",
    "score_accuracy_mean_ml_train = []\n",
    "score_recall_mean_ml_train = []\n",
    "score_precision_mean_ml_train = []\n",
    "score_f1_mean_ml_train = []\n",
    "\n",
    "for i in model_machine_learning:\n",
    "    croval_classification = StratifiedKFold(n_splits=2)\n",
    "    estimator = Pipeline([\n",
    "        ('Processor',transformer),\n",
    "        ('Model_Machine_Learning',i)])\n",
    "    \n",
    "    model_crossval_acc_train = cross_val_score(estimator,X_train,y_train,cv=croval_classification,scoring='accuracy')\n",
    "    model_crossval_recall_train = cross_val_score(estimator,X_train,y_train,cv=croval_classification,scoring='recall')\n",
    "    model_crossval_precision_train = cross_val_score(estimator,X_train,y_train,cv=croval_classification,scoring='precision')\n",
    "    model_crossval_f1_train =  cross_val_score(estimator,X_train,y_train,cv=croval_classification,scoring='f1')\n",
    "    \n",
    "    score_accuracy_mean_ml_train.append(model_crossval_acc_train.mean())\n",
    "    score_recall_mean_ml_train.append(model_crossval_recall_train.mean())\n",
    "    score_precision_mean_ml_train.append(model_crossval_precision_train.mean())\n",
    "    score_f1_mean_ml_train.append(model_crossval_f1_train.mean())\n",
    "    \n",
    "    print(model_crossval_acc_train, i)\n",
    "    print(model_crossval_precision_train, i)\n",
    "    print(model_crossval_recall_train, i)\n",
    "    print(model_crossval_f1_train, i)"
   ]
  },
  {
   "cell_type": "code",
   "execution_count": null,
   "metadata": {},
   "outputs": [
    {
     "name": "stdout",
     "output_type": "stream",
     "text": [
      "Score Training :\n"
     ]
    },
    {
     "data": {
      "text/html": [
       "<div>\n",
       "<style scoped>\n",
       "    .dataframe tbody tr th:only-of-type {\n",
       "        vertical-align: middle;\n",
       "    }\n",
       "\n",
       "    .dataframe tbody tr th {\n",
       "        vertical-align: top;\n",
       "    }\n",
       "\n",
       "    .dataframe thead th {\n",
       "        text-align: right;\n",
       "    }\n",
       "</style>\n",
       "<table border=\"1\" class=\"dataframe\">\n",
       "  <thead>\n",
       "    <tr style=\"text-align: right;\">\n",
       "      <th></th>\n",
       "      <th>Model</th>\n",
       "      <th>Score Outlier Accuracy</th>\n",
       "      <th>Score Outlier Precision</th>\n",
       "      <th>Score Outlier Recall</th>\n",
       "      <th>Score Outlier F1</th>\n",
       "    </tr>\n",
       "  </thead>\n",
       "  <tbody>\n",
       "    <tr>\n",
       "      <th>0</th>\n",
       "      <td>Training Model Outlier DecisionTree Regressor</td>\n",
       "      <td>0.974428</td>\n",
       "      <td>0.852993</td>\n",
       "      <td>0.853570</td>\n",
       "      <td>0.853535</td>\n",
       "    </tr>\n",
       "    <tr>\n",
       "      <th>1</th>\n",
       "      <td>Training Model Outlier RandomForest Regressor</td>\n",
       "      <td>0.981355</td>\n",
       "      <td>0.880224</td>\n",
       "      <td>0.904775</td>\n",
       "      <td>0.891877</td>\n",
       "    </tr>\n",
       "    <tr>\n",
       "      <th>2</th>\n",
       "      <td>Training Model Outlier XGBoost Regressor</td>\n",
       "      <td>0.983094</td>\n",
       "      <td>0.922113</td>\n",
       "      <td>0.888654</td>\n",
       "      <td>0.905072</td>\n",
       "    </tr>\n",
       "  </tbody>\n",
       "</table>\n",
       "</div>"
      ],
      "text/plain": [
       "                                           Model  Score Outlier Accuracy  \\\n",
       "0  Training Model Outlier DecisionTree Regressor                0.974428   \n",
       "1  Training Model Outlier RandomForest Regressor                0.981355   \n",
       "2       Training Model Outlier XGBoost Regressor                0.983094   \n",
       "\n",
       "   Score Outlier Precision  Score Outlier Recall  Score Outlier F1  \n",
       "0                 0.852993              0.853570          0.853535  \n",
       "1                 0.880224              0.904775          0.891877  \n",
       "2                 0.922113              0.888654          0.905072  "
      ]
     },
     "execution_count": 42,
     "metadata": {},
     "output_type": "execute_result"
    }
   ],
   "source": [
    "score_training = pd.DataFrame({ 'Model': ['Training Model Outlier DecisionTree Regressor', 'Training Model Outlier RandomForest Regressor', 'Training Model Outlier XGBoost Regressor'],\n",
    "    'Score Outlier Accuracy': score_accuracy_mean_ml_train,\n",
    "    'Score Outlier Precision': score_recall_mean_ml_train,\n",
    "    'Score Outlier Recall': score_precision_mean_ml_train,\n",
    "    'Score Outlier F1': score_f1_mean_ml_train })\n",
    "print('Score Training :')\n",
    "score_training"
   ]
  },
  {
   "cell_type": "code",
   "execution_count": null,
   "metadata": {},
   "outputs": [
    {
     "name": "stdout",
     "output_type": "stream",
     "text": [
      "[0.97455 0.97544] DecisionTreeClassifier()\n",
      "[0.85069051 0.86247544] DecisionTreeClassifier()\n",
      "[0.86018307 0.85367807] DecisionTreeClassifier()\n",
      "[0.85506174 0.85710996] DecisionTreeClassifier()\n",
      "[0.98172 0.98169] RandomForestClassifier()\n",
      "[0.9015381  0.90891908] RandomForestClassifier()\n",
      "[0.88695652 0.87919002] RandomForestClassifier()\n",
      "[0.89302433 0.8935527 ] RandomForestClassifier()\n",
      "[0.98279 0.98309] XGBClassifier(base_score=None, booster=None, callbacks=None,\n",
      "              colsample_bylevel=None, colsample_bynode=None,\n",
      "              colsample_bytree=None, early_stopping_rounds=None,\n",
      "              enable_categorical=False, eval_metric=None, gamma=None,\n",
      "              gpu_id=None, grow_policy=None, importance_type=None,\n",
      "              interaction_constraints=None, learning_rate=None, max_bin=None,\n",
      "              max_cat_to_onehot=None, max_delta_step=None, max_depth=None,\n",
      "              max_leaves=None, min_child_weight=None, missing=nan,\n",
      "              monotone_constraints=None, n_estimators=100, n_jobs=None,\n",
      "              num_parallel_tree=None, predictor=None, random_state=None,\n",
      "              reg_alpha=None, reg_lambda=None, ...)\n",
      "[0.89615081 0.90313358] XGBClassifier(base_score=None, booster=None, callbacks=None,\n",
      "              colsample_bylevel=None, colsample_bynode=None,\n",
      "              colsample_bytree=None, early_stopping_rounds=None,\n",
      "              enable_categorical=False, eval_metric=None, gamma=None,\n",
      "              gpu_id=None, grow_policy=None, importance_type=None,\n",
      "              interaction_constraints=None, learning_rate=None, max_bin=None,\n",
      "              max_cat_to_onehot=None, max_delta_step=None, max_depth=None,\n",
      "              max_leaves=None, min_child_weight=None, missing=nan,\n",
      "              monotone_constraints=None, n_estimators=100, n_jobs=None,\n",
      "              num_parallel_tree=None, predictor=None, random_state=None,\n",
      "              reg_alpha=None, reg_lambda=None, ...)\n",
      "[0.9083524  0.90344354] XGBClassifier(base_score=None, booster=None, callbacks=None,\n",
      "              colsample_bylevel=None, colsample_bynode=None,\n",
      "              colsample_bytree=None, early_stopping_rounds=None,\n",
      "              enable_categorical=False, eval_metric=None, gamma=None,\n",
      "              gpu_id=None, grow_policy=None, importance_type=None,\n",
      "              interaction_constraints=None, learning_rate=None, max_bin=None,\n",
      "              max_cat_to_onehot=None, max_delta_step=None, max_depth=None,\n",
      "              max_leaves=None, min_child_weight=None, missing=nan,\n",
      "              monotone_constraints=None, n_estimators=100, n_jobs=None,\n",
      "              num_parallel_tree=None, predictor=None, random_state=None,\n",
      "              reg_alpha=None, reg_lambda=None, ...)\n",
      "[0.90221035 0.90328853] XGBClassifier(base_score=None, booster=None, callbacks=None,\n",
      "              colsample_bylevel=None, colsample_bynode=None,\n",
      "              colsample_bytree=None, early_stopping_rounds=None,\n",
      "              enable_categorical=False, eval_metric=None, gamma=None,\n",
      "              gpu_id=None, grow_policy=None, importance_type=None,\n",
      "              interaction_constraints=None, learning_rate=None, max_bin=None,\n",
      "              max_cat_to_onehot=None, max_delta_step=None, max_depth=None,\n",
      "              max_leaves=None, min_child_weight=None, missing=nan,\n",
      "              monotone_constraints=None, n_estimators=100, n_jobs=None,\n",
      "              num_parallel_tree=None, predictor=None, random_state=None,\n",
      "              reg_alpha=None, reg_lambda=None, ...)\n"
     ]
    }
   ],
   "source": [
    "model_machine_learning = [model_dt, model_rf, model_xgb]\n",
    "\n",
    "score_accuracy_mean_ml_test = []\n",
    "score_recall_mean_ml_test = []\n",
    "score_precision_mean_ml_test = []\n",
    "score_f1_mean_ml_test = []\n",
    "\n",
    "for i in model_machine_learning:\n",
    "    croval_classification = StratifiedKFold(n_splits=2)\n",
    "    estimator = Pipeline([\n",
    "        ('Processor',transformer),\n",
    "        ('Model_Machine_Learning',i)])\n",
    "    \n",
    "    model_crossval_acc_test = cross_val_score(estimator,X_test,y_test,cv=croval_classification,scoring='accuracy')\n",
    "    model_crossval_recall_test = cross_val_score(estimator,X_test,y_test,cv=croval_classification,scoring='recall')\n",
    "    model_crossval_precision_test = cross_val_score(estimator,X_test,y_test,cv=croval_classification,scoring='precision')\n",
    "    model_crossval_f1_test =  cross_val_score(estimator,X_test,y_test,cv=croval_classification,scoring='f1')\n",
    "    \n",
    "    score_accuracy_mean_ml_test.append(model_crossval_acc_test.mean())\n",
    "    score_recall_mean_ml_test.append(model_crossval_recall_test.mean())\n",
    "    score_precision_mean_ml_test.append(model_crossval_precision_test.mean())\n",
    "    score_f1_mean_ml_test.append(model_crossval_f1_test.mean())\n",
    "    \n",
    "    print(model_crossval_acc_test, i)\n",
    "    print(model_crossval_precision_test, i)\n",
    "    print(model_crossval_recall_test, i)\n",
    "    print(model_crossval_f1_test, i)"
   ]
  },
  {
   "cell_type": "code",
   "execution_count": null,
   "metadata": {},
   "outputs": [
    {
     "name": "stdout",
     "output_type": "stream",
     "text": [
      "Score Testing :\n"
     ]
    },
    {
     "data": {
      "text/html": [
       "<div>\n",
       "<style scoped>\n",
       "    .dataframe tbody tr th:only-of-type {\n",
       "        vertical-align: middle;\n",
       "    }\n",
       "\n",
       "    .dataframe tbody tr th {\n",
       "        vertical-align: top;\n",
       "    }\n",
       "\n",
       "    .dataframe thead th {\n",
       "        text-align: right;\n",
       "    }\n",
       "</style>\n",
       "<table border=\"1\" class=\"dataframe\">\n",
       "  <thead>\n",
       "    <tr style=\"text-align: right;\">\n",
       "      <th></th>\n",
       "      <th>Model</th>\n",
       "      <th>Score Outlier Accuracy</th>\n",
       "      <th>Score Outlier Precision</th>\n",
       "      <th>Score Outlier Recall</th>\n",
       "      <th>Score Outlier F1</th>\n",
       "    </tr>\n",
       "  </thead>\n",
       "  <tbody>\n",
       "    <tr>\n",
       "      <th>0</th>\n",
       "      <td>Testing Model Outlier DecisionTree Regressor</td>\n",
       "      <td>0.974995</td>\n",
       "      <td>0.856931</td>\n",
       "      <td>0.856583</td>\n",
       "      <td>0.856086</td>\n",
       "    </tr>\n",
       "    <tr>\n",
       "      <th>1</th>\n",
       "      <td>Testing Model Outlier RandomForest Regressor</td>\n",
       "      <td>0.981705</td>\n",
       "      <td>0.883073</td>\n",
       "      <td>0.905229</td>\n",
       "      <td>0.893289</td>\n",
       "    </tr>\n",
       "    <tr>\n",
       "      <th>2</th>\n",
       "      <td>Testing Model Outlier XGBoost Regressor</td>\n",
       "      <td>0.982940</td>\n",
       "      <td>0.905898</td>\n",
       "      <td>0.899642</td>\n",
       "      <td>0.902749</td>\n",
       "    </tr>\n",
       "  </tbody>\n",
       "</table>\n",
       "</div>"
      ],
      "text/plain": [
       "                                          Model  Score Outlier Accuracy  \\\n",
       "0  Testing Model Outlier DecisionTree Regressor                0.974995   \n",
       "1  Testing Model Outlier RandomForest Regressor                0.981705   \n",
       "2       Testing Model Outlier XGBoost Regressor                0.982940   \n",
       "\n",
       "   Score Outlier Precision  Score Outlier Recall  Score Outlier F1  \n",
       "0                 0.856931              0.856583          0.856086  \n",
       "1                 0.883073              0.905229          0.893289  \n",
       "2                 0.905898              0.899642          0.902749  "
      ]
     },
     "execution_count": 44,
     "metadata": {},
     "output_type": "execute_result"
    }
   ],
   "source": [
    "score_testing = pd.DataFrame({ 'Model': ['Testing Model Outlier DecisionTree Regressor', 'Testing Model Outlier RandomForest Regressor', 'Testing Model Outlier XGBoost Regressor'],\n",
    "    'Score Outlier Accuracy': score_accuracy_mean_ml_test,\n",
    "    'Score Outlier Precision': score_recall_mean_ml_test,\n",
    "    'Score Outlier Recall': score_precision_mean_ml_test,\n",
    "    'Score Outlier F1': score_f1_mean_ml_test})\n",
    "print('Score Testing :')\n",
    "score_testing"
   ]
  },
  {
   "cell_type": "code",
   "execution_count": null,
   "metadata": {},
   "outputs": [
    {
     "name": "stdout",
     "output_type": "stream",
     "text": [
      "Score Training VS Score Testing:\n"
     ]
    },
    {
     "data": {
      "text/html": [
       "<div>\n",
       "<style scoped>\n",
       "    .dataframe tbody tr th:only-of-type {\n",
       "        vertical-align: middle;\n",
       "    }\n",
       "\n",
       "    .dataframe tbody tr th {\n",
       "        vertical-align: top;\n",
       "    }\n",
       "\n",
       "    .dataframe thead th {\n",
       "        text-align: right;\n",
       "    }\n",
       "</style>\n",
       "<table border=\"1\" class=\"dataframe\">\n",
       "  <thead>\n",
       "    <tr style=\"text-align: right;\">\n",
       "      <th></th>\n",
       "      <th>Model</th>\n",
       "      <th>Score F1 Outlier Train</th>\n",
       "      <th>Score F1 Outlier Test</th>\n",
       "    </tr>\n",
       "  </thead>\n",
       "  <tbody>\n",
       "    <tr>\n",
       "      <th>0</th>\n",
       "      <td>Model Outlier DecisionTree Regressor</td>\n",
       "      <td>0.853535</td>\n",
       "      <td>0.856086</td>\n",
       "    </tr>\n",
       "    <tr>\n",
       "      <th>1</th>\n",
       "      <td>Model Outlier RandomForest Regressor</td>\n",
       "      <td>0.891877</td>\n",
       "      <td>0.893289</td>\n",
       "    </tr>\n",
       "    <tr>\n",
       "      <th>2</th>\n",
       "      <td>Model Outlier XGBoost Regressor</td>\n",
       "      <td>0.905072</td>\n",
       "      <td>0.902749</td>\n",
       "    </tr>\n",
       "  </tbody>\n",
       "</table>\n",
       "</div>"
      ],
      "text/plain": [
       "                                  Model  Score F1 Outlier Train  \\\n",
       "0  Model Outlier DecisionTree Regressor                0.853535   \n",
       "1  Model Outlier RandomForest Regressor                0.891877   \n",
       "2       Model Outlier XGBoost Regressor                0.905072   \n",
       "\n",
       "   Score F1 Outlier Test  \n",
       "0               0.856086  \n",
       "1               0.893289  \n",
       "2               0.902749  "
      ]
     },
     "execution_count": 45,
     "metadata": {},
     "output_type": "execute_result"
    }
   ],
   "source": [
    "score_train_test_ol = pd.DataFrame({ 'Model': ['Model Outlier DecisionTree Regressor', 'Model Outlier RandomForest Regressor', 'Model Outlier XGBoost Regressor'],\n",
    "    'Score F1 Outlier Train': score_f1_mean_ml_train,\n",
    "    'Score F1 Outlier Test': score_f1_mean_ml_test})\n",
    "print('Score Training VS Score Testing:')\n",
    "score_train_test_ol"
   ]
  },
  {
   "cell_type": "markdown",
   "metadata": {},
   "source": [
    "- Data yang dilakukan prediksi merupakan data imbalance, pada tahapan ini dilakukan prediksi terhadap data imbalance tidak menggunakan Random Sampling / Smote untuk menghandle nya, dan disini dapat dilihat score f1 train dan test yang tertinggi ada pada algoritma XGBoost."
   ]
  },
  {
   "cell_type": "markdown",
   "metadata": {},
   "source": [
    "##### **MACHINE LEARNING WITH OVERSAMPLING**"
   ]
  },
  {
   "cell_type": "code",
   "execution_count": null,
   "metadata": {},
   "outputs": [
    {
     "name": "stdout",
     "output_type": "stream",
     "text": [
      "[0.9744975 0.9742775] DecisionTreeClassifier()\n",
      "[0.85222799 0.85737785] DecisionTreeClassifier()\n",
      "[0.85243557 0.84634307] DecisionTreeClassifier()\n",
      "[0.85391618 0.85175644] DecisionTreeClassifier()\n",
      "[0.981355 0.98144 ] RandomForestClassifier()\n",
      "[0.8844961  0.88976178] RandomForestClassifier()\n",
      "[0.90523726 0.90054632] RandomForestClassifier()\n",
      "[0.8949959 0.8949246] RandomForestClassifier()\n",
      "[0.9832525 0.983335 ] XGBClassifier(base_score=None, booster=None, callbacks=None,\n",
      "              colsample_bylevel=None, colsample_bynode=None,\n",
      "              colsample_bytree=None, early_stopping_rounds=None,\n",
      "              enable_categorical=False, eval_metric=None, gamma=None,\n",
      "              gpu_id=None, grow_policy=None, importance_type=None,\n",
      "              interaction_constraints=None, learning_rate=None, max_bin=None,\n",
      "              max_cat_to_onehot=None, max_delta_step=None, max_depth=None,\n",
      "              max_leaves=None, min_child_weight=None, missing=nan,\n",
      "              monotone_constraints=None, n_estimators=100, n_jobs=None,\n",
      "              num_parallel_tree=None, predictor=None, random_state=None,\n",
      "              reg_alpha=None, reg_lambda=None, ...)\n",
      "[0.88227345 0.88267446] XGBClassifier(base_score=None, booster=None, callbacks=None,\n",
      "              colsample_bylevel=None, colsample_bynode=None,\n",
      "              colsample_bytree=None, early_stopping_rounds=None,\n",
      "              enable_categorical=False, eval_metric=None, gamma=None,\n",
      "              gpu_id=None, grow_policy=None, importance_type=None,\n",
      "              interaction_constraints=None, learning_rate=None, max_bin=None,\n",
      "              max_cat_to_onehot=None, max_delta_step=None, max_depth=None,\n",
      "              max_leaves=None, min_child_weight=None, missing=nan,\n",
      "              monotone_constraints=None, n_estimators=100, n_jobs=None,\n",
      "              num_parallel_tree=None, predictor=None, random_state=None,\n",
      "              reg_alpha=None, reg_lambda=None, ...)\n",
      "[0.93395498 0.93309688] XGBClassifier(base_score=None, booster=None, callbacks=None,\n",
      "              colsample_bylevel=None, colsample_bynode=None,\n",
      "              colsample_bytree=None, early_stopping_rounds=None,\n",
      "              enable_categorical=False, eval_metric=None, gamma=None,\n",
      "              gpu_id=None, grow_policy=None, importance_type=None,\n",
      "              interaction_constraints=None, learning_rate=None, max_bin=None,\n",
      "              max_cat_to_onehot=None, max_delta_step=None, max_depth=None,\n",
      "              max_leaves=None, min_child_weight=None, missing=nan,\n",
      "              monotone_constraints=None, n_estimators=100, n_jobs=None,\n",
      "              num_parallel_tree=None, predictor=None, random_state=None,\n",
      "              reg_alpha=None, reg_lambda=None, ...)\n",
      "[0.90664482 0.90731083] XGBClassifier(base_score=None, booster=None, callbacks=None,\n",
      "              colsample_bylevel=None, colsample_bynode=None,\n",
      "              colsample_bytree=None, early_stopping_rounds=None,\n",
      "              enable_categorical=False, eval_metric=None, gamma=None,\n",
      "              gpu_id=None, grow_policy=None, importance_type=None,\n",
      "              interaction_constraints=None, learning_rate=None, max_bin=None,\n",
      "              max_cat_to_onehot=None, max_delta_step=None, max_depth=None,\n",
      "              max_leaves=None, min_child_weight=None, missing=nan,\n",
      "              monotone_constraints=None, n_estimators=100, n_jobs=None,\n",
      "              num_parallel_tree=None, predictor=None, random_state=None,\n",
      "              reg_alpha=None, reg_lambda=None, ...)\n"
     ]
    }
   ],
   "source": [
    "model_machine_learning = [model_dt, model_rf, model_xgb]\n",
    "\n",
    "score_accuracy_mean_ml_train_os = []\n",
    "score_recall_mean_ml_train_os = []\n",
    "score_precision_mean_ml_train_os = []\n",
    "score_f1_mean_ml_train_os = []\n",
    "\n",
    "for i in model_machine_learning:\n",
    "    croval_classification = StratifiedKFold(n_splits=2)\n",
    "    estimator = Pipeline([\n",
    "        ('Processor',transformer),\n",
    "        ('balancing',RandomOverSampler()),\n",
    "        ('Model_Machine_Learning',i)])\n",
    "    \n",
    "    model_crossval_acc_train_os = cross_val_score(estimator,X_train,y_train,cv=croval_classification,scoring='accuracy')\n",
    "    model_crossval_recall_train_os = cross_val_score(estimator,X_train,y_train,cv=croval_classification,scoring='recall')\n",
    "    model_crossval_precision_train_os = cross_val_score(estimator,X_train,y_train,cv=croval_classification,scoring='precision')\n",
    "    model_crossval_f1_train_os = cross_val_score(estimator,X_train,y_train,cv=croval_classification,scoring='f1')\n",
    "    \n",
    "    score_accuracy_mean_ml_train_os.append(model_crossval_acc_train_os.mean())\n",
    "    score_recall_mean_ml_train_os.append(model_crossval_recall_train_os.mean())\n",
    "    score_precision_mean_ml_train_os.append(model_crossval_precision_train_os.mean())\n",
    "    score_f1_mean_ml_train_os.append(model_crossval_f1_train_os.mean())\n",
    "    \n",
    "    print(model_crossval_acc_train_os, i)\n",
    "    print(model_crossval_precision_train_os, i)\n",
    "    print(model_crossval_recall_train_os, i)\n",
    "    print(model_crossval_f1_train_os, i)"
   ]
  },
  {
   "cell_type": "code",
   "execution_count": null,
   "metadata": {},
   "outputs": [
    {
     "name": "stdout",
     "output_type": "stream",
     "text": [
      "Score Training Outlier OS:\n"
     ]
    },
    {
     "data": {
      "text/html": [
       "<div>\n",
       "<style scoped>\n",
       "    .dataframe tbody tr th:only-of-type {\n",
       "        vertical-align: middle;\n",
       "    }\n",
       "\n",
       "    .dataframe tbody tr th {\n",
       "        vertical-align: top;\n",
       "    }\n",
       "\n",
       "    .dataframe thead th {\n",
       "        text-align: right;\n",
       "    }\n",
       "</style>\n",
       "<table border=\"1\" class=\"dataframe\">\n",
       "  <thead>\n",
       "    <tr style=\"text-align: right;\">\n",
       "      <th></th>\n",
       "      <th>Model</th>\n",
       "      <th>Score Accuracy Outlier OS</th>\n",
       "      <th>Score Precision Outlier OS</th>\n",
       "      <th>Score Recall Outlier OS</th>\n",
       "      <th>Score F1 Outlier OS</th>\n",
       "    </tr>\n",
       "  </thead>\n",
       "  <tbody>\n",
       "    <tr>\n",
       "      <th>0</th>\n",
       "      <td>Training Model DecisionTree Regressor Outlier OS</td>\n",
       "      <td>0.974387</td>\n",
       "      <td>0.849389</td>\n",
       "      <td>0.854803</td>\n",
       "      <td>0.852836</td>\n",
       "    </tr>\n",
       "    <tr>\n",
       "      <th>1</th>\n",
       "      <td>Training Model RandomForest Regressor Outlier OS</td>\n",
       "      <td>0.981397</td>\n",
       "      <td>0.902892</td>\n",
       "      <td>0.887129</td>\n",
       "      <td>0.894960</td>\n",
       "    </tr>\n",
       "    <tr>\n",
       "      <th>2</th>\n",
       "      <td>Training Model XGBoost Regressor Outlier OS</td>\n",
       "      <td>0.983294</td>\n",
       "      <td>0.933526</td>\n",
       "      <td>0.882474</td>\n",
       "      <td>0.906978</td>\n",
       "    </tr>\n",
       "  </tbody>\n",
       "</table>\n",
       "</div>"
      ],
      "text/plain": [
       "                                              Model  \\\n",
       "0  Training Model DecisionTree Regressor Outlier OS   \n",
       "1  Training Model RandomForest Regressor Outlier OS   \n",
       "2       Training Model XGBoost Regressor Outlier OS   \n",
       "\n",
       "   Score Accuracy Outlier OS  Score Precision Outlier OS  \\\n",
       "0                   0.974387                    0.849389   \n",
       "1                   0.981397                    0.902892   \n",
       "2                   0.983294                    0.933526   \n",
       "\n",
       "   Score Recall Outlier OS  Score F1 Outlier OS  \n",
       "0                 0.854803             0.852836  \n",
       "1                 0.887129             0.894960  \n",
       "2                 0.882474             0.906978  "
      ]
     },
     "execution_count": 47,
     "metadata": {},
     "output_type": "execute_result"
    }
   ],
   "source": [
    "score_training_non_ol_os = pd.DataFrame({ 'Model': ['Training Model DecisionTree Regressor Outlier OS', 'Training Model RandomForest Regressor Outlier OS', 'Training Model XGBoost Regressor Outlier OS'],\n",
    "    'Score Accuracy Outlier OS': score_accuracy_mean_ml_train_os,\n",
    "    'Score Precision Outlier OS': score_recall_mean_ml_train_os,\n",
    "    'Score Recall Outlier OS': score_precision_mean_ml_train_os,\n",
    "    'Score F1 Outlier OS': score_f1_mean_ml_train_os})\n",
    "print('Score Training Outlier OS:')\n",
    "score_training_non_ol_os"
   ]
  },
  {
   "cell_type": "code",
   "execution_count": null,
   "metadata": {},
   "outputs": [
    {
     "name": "stdout",
     "output_type": "stream",
     "text": [
      "[0.97467 0.9756 ] DecisionTreeClassifier()\n",
      "[0.85261131 0.86682108] DecisionTreeClassifier()\n",
      "[0.85846682 0.85310605] DecisionTreeClassifier()\n",
      "[0.8581532 0.859547 ] DecisionTreeClassifier()\n",
      "[0.98115 0.98189] RandomForestClassifier()\n",
      "[0.88362985 0.89089473] RandomForestClassifier()\n",
      "[0.90446224 0.90447317] RandomForestClassifier()\n",
      "[0.8946475  0.89726844] RandomForestClassifier()\n",
      "[0.9834  0.98363] XGBClassifier(base_score=None, booster=None, callbacks=None,\n",
      "              colsample_bylevel=None, colsample_bynode=None,\n",
      "              colsample_bytree=None, early_stopping_rounds=None,\n",
      "              enable_categorical=False, eval_metric=None, gamma=None,\n",
      "              gpu_id=None, grow_policy=None, importance_type=None,\n",
      "              interaction_constraints=None, learning_rate=None, max_bin=None,\n",
      "              max_cat_to_onehot=None, max_delta_step=None, max_depth=None,\n",
      "              max_leaves=None, min_child_weight=None, missing=nan,\n",
      "              monotone_constraints=None, n_estimators=100, n_jobs=None,\n",
      "              num_parallel_tree=None, predictor=None, random_state=None,\n",
      "              reg_alpha=None, reg_lambda=None, ...)\n",
      "[0.87873255 0.88572979] XGBClassifier(base_score=None, booster=None, callbacks=None,\n",
      "              colsample_bylevel=None, colsample_bynode=None,\n",
      "              colsample_bytree=None, early_stopping_rounds=None,\n",
      "              enable_categorical=False, eval_metric=None, gamma=None,\n",
      "              gpu_id=None, grow_policy=None, importance_type=None,\n",
      "              interaction_constraints=None, learning_rate=None, max_bin=None,\n",
      "              max_cat_to_onehot=None, max_delta_step=None, max_depth=None,\n",
      "              max_leaves=None, min_child_weight=None, missing=nan,\n",
      "              monotone_constraints=None, n_estimators=100, n_jobs=None,\n",
      "              num_parallel_tree=None, predictor=None, random_state=None,\n",
      "              reg_alpha=None, reg_lambda=None, ...)\n",
      "[0.93604119 0.93353163] XGBClassifier(base_score=None, booster=None, callbacks=None,\n",
      "              colsample_bylevel=None, colsample_bynode=None,\n",
      "              colsample_bytree=None, early_stopping_rounds=None,\n",
      "              enable_categorical=False, eval_metric=None, gamma=None,\n",
      "              gpu_id=None, grow_policy=None, importance_type=None,\n",
      "              interaction_constraints=None, learning_rate=None, max_bin=None,\n",
      "              max_cat_to_onehot=None, max_delta_step=None, max_depth=None,\n",
      "              max_leaves=None, min_child_weight=None, missing=nan,\n",
      "              monotone_constraints=None, n_estimators=100, n_jobs=None,\n",
      "              num_parallel_tree=None, predictor=None, random_state=None,\n",
      "              reg_alpha=None, reg_lambda=None, ...)\n",
      "[0.90722678 0.90840247] XGBClassifier(base_score=None, booster=None, callbacks=None,\n",
      "              colsample_bylevel=None, colsample_bynode=None,\n",
      "              colsample_bytree=None, early_stopping_rounds=None,\n",
      "              enable_categorical=False, eval_metric=None, gamma=None,\n",
      "              gpu_id=None, grow_policy=None, importance_type=None,\n",
      "              interaction_constraints=None, learning_rate=None, max_bin=None,\n",
      "              max_cat_to_onehot=None, max_delta_step=None, max_depth=None,\n",
      "              max_leaves=None, min_child_weight=None, missing=nan,\n",
      "              monotone_constraints=None, n_estimators=100, n_jobs=None,\n",
      "              num_parallel_tree=None, predictor=None, random_state=None,\n",
      "              reg_alpha=None, reg_lambda=None, ...)\n"
     ]
    }
   ],
   "source": [
    "model_machine_learning = [model_dt, model_rf, model_xgb]\n",
    "\n",
    "score_accuracy_mean_ml_test_os = []\n",
    "score_recall_mean_ml_test_os = []\n",
    "score_precision_mean_ml_test_os = []\n",
    "score_f1_mean_ml_test_os = []\n",
    "\n",
    "for i in model_machine_learning:\n",
    "    croval_classification = StratifiedKFold(n_splits=2)\n",
    "    estimator = Pipeline([\n",
    "        ('Processor',transformer),\n",
    "        ('balancing',RandomOverSampler()),\n",
    "        ('Model_Machine_Learning',i)])\n",
    "    \n",
    "    model_crossval_acc_test_os = cross_val_score(estimator,X_test,y_test,cv=croval_classification,scoring='accuracy')\n",
    "    model_crossval_recall_test_os = cross_val_score(estimator,X_test,y_test,cv=croval_classification,scoring='recall')\n",
    "    model_crossval_precision_test_os = cross_val_score(estimator,X_test,y_test,cv=croval_classification,scoring='precision')\n",
    "    model_crossval_f1_test_os = cross_val_score(estimator,X_test,y_test,cv=croval_classification,scoring='f1')\n",
    "    \n",
    "    score_accuracy_mean_ml_test_os.append(model_crossval_acc_test_os.mean())\n",
    "    score_recall_mean_ml_test_os.append(model_crossval_recall_test_os.mean())\n",
    "    score_precision_mean_ml_test_os.append(model_crossval_precision_test_os.mean())\n",
    "    score_f1_mean_ml_test_os.append(model_crossval_f1_test_os.mean())\n",
    "    \n",
    "    print(model_crossval_acc_test_os, i)\n",
    "    print(model_crossval_precision_test_os, i)\n",
    "    print(model_crossval_recall_test_os, i)\n",
    "    print(model_crossval_f1_test_os, i)"
   ]
  },
  {
   "cell_type": "code",
   "execution_count": null,
   "metadata": {},
   "outputs": [
    {
     "name": "stdout",
     "output_type": "stream",
     "text": [
      "Score Testing Outlier OS:\n"
     ]
    },
    {
     "data": {
      "text/html": [
       "<div>\n",
       "<style scoped>\n",
       "    .dataframe tbody tr th:only-of-type {\n",
       "        vertical-align: middle;\n",
       "    }\n",
       "\n",
       "    .dataframe tbody tr th {\n",
       "        vertical-align: top;\n",
       "    }\n",
       "\n",
       "    .dataframe thead th {\n",
       "        text-align: right;\n",
       "    }\n",
       "</style>\n",
       "<table border=\"1\" class=\"dataframe\">\n",
       "  <thead>\n",
       "    <tr style=\"text-align: right;\">\n",
       "      <th></th>\n",
       "      <th>Model</th>\n",
       "      <th>Score Accuracy Outlier OS</th>\n",
       "      <th>Score Precision Outlier OS</th>\n",
       "      <th>Score Recall Outlier OS</th>\n",
       "      <th>Score F1 Outlier OS</th>\n",
       "    </tr>\n",
       "  </thead>\n",
       "  <tbody>\n",
       "    <tr>\n",
       "      <th>0</th>\n",
       "      <td>Testing Model DecisionTree Regressor Outlier OS</td>\n",
       "      <td>0.975135</td>\n",
       "      <td>0.855786</td>\n",
       "      <td>0.859716</td>\n",
       "      <td>0.858850</td>\n",
       "    </tr>\n",
       "    <tr>\n",
       "      <th>1</th>\n",
       "      <td>Testing Model RandomForest Regressor Outlier OS</td>\n",
       "      <td>0.981520</td>\n",
       "      <td>0.904468</td>\n",
       "      <td>0.887262</td>\n",
       "      <td>0.895958</td>\n",
       "    </tr>\n",
       "    <tr>\n",
       "      <th>2</th>\n",
       "      <td>Testing Model XGBoost Regressor Outlier OS</td>\n",
       "      <td>0.983515</td>\n",
       "      <td>0.934786</td>\n",
       "      <td>0.882231</td>\n",
       "      <td>0.907815</td>\n",
       "    </tr>\n",
       "  </tbody>\n",
       "</table>\n",
       "</div>"
      ],
      "text/plain": [
       "                                             Model  Score Accuracy Outlier OS  \\\n",
       "0  Testing Model DecisionTree Regressor Outlier OS                   0.975135   \n",
       "1  Testing Model RandomForest Regressor Outlier OS                   0.981520   \n",
       "2       Testing Model XGBoost Regressor Outlier OS                   0.983515   \n",
       "\n",
       "   Score Precision Outlier OS  Score Recall Outlier OS  Score F1 Outlier OS  \n",
       "0                    0.855786                 0.859716             0.858850  \n",
       "1                    0.904468                 0.887262             0.895958  \n",
       "2                    0.934786                 0.882231             0.907815  "
      ]
     },
     "execution_count": 49,
     "metadata": {},
     "output_type": "execute_result"
    }
   ],
   "source": [
    "score_testing_non_ol_os = pd.DataFrame({ 'Model': ['Testing Model DecisionTree Regressor Outlier OS', 'Testing Model RandomForest Regressor Outlier OS', 'Testing Model XGBoost Regressor Outlier OS'],\n",
    "    'Score Accuracy Outlier OS': score_accuracy_mean_ml_test_os,\n",
    "    'Score Precision Outlier OS': score_recall_mean_ml_test_os,\n",
    "    'Score Recall Outlier OS': score_precision_mean_ml_test_os,\n",
    "    'Score F1 Outlier OS': score_f1_mean_ml_test_os})\n",
    "print('Score Testing Outlier OS:')\n",
    "score_testing_non_ol_os"
   ]
  },
  {
   "cell_type": "markdown",
   "metadata": {},
   "source": [
    "##### **MACHINE LEARNING WITH SMOTE**"
   ]
  },
  {
   "cell_type": "code",
   "execution_count": null,
   "metadata": {},
   "outputs": [
    {
     "name": "stdout",
     "output_type": "stream",
     "text": [
      "[0.94517   0.9454775] DecisionTreeClassifier()\n",
      "[0.63072964 0.63479804] DecisionTreeClassifier()\n",
      "[0.90406453 0.902949  ] DecisionTreeClassifier()\n",
      "[0.74168151 0.74540894] DecisionTreeClassifier()\n",
      "[0.9721025 0.9716825] RandomForestClassifier()\n",
      "[0.78680952 0.79419964] RandomForestClassifier()\n",
      "[0.93078001 0.92832013] RandomForestClassifier()\n",
      "[0.85727461 0.85458731] RandomForestClassifier()\n",
      "[0.983115  0.9831325] XGBClassifier(base_score=None, booster=None, callbacks=None,\n",
      "              colsample_bylevel=None, colsample_bynode=None,\n",
      "              colsample_bytree=None, early_stopping_rounds=None,\n",
      "              enable_categorical=False, eval_metric=None, gamma=None,\n",
      "              gpu_id=None, grow_policy=None, importance_type=None,\n",
      "              interaction_constraints=None, learning_rate=None, max_bin=None,\n",
      "              max_cat_to_onehot=None, max_delta_step=None, max_depth=None,\n",
      "              max_leaves=None, min_child_weight=None, missing=nan,\n",
      "              monotone_constraints=None, n_estimators=100, n_jobs=None,\n",
      "              num_parallel_tree=None, predictor=None, random_state=None,\n",
      "              reg_alpha=None, reg_lambda=None, ...)\n",
      "[0.87899427 0.88176634] XGBClassifier(base_score=None, booster=None, callbacks=None,\n",
      "              colsample_bylevel=None, colsample_bynode=None,\n",
      "              colsample_bytree=None, early_stopping_rounds=None,\n",
      "              enable_categorical=False, eval_metric=None, gamma=None,\n",
      "              gpu_id=None, grow_policy=None, importance_type=None,\n",
      "              interaction_constraints=None, learning_rate=None, max_bin=None,\n",
      "              max_cat_to_onehot=None, max_delta_step=None, max_depth=None,\n",
      "              max_leaves=None, min_child_weight=None, missing=nan,\n",
      "              monotone_constraints=None, n_estimators=100, n_jobs=None,\n",
      "              num_parallel_tree=None, predictor=None, random_state=None,\n",
      "              reg_alpha=None, reg_lambda=None, ...)\n",
      "[0.93378336 0.9332399 ] XGBClassifier(base_score=None, booster=None, callbacks=None,\n",
      "              colsample_bylevel=None, colsample_bynode=None,\n",
      "              colsample_bytree=None, early_stopping_rounds=None,\n",
      "              enable_categorical=False, eval_metric=None, gamma=None,\n",
      "              gpu_id=None, grow_policy=None, importance_type=None,\n",
      "              interaction_constraints=None, learning_rate=None, max_bin=None,\n",
      "              max_cat_to_onehot=None, max_delta_step=None, max_depth=None,\n",
      "              max_leaves=None, min_child_weight=None, missing=nan,\n",
      "              monotone_constraints=None, n_estimators=100, n_jobs=None,\n",
      "              num_parallel_tree=None, predictor=None, random_state=None,\n",
      "              reg_alpha=None, reg_lambda=None, ...)\n",
      "[0.90607398 0.90723828] XGBClassifier(base_score=None, booster=None, callbacks=None,\n",
      "              colsample_bylevel=None, colsample_bynode=None,\n",
      "              colsample_bytree=None, early_stopping_rounds=None,\n",
      "              enable_categorical=False, eval_metric=None, gamma=None,\n",
      "              gpu_id=None, grow_policy=None, importance_type=None,\n",
      "              interaction_constraints=None, learning_rate=None, max_bin=None,\n",
      "              max_cat_to_onehot=None, max_delta_step=None, max_depth=None,\n",
      "              max_leaves=None, min_child_weight=None, missing=nan,\n",
      "              monotone_constraints=None, n_estimators=100, n_jobs=None,\n",
      "              num_parallel_tree=None, predictor=None, random_state=None,\n",
      "              reg_alpha=None, reg_lambda=None, ...)\n"
     ]
    }
   ],
   "source": [
    "model_machine_learning = [model_dt, model_rf, model_xgb]\n",
    "\n",
    "score_accuracy_mean_ml_train_s = []\n",
    "score_recall_mean_ml_train_s = []\n",
    "score_precision_mean_ml_train_s = []\n",
    "score_f1_mean_ml_train_s = []\n",
    "\n",
    "for i in model_machine_learning:\n",
    "    croval_classification = StratifiedKFold(n_splits=2)\n",
    "    estimator = Pipeline([\n",
    "        ('Processor',transformer),\n",
    "        ('balancing',SMOTE()),\n",
    "        ('Model_Machine_Learning',i)])\n",
    "    \n",
    "    model_crossval_acc_train_s = cross_val_score(estimator,X_train,y_train,cv=croval_classification,scoring='accuracy')\n",
    "    model_crossval_recall_train_s = cross_val_score(estimator,X_train,y_train,cv=croval_classification,scoring='recall')\n",
    "    model_crossval_precision_train_s = cross_val_score(estimator,X_train,y_train,cv=croval_classification,scoring='precision')\n",
    "    model_crossval_f1_train_s = cross_val_score(estimator,X_train,y_train,cv=croval_classification,scoring='f1')\n",
    "    \n",
    "    score_accuracy_mean_ml_train_s.append(model_crossval_acc_train_s.mean())\n",
    "    score_recall_mean_ml_train_s.append(model_crossval_recall_train_s.mean())\n",
    "    score_precision_mean_ml_train_s.append(model_crossval_precision_train_s.mean())\n",
    "    score_f1_mean_ml_train_s.append(model_crossval_f1_train_s.mean())\n",
    "    \n",
    "    print(model_crossval_acc_train_s, i)\n",
    "    print(model_crossval_precision_train_s, i)\n",
    "    print(model_crossval_recall_train_s, i)\n",
    "    print(model_crossval_f1_train_s, i)"
   ]
  },
  {
   "cell_type": "code",
   "execution_count": null,
   "metadata": {},
   "outputs": [
    {
     "name": "stdout",
     "output_type": "stream",
     "text": [
      "Score Training Outlier Smote:\n"
     ]
    },
    {
     "data": {
      "text/html": [
       "<div>\n",
       "<style scoped>\n",
       "    .dataframe tbody tr th:only-of-type {\n",
       "        vertical-align: middle;\n",
       "    }\n",
       "\n",
       "    .dataframe tbody tr th {\n",
       "        vertical-align: top;\n",
       "    }\n",
       "\n",
       "    .dataframe thead th {\n",
       "        text-align: right;\n",
       "    }\n",
       "</style>\n",
       "<table border=\"1\" class=\"dataframe\">\n",
       "  <thead>\n",
       "    <tr style=\"text-align: right;\">\n",
       "      <th></th>\n",
       "      <th>Model</th>\n",
       "      <th>Score Accuracy Outlier Smote</th>\n",
       "      <th>Score Precision Non Outlier Smote</th>\n",
       "      <th>Score Recall Non Outlier Smote</th>\n",
       "      <th>Score F1 Non Outlier Smote</th>\n",
       "    </tr>\n",
       "  </thead>\n",
       "  <tbody>\n",
       "    <tr>\n",
       "      <th>0</th>\n",
       "      <td>Training Model DecisionTree Regressor Outlier ...</td>\n",
       "      <td>0.945324</td>\n",
       "      <td>0.903507</td>\n",
       "      <td>0.632764</td>\n",
       "      <td>0.743545</td>\n",
       "    </tr>\n",
       "    <tr>\n",
       "      <th>1</th>\n",
       "      <td>Training Model RandomForest Regressor Outlier ...</td>\n",
       "      <td>0.971893</td>\n",
       "      <td>0.929550</td>\n",
       "      <td>0.790505</td>\n",
       "      <td>0.855931</td>\n",
       "    </tr>\n",
       "    <tr>\n",
       "      <th>2</th>\n",
       "      <td>Training Model XGBoost Regressor Outlier Smote</td>\n",
       "      <td>0.983124</td>\n",
       "      <td>0.933512</td>\n",
       "      <td>0.880380</td>\n",
       "      <td>0.906656</td>\n",
       "    </tr>\n",
       "  </tbody>\n",
       "</table>\n",
       "</div>"
      ],
      "text/plain": [
       "                                               Model  \\\n",
       "0  Training Model DecisionTree Regressor Outlier ...   \n",
       "1  Training Model RandomForest Regressor Outlier ...   \n",
       "2     Training Model XGBoost Regressor Outlier Smote   \n",
       "\n",
       "   Score Accuracy Outlier Smote  Score Precision Non Outlier Smote  \\\n",
       "0                      0.945324                           0.903507   \n",
       "1                      0.971893                           0.929550   \n",
       "2                      0.983124                           0.933512   \n",
       "\n",
       "   Score Recall Non Outlier Smote  Score F1 Non Outlier Smote  \n",
       "0                        0.632764                    0.743545  \n",
       "1                        0.790505                    0.855931  \n",
       "2                        0.880380                    0.906656  "
      ]
     },
     "execution_count": 51,
     "metadata": {},
     "output_type": "execute_result"
    }
   ],
   "source": [
    "score_training_non_ol_smote = pd.DataFrame({ 'Model': ['Training Model DecisionTree Regressor Outlier Smote', 'Training Model RandomForest Regressor Outlier Smote', 'Training Model XGBoost Regressor Outlier Smote'],\n",
    "    'Score Accuracy Outlier Smote': score_accuracy_mean_ml_train_s,\n",
    "    'Score Precision Non Outlier Smote': score_recall_mean_ml_train_s,\n",
    "    'Score Recall Non Outlier Smote': score_precision_mean_ml_train_s,\n",
    "    'Score F1 Non Outlier Smote': score_f1_mean_ml_train_s})\n",
    "print('Score Training Outlier Smote:')\n",
    "score_training_non_ol_smote"
   ]
  },
  {
   "cell_type": "code",
   "execution_count": null,
   "metadata": {},
   "outputs": [
    {
     "name": "stdout",
     "output_type": "stream",
     "text": [
      "[0.94671 0.94909] DecisionTreeClassifier()\n",
      "[0.63468783 0.64029887] DecisionTreeClassifier()\n",
      "[0.90480549 0.90092667] DecisionTreeClassifier()\n",
      "[0.74561775 0.75604248] DecisionTreeClassifier()\n",
      "[0.97063 0.97149] RandomForestClassifier()\n",
      "[0.77573564 0.78333012] RandomForestClassifier()\n",
      "[0.93146453 0.92861229] RandomForestClassifier()\n",
      "[0.85071745 0.85082122] RandomForestClassifier()\n",
      "[0.98156 0.9823 ] XGBClassifier(base_score=None, booster=None, callbacks=None,\n",
      "              colsample_bylevel=None, colsample_bynode=None,\n",
      "              colsample_bytree=None, early_stopping_rounds=None,\n",
      "              enable_categorical=False, eval_metric=None, gamma=None,\n",
      "              gpu_id=None, grow_policy=None, importance_type=None,\n",
      "              interaction_constraints=None, learning_rate=None, max_bin=None,\n",
      "              max_cat_to_onehot=None, max_delta_step=None, max_depth=None,\n",
      "              max_leaves=None, min_child_weight=None, missing=nan,\n",
      "              monotone_constraints=None, n_estimators=100, n_jobs=None,\n",
      "              num_parallel_tree=None, predictor=None, random_state=None,\n",
      "              reg_alpha=None, reg_lambda=None, ...)\n",
      "[0.86407767 0.87047904] XGBClassifier(base_score=None, booster=None, callbacks=None,\n",
      "              colsample_bylevel=None, colsample_bynode=None,\n",
      "              colsample_bytree=None, early_stopping_rounds=None,\n",
      "              enable_categorical=False, eval_metric=None, gamma=None,\n",
      "              gpu_id=None, grow_policy=None, importance_type=None,\n",
      "              interaction_constraints=None, learning_rate=None, max_bin=None,\n",
      "              max_cat_to_onehot=None, max_delta_step=None, max_depth=None,\n",
      "              max_leaves=None, min_child_weight=None, missing=nan,\n",
      "              monotone_constraints=None, n_estimators=100, n_jobs=None,\n",
      "              num_parallel_tree=None, predictor=None, random_state=None,\n",
      "              reg_alpha=None, reg_lambda=None, ...)\n",
      "[0.93661327 0.93364604] XGBClassifier(base_score=None, booster=None, callbacks=None,\n",
      "              colsample_bylevel=None, colsample_bynode=None,\n",
      "              colsample_bytree=None, early_stopping_rounds=None,\n",
      "              enable_categorical=False, eval_metric=None, gamma=None,\n",
      "              gpu_id=None, grow_policy=None, importance_type=None,\n",
      "              interaction_constraints=None, learning_rate=None, max_bin=None,\n",
      "              max_cat_to_onehot=None, max_delta_step=None, max_depth=None,\n",
      "              max_leaves=None, min_child_weight=None, missing=nan,\n",
      "              monotone_constraints=None, n_estimators=100, n_jobs=None,\n",
      "              num_parallel_tree=None, predictor=None, random_state=None,\n",
      "              reg_alpha=None, reg_lambda=None, ...)\n",
      "[0.89975254 0.90228391] XGBClassifier(base_score=None, booster=None, callbacks=None,\n",
      "              colsample_bylevel=None, colsample_bynode=None,\n",
      "              colsample_bytree=None, early_stopping_rounds=None,\n",
      "              enable_categorical=False, eval_metric=None, gamma=None,\n",
      "              gpu_id=None, grow_policy=None, importance_type=None,\n",
      "              interaction_constraints=None, learning_rate=None, max_bin=None,\n",
      "              max_cat_to_onehot=None, max_delta_step=None, max_depth=None,\n",
      "              max_leaves=None, min_child_weight=None, missing=nan,\n",
      "              monotone_constraints=None, n_estimators=100, n_jobs=None,\n",
      "              num_parallel_tree=None, predictor=None, random_state=None,\n",
      "              reg_alpha=None, reg_lambda=None, ...)\n"
     ]
    }
   ],
   "source": [
    "model_machine_learning = [model_dt, model_rf, model_xgb]\n",
    "\n",
    "score_accuracy_mean_ml_test_s = []\n",
    "score_recall_mean_ml_test_s = []\n",
    "score_precision_mean_ml_test_s = []\n",
    "score_f1_mean_ml_test_s = []\n",
    "\n",
    "for i in model_machine_learning:\n",
    "    croval_classification = StratifiedKFold(n_splits=2)\n",
    "    estimator = Pipeline([\n",
    "        ('Processor',transformer),\n",
    "        ('balancing',SMOTE()),\n",
    "        ('Model_Machine_Learning',i)])\n",
    "    \n",
    "    model_crossval_acc_test_s = cross_val_score(estimator,X_test,y_test,cv=croval_classification,scoring='accuracy')\n",
    "    model_crossval_recall_test_s = cross_val_score(estimator,X_test,y_test,cv=croval_classification,scoring='recall')\n",
    "    model_crossval_precision_test_s = cross_val_score(estimator,X_test,y_test,cv=croval_classification,scoring='precision')\n",
    "    model_crossval_f1_test_s = cross_val_score(estimator,X_test,y_test,cv=croval_classification,scoring='f1')\n",
    "    \n",
    "    score_accuracy_mean_ml_test_s.append(model_crossval_acc_test_s.mean())\n",
    "    score_recall_mean_ml_test_s.append(model_crossval_recall_test_s.mean())\n",
    "    score_precision_mean_ml_test_s.append(model_crossval_precision_test_s.mean())\n",
    "    score_f1_mean_ml_test_s.append(model_crossval_f1_test_s.mean())\n",
    "    \n",
    "    print(model_crossval_acc_test_s, i)\n",
    "    print(model_crossval_precision_test_s, i)\n",
    "    print(model_crossval_recall_test_s, i)\n",
    "    print(model_crossval_f1_test_s, i)"
   ]
  },
  {
   "cell_type": "markdown",
   "metadata": {},
   "source": [
    "##### PERBANDINGAN MODELING MACHINE LEARNING"
   ]
  },
  {
   "cell_type": "code",
   "execution_count": null,
   "metadata": {},
   "outputs": [
    {
     "name": "stdout",
     "output_type": "stream",
     "text": [
      "Score Training VS Score Testing:\n"
     ]
    },
    {
     "data": {
      "text/html": [
       "<div>\n",
       "<style scoped>\n",
       "    .dataframe tbody tr th:only-of-type {\n",
       "        vertical-align: middle;\n",
       "    }\n",
       "\n",
       "    .dataframe tbody tr th {\n",
       "        vertical-align: top;\n",
       "    }\n",
       "\n",
       "    .dataframe thead th {\n",
       "        text-align: right;\n",
       "    }\n",
       "</style>\n",
       "<table border=\"1\" class=\"dataframe\">\n",
       "  <thead>\n",
       "    <tr style=\"text-align: right;\">\n",
       "      <th></th>\n",
       "      <th>Model</th>\n",
       "      <th>Score F1 Train</th>\n",
       "      <th>Score F1 Test</th>\n",
       "      <th>Score F1 Train Outlier OS</th>\n",
       "      <th>Score F1 Test Outlier OS</th>\n",
       "      <th>Score F1 Train Outlier Smote</th>\n",
       "      <th>Score F1 Test Outlier Smote</th>\n",
       "    </tr>\n",
       "  </thead>\n",
       "  <tbody>\n",
       "    <tr>\n",
       "      <th>0</th>\n",
       "      <td>Model DecisionTree Regressor</td>\n",
       "      <td>0.853535</td>\n",
       "      <td>0.856086</td>\n",
       "      <td>0.852836</td>\n",
       "      <td>0.858850</td>\n",
       "      <td>0.743545</td>\n",
       "      <td>0.750830</td>\n",
       "    </tr>\n",
       "    <tr>\n",
       "      <th>1</th>\n",
       "      <td>Model RandomForest Regressor</td>\n",
       "      <td>0.891877</td>\n",
       "      <td>0.893289</td>\n",
       "      <td>0.894960</td>\n",
       "      <td>0.895958</td>\n",
       "      <td>0.855931</td>\n",
       "      <td>0.850769</td>\n",
       "    </tr>\n",
       "    <tr>\n",
       "      <th>2</th>\n",
       "      <td>Model XGBoost Regressor</td>\n",
       "      <td>0.905072</td>\n",
       "      <td>0.902749</td>\n",
       "      <td>0.906978</td>\n",
       "      <td>0.907815</td>\n",
       "      <td>0.906656</td>\n",
       "      <td>0.901018</td>\n",
       "    </tr>\n",
       "  </tbody>\n",
       "</table>\n",
       "</div>"
      ],
      "text/plain": [
       "                          Model  Score F1 Train  Score F1 Test  \\\n",
       "0  Model DecisionTree Regressor        0.853535       0.856086   \n",
       "1  Model RandomForest Regressor        0.891877       0.893289   \n",
       "2       Model XGBoost Regressor        0.905072       0.902749   \n",
       "\n",
       "   Score F1 Train Outlier OS  Score F1 Test Outlier OS  \\\n",
       "0                   0.852836                  0.858850   \n",
       "1                   0.894960                  0.895958   \n",
       "2                   0.906978                  0.907815   \n",
       "\n",
       "   Score F1 Train Outlier Smote  Score F1 Test Outlier Smote  \n",
       "0                      0.743545                     0.750830  \n",
       "1                      0.855931                     0.850769  \n",
       "2                      0.906656                     0.901018  "
      ]
     },
     "execution_count": 53,
     "metadata": {},
     "output_type": "execute_result"
    }
   ],
   "source": [
    "score_train_test_ol_os_smote = pd.DataFrame({ 'Model': ['Model DecisionTree Regressor', 'Model RandomForest Regressor', 'Model XGBoost Regressor'],\n",
    "    'Score F1 Train': score_f1_mean_ml_train,\n",
    "    'Score F1 Test': score_f1_mean_ml_test,\n",
    "    'Score F1 Train Outlier OS': score_f1_mean_ml_train_os,\n",
    "    'Score F1 Test Outlier OS': score_f1_mean_ml_test_os,\n",
    "    'Score F1 Train Outlier Smote':score_f1_mean_ml_train_s,\n",
    "    'Score F1 Test Outlier Smote': score_f1_mean_ml_test_s})\n",
    "print('Score Training VS Score Testing:')\n",
    "score_train_test_ol_os_smote"
   ]
  },
  {
   "cell_type": "code",
   "execution_count": null,
   "metadata": {},
   "outputs": [
    {
     "name": "stdout",
     "output_type": "stream",
     "text": [
      "Score Testing:\n"
     ]
    },
    {
     "data": {
      "text/html": [
       "<div>\n",
       "<style scoped>\n",
       "    .dataframe tbody tr th:only-of-type {\n",
       "        vertical-align: middle;\n",
       "    }\n",
       "\n",
       "    .dataframe tbody tr th {\n",
       "        vertical-align: top;\n",
       "    }\n",
       "\n",
       "    .dataframe thead th {\n",
       "        text-align: right;\n",
       "    }\n",
       "</style>\n",
       "<table border=\"1\" class=\"dataframe\">\n",
       "  <thead>\n",
       "    <tr style=\"text-align: right;\">\n",
       "      <th></th>\n",
       "      <th>Model</th>\n",
       "      <th>Score F1 Test</th>\n",
       "      <th>Score F1 Test Outlier OS</th>\n",
       "      <th>Score F1 Test Outlier Smote</th>\n",
       "    </tr>\n",
       "  </thead>\n",
       "  <tbody>\n",
       "    <tr>\n",
       "      <th>0</th>\n",
       "      <td>Model DecisionTree Regressor</td>\n",
       "      <td>0.86</td>\n",
       "      <td>0.86</td>\n",
       "      <td>0.75</td>\n",
       "    </tr>\n",
       "    <tr>\n",
       "      <th>1</th>\n",
       "      <td>Model RandomForest Regressor</td>\n",
       "      <td>0.89</td>\n",
       "      <td>0.90</td>\n",
       "      <td>0.85</td>\n",
       "    </tr>\n",
       "    <tr>\n",
       "      <th>2</th>\n",
       "      <td>Model XGBoost Regressor</td>\n",
       "      <td>0.90</td>\n",
       "      <td>0.91</td>\n",
       "      <td>0.90</td>\n",
       "    </tr>\n",
       "  </tbody>\n",
       "</table>\n",
       "</div>"
      ],
      "text/plain": [
       "                          Model  Score F1 Test  Score F1 Test Outlier OS  \\\n",
       "0  Model DecisionTree Regressor           0.86                      0.86   \n",
       "1  Model RandomForest Regressor           0.89                      0.90   \n",
       "2       Model XGBoost Regressor           0.90                      0.91   \n",
       "\n",
       "   Score F1 Test Outlier Smote  \n",
       "0                         0.75  \n",
       "1                         0.85  \n",
       "2                         0.90  "
      ]
     },
     "execution_count": 54,
     "metadata": {},
     "output_type": "execute_result"
    }
   ],
   "source": [
    "score_test_ol_os_smote = pd.DataFrame({ 'Model': ['Model DecisionTree Regressor', 'Model RandomForest Regressor', 'Model XGBoost Regressor'],\n",
    "    'Score F1 Test': score_f1_mean_ml_test,\n",
    "    'Score F1 Test Outlier OS': score_f1_mean_ml_test_os,\n",
    "    'Score F1 Test Outlier Smote': score_f1_mean_ml_test_s})\n",
    "print('Score Testing:')\n",
    "score_test_ol_os_smote.round(2)"
   ]
  },
  {
   "cell_type": "markdown",
   "metadata": {},
   "source": [
    "Dari hasil F1 score, model yang memiliki skor f1 yang tinggi ada pada `Model XGBoost Regressor dengan skor F1 Over Sampling 91%`, yang artinya ketika perangkat ini digunakan maka akan berhasil menebak tindakan - tindakan yang masuk dalam kecurangan yang terjadi sebesar 91% ke akuratannya. Dan model ini akan dijadikan base model dan tidak lakukan tuning untuk peningkatan skor nya karena sudah memilik skor akurat yang tinggi."
   ]
  },
  {
   "cell_type": "code",
   "execution_count": null,
   "metadata": {},
   "outputs": [
    {
     "data": {
      "text/plain": [
       "{'objective': 'binary:logistic',\n",
       " 'use_label_encoder': False,\n",
       " 'base_score': None,\n",
       " 'booster': None,\n",
       " 'callbacks': None,\n",
       " 'colsample_bylevel': None,\n",
       " 'colsample_bynode': None,\n",
       " 'colsample_bytree': None,\n",
       " 'early_stopping_rounds': None,\n",
       " 'enable_categorical': False,\n",
       " 'eval_metric': None,\n",
       " 'gamma': None,\n",
       " 'gpu_id': None,\n",
       " 'grow_policy': None,\n",
       " 'importance_type': None,\n",
       " 'interaction_constraints': None,\n",
       " 'learning_rate': None,\n",
       " 'max_bin': None,\n",
       " 'max_cat_to_onehot': None,\n",
       " 'max_delta_step': None,\n",
       " 'max_depth': None,\n",
       " 'max_leaves': None,\n",
       " 'min_child_weight': None,\n",
       " 'missing': nan,\n",
       " 'monotone_constraints': None,\n",
       " 'n_estimators': 100,\n",
       " 'n_jobs': None,\n",
       " 'num_parallel_tree': None,\n",
       " 'predictor': None,\n",
       " 'random_state': None,\n",
       " 'reg_alpha': None,\n",
       " 'reg_lambda': None,\n",
       " 'sampling_method': None,\n",
       " 'scale_pos_weight': None,\n",
       " 'subsample': None,\n",
       " 'tree_method': None,\n",
       " 'validate_parameters': None,\n",
       " 'verbosity': None}"
      ]
     },
     "execution_count": 55,
     "metadata": {},
     "output_type": "execute_result"
    }
   ],
   "source": [
    "model_xgb.get_params()"
   ]
  },
  {
   "cell_type": "markdown",
   "metadata": {},
   "source": [
    "#### **Benchmarking Base Model**"
   ]
  },
  {
   "cell_type": "code",
   "execution_count": null,
   "metadata": {},
   "outputs": [
    {
     "data": {
      "text/html": [
       "<style>#sk-container-id-1 {color: black;background-color: white;}#sk-container-id-1 pre{padding: 0;}#sk-container-id-1 div.sk-toggleable {background-color: white;}#sk-container-id-1 label.sk-toggleable__label {cursor: pointer;display: block;width: 100%;margin-bottom: 0;padding: 0.3em;box-sizing: border-box;text-align: center;}#sk-container-id-1 label.sk-toggleable__label-arrow:before {content: \"▸\";float: left;margin-right: 0.25em;color: #696969;}#sk-container-id-1 label.sk-toggleable__label-arrow:hover:before {color: black;}#sk-container-id-1 div.sk-estimator:hover label.sk-toggleable__label-arrow:before {color: black;}#sk-container-id-1 div.sk-toggleable__content {max-height: 0;max-width: 0;overflow: hidden;text-align: left;background-color: #f0f8ff;}#sk-container-id-1 div.sk-toggleable__content pre {margin: 0.2em;color: black;border-radius: 0.25em;background-color: #f0f8ff;}#sk-container-id-1 input.sk-toggleable__control:checked~div.sk-toggleable__content {max-height: 200px;max-width: 100%;overflow: auto;}#sk-container-id-1 input.sk-toggleable__control:checked~label.sk-toggleable__label-arrow:before {content: \"▾\";}#sk-container-id-1 div.sk-estimator input.sk-toggleable__control:checked~label.sk-toggleable__label {background-color: #d4ebff;}#sk-container-id-1 div.sk-label input.sk-toggleable__control:checked~label.sk-toggleable__label {background-color: #d4ebff;}#sk-container-id-1 input.sk-hidden--visually {border: 0;clip: rect(1px 1px 1px 1px);clip: rect(1px, 1px, 1px, 1px);height: 1px;margin: -1px;overflow: hidden;padding: 0;position: absolute;width: 1px;}#sk-container-id-1 div.sk-estimator {font-family: monospace;background-color: #f0f8ff;border: 1px dotted black;border-radius: 0.25em;box-sizing: border-box;margin-bottom: 0.5em;}#sk-container-id-1 div.sk-estimator:hover {background-color: #d4ebff;}#sk-container-id-1 div.sk-parallel-item::after {content: \"\";width: 100%;border-bottom: 1px solid gray;flex-grow: 1;}#sk-container-id-1 div.sk-label:hover label.sk-toggleable__label {background-color: #d4ebff;}#sk-container-id-1 div.sk-serial::before {content: \"\";position: absolute;border-left: 1px solid gray;box-sizing: border-box;top: 0;bottom: 0;left: 50%;z-index: 0;}#sk-container-id-1 div.sk-serial {display: flex;flex-direction: column;align-items: center;background-color: white;padding-right: 0.2em;padding-left: 0.2em;position: relative;}#sk-container-id-1 div.sk-item {position: relative;z-index: 1;}#sk-container-id-1 div.sk-parallel {display: flex;align-items: stretch;justify-content: center;background-color: white;position: relative;}#sk-container-id-1 div.sk-item::before, #sk-container-id-1 div.sk-parallel-item::before {content: \"\";position: absolute;border-left: 1px solid gray;box-sizing: border-box;top: 0;bottom: 0;left: 50%;z-index: -1;}#sk-container-id-1 div.sk-parallel-item {display: flex;flex-direction: column;z-index: 1;position: relative;background-color: white;}#sk-container-id-1 div.sk-parallel-item:first-child::after {align-self: flex-end;width: 50%;}#sk-container-id-1 div.sk-parallel-item:last-child::after {align-self: flex-start;width: 50%;}#sk-container-id-1 div.sk-parallel-item:only-child::after {width: 0;}#sk-container-id-1 div.sk-dashed-wrapped {border: 1px dashed gray;margin: 0 0.4em 0.5em 0.4em;box-sizing: border-box;padding-bottom: 0.4em;background-color: white;}#sk-container-id-1 div.sk-label label {font-family: monospace;font-weight: bold;display: inline-block;line-height: 1.2em;}#sk-container-id-1 div.sk-label-container {text-align: center;}#sk-container-id-1 div.sk-container {/* jupyter's `normalize.less` sets `[hidden] { display: none; }` but bootstrap.min.css set `[hidden] { display: none !important; }` so we also need the `!important` here to be able to override the default hidden behavior on the sphinx rendered scikit-learn.org. See: https://github.com/scikit-learn/scikit-learn/issues/21755 */display: inline-block !important;position: relative;}#sk-container-id-1 div.sk-text-repr-fallback {display: none;}</style><div id=\"sk-container-id-1\" class=\"sk-top-container\"><div class=\"sk-text-repr-fallback\"><pre>Pipeline(steps=[(&#x27;Processor&#x27;,\n",
       "                 ColumnTransformer(remainder=&#x27;passthrough&#x27;,\n",
       "                                   transformers=[(&#x27;onehot&#x27;,\n",
       "                                                  OneHotEncoder(drop=&#x27;first&#x27;),\n",
       "                                                  [&#x27;used_pin_number&#x27;,\n",
       "                                                   &#x27;online_order&#x27;])])),\n",
       "                (&#x27;balancing&#x27;, SMOTE()),\n",
       "                (&#x27;Model_Machine_Learning&#x27;,\n",
       "                 XGBClassifier(base_score=0.5, booster=&#x27;gbtree&#x27;, callbacks=None,\n",
       "                               colsample_bylevel=1, colsample_bynode=1,\n",
       "                               colsample_bytree=1, early_stopping_rounds...\n",
       "                               gamma=0, gpu_id=-1, grow_policy=&#x27;depthwise&#x27;,\n",
       "                               importance_type=None, interaction_constraints=&#x27;&#x27;,\n",
       "                               learning_rate=0.300000012, max_bin=256,\n",
       "                               max_cat_to_onehot=4, max_delta_step=0,\n",
       "                               max_depth=6, max_leaves=0, min_child_weight=1,\n",
       "                               missing=nan, monotone_constraints=&#x27;()&#x27;,\n",
       "                               n_estimators=100, n_jobs=0, num_parallel_tree=1,\n",
       "                               predictor=&#x27;auto&#x27;, random_state=0, reg_alpha=0,\n",
       "                               reg_lambda=1, ...))])</pre><b>In a Jupyter environment, please rerun this cell to show the HTML representation or trust the notebook. <br />On GitHub, the HTML representation is unable to render, please try loading this page with nbviewer.org.</b></div><div class=\"sk-container\" hidden><div class=\"sk-item sk-dashed-wrapped\"><div class=\"sk-label-container\"><div class=\"sk-label sk-toggleable\"><input class=\"sk-toggleable__control sk-hidden--visually\" id=\"sk-estimator-id-1\" type=\"checkbox\" ><label for=\"sk-estimator-id-1\" class=\"sk-toggleable__label sk-toggleable__label-arrow\">Pipeline</label><div class=\"sk-toggleable__content\"><pre>Pipeline(steps=[(&#x27;Processor&#x27;,\n",
       "                 ColumnTransformer(remainder=&#x27;passthrough&#x27;,\n",
       "                                   transformers=[(&#x27;onehot&#x27;,\n",
       "                                                  OneHotEncoder(drop=&#x27;first&#x27;),\n",
       "                                                  [&#x27;used_pin_number&#x27;,\n",
       "                                                   &#x27;online_order&#x27;])])),\n",
       "                (&#x27;balancing&#x27;, SMOTE()),\n",
       "                (&#x27;Model_Machine_Learning&#x27;,\n",
       "                 XGBClassifier(base_score=0.5, booster=&#x27;gbtree&#x27;, callbacks=None,\n",
       "                               colsample_bylevel=1, colsample_bynode=1,\n",
       "                               colsample_bytree=1, early_stopping_rounds...\n",
       "                               gamma=0, gpu_id=-1, grow_policy=&#x27;depthwise&#x27;,\n",
       "                               importance_type=None, interaction_constraints=&#x27;&#x27;,\n",
       "                               learning_rate=0.300000012, max_bin=256,\n",
       "                               max_cat_to_onehot=4, max_delta_step=0,\n",
       "                               max_depth=6, max_leaves=0, min_child_weight=1,\n",
       "                               missing=nan, monotone_constraints=&#x27;()&#x27;,\n",
       "                               n_estimators=100, n_jobs=0, num_parallel_tree=1,\n",
       "                               predictor=&#x27;auto&#x27;, random_state=0, reg_alpha=0,\n",
       "                               reg_lambda=1, ...))])</pre></div></div></div><div class=\"sk-serial\"><div class=\"sk-item sk-dashed-wrapped\"><div class=\"sk-label-container\"><div class=\"sk-label sk-toggleable\"><input class=\"sk-toggleable__control sk-hidden--visually\" id=\"sk-estimator-id-2\" type=\"checkbox\" ><label for=\"sk-estimator-id-2\" class=\"sk-toggleable__label sk-toggleable__label-arrow\">Processor: ColumnTransformer</label><div class=\"sk-toggleable__content\"><pre>ColumnTransformer(remainder=&#x27;passthrough&#x27;,\n",
       "                  transformers=[(&#x27;onehot&#x27;, OneHotEncoder(drop=&#x27;first&#x27;),\n",
       "                                 [&#x27;used_pin_number&#x27;, &#x27;online_order&#x27;])])</pre></div></div></div><div class=\"sk-parallel\"><div class=\"sk-parallel-item\"><div class=\"sk-item\"><div class=\"sk-label-container\"><div class=\"sk-label sk-toggleable\"><input class=\"sk-toggleable__control sk-hidden--visually\" id=\"sk-estimator-id-3\" type=\"checkbox\" ><label for=\"sk-estimator-id-3\" class=\"sk-toggleable__label sk-toggleable__label-arrow\">onehot</label><div class=\"sk-toggleable__content\"><pre>[&#x27;used_pin_number&#x27;, &#x27;online_order&#x27;]</pre></div></div></div><div class=\"sk-serial\"><div class=\"sk-item\"><div class=\"sk-estimator sk-toggleable\"><input class=\"sk-toggleable__control sk-hidden--visually\" id=\"sk-estimator-id-4\" type=\"checkbox\" ><label for=\"sk-estimator-id-4\" class=\"sk-toggleable__label sk-toggleable__label-arrow\">OneHotEncoder</label><div class=\"sk-toggleable__content\"><pre>OneHotEncoder(drop=&#x27;first&#x27;)</pre></div></div></div></div></div></div><div class=\"sk-parallel-item\"><div class=\"sk-item\"><div class=\"sk-label-container\"><div class=\"sk-label sk-toggleable\"><input class=\"sk-toggleable__control sk-hidden--visually\" id=\"sk-estimator-id-5\" type=\"checkbox\" ><label for=\"sk-estimator-id-5\" class=\"sk-toggleable__label sk-toggleable__label-arrow\">remainder</label><div class=\"sk-toggleable__content\"><pre>[&#x27;distance_from_home&#x27;, &#x27;ratio_to_median_purchase_price&#x27;]</pre></div></div></div><div class=\"sk-serial\"><div class=\"sk-item\"><div class=\"sk-estimator sk-toggleable\"><input class=\"sk-toggleable__control sk-hidden--visually\" id=\"sk-estimator-id-6\" type=\"checkbox\" ><label for=\"sk-estimator-id-6\" class=\"sk-toggleable__label sk-toggleable__label-arrow\">passthrough</label><div class=\"sk-toggleable__content\"><pre>passthrough</pre></div></div></div></div></div></div></div></div><div class=\"sk-item\"><div class=\"sk-estimator sk-toggleable\"><input class=\"sk-toggleable__control sk-hidden--visually\" id=\"sk-estimator-id-7\" type=\"checkbox\" ><label for=\"sk-estimator-id-7\" class=\"sk-toggleable__label sk-toggleable__label-arrow\">SMOTE</label><div class=\"sk-toggleable__content\"><pre>SMOTE()</pre></div></div></div><div class=\"sk-item\"><div class=\"sk-estimator sk-toggleable\"><input class=\"sk-toggleable__control sk-hidden--visually\" id=\"sk-estimator-id-8\" type=\"checkbox\" ><label for=\"sk-estimator-id-8\" class=\"sk-toggleable__label sk-toggleable__label-arrow\">XGBClassifier</label><div class=\"sk-toggleable__content\"><pre>XGBClassifier(base_score=0.5, booster=&#x27;gbtree&#x27;, callbacks=None,\n",
       "              colsample_bylevel=1, colsample_bynode=1, colsample_bytree=1,\n",
       "              early_stopping_rounds=None, enable_categorical=False,\n",
       "              eval_metric=None, gamma=0, gpu_id=-1, grow_policy=&#x27;depthwise&#x27;,\n",
       "              importance_type=None, interaction_constraints=&#x27;&#x27;,\n",
       "              learning_rate=0.300000012, max_bin=256, max_cat_to_onehot=4,\n",
       "              max_delta_step=0, max_depth=6, max_leaves=0, min_child_weight=1,\n",
       "              missing=nan, monotone_constraints=&#x27;()&#x27;, n_estimators=100,\n",
       "              n_jobs=0, num_parallel_tree=1, predictor=&#x27;auto&#x27;, random_state=0,\n",
       "              reg_alpha=0, reg_lambda=1, ...)</pre></div></div></div></div></div></div></div>"
      ],
      "text/plain": [
       "Pipeline(steps=[('Processor',\n",
       "                 ColumnTransformer(remainder='passthrough',\n",
       "                                   transformers=[('onehot',\n",
       "                                                  OneHotEncoder(drop='first'),\n",
       "                                                  ['used_pin_number',\n",
       "                                                   'online_order'])])),\n",
       "                ('balancing', SMOTE()),\n",
       "                ('Model_Machine_Learning',\n",
       "                 XGBClassifier(base_score=0.5, booster='gbtree', callbacks=None,\n",
       "                               colsample_bylevel=1, colsample_bynode=1,\n",
       "                               colsample_bytree=1, early_stopping_rounds...\n",
       "                               gamma=0, gpu_id=-1, grow_policy='depthwise',\n",
       "                               importance_type=None, interaction_constraints='',\n",
       "                               learning_rate=0.300000012, max_bin=256,\n",
       "                               max_cat_to_onehot=4, max_delta_step=0,\n",
       "                               max_depth=6, max_leaves=0, min_child_weight=1,\n",
       "                               missing=nan, monotone_constraints='()',\n",
       "                               n_estimators=100, n_jobs=0, num_parallel_tree=1,\n",
       "                               predictor='auto', random_state=0, reg_alpha=0,\n",
       "                               reg_lambda=1, ...))])"
      ]
     },
     "execution_count": 56,
     "metadata": {},
     "output_type": "execute_result"
    }
   ],
   "source": [
    "estimator_xgb_os = Pipeline([\n",
    "        ('Processor',transformer),\n",
    "        ('balancing',SMOTE()),\n",
    "        ('Model_Machine_Learning',i)])\n",
    "\n",
    "estimator_xgb_os.fit(X_train, y_train)"
   ]
  },
  {
   "cell_type": "code",
   "execution_count": null,
   "metadata": {},
   "outputs": [],
   "source": [
    "y_pred_default = estimator_xgb_os.predict(X_test)\n",
    "report_default = classification_report(y_test, y_pred_default)"
   ]
  },
  {
   "cell_type": "code",
   "execution_count": null,
   "metadata": {},
   "outputs": [
    {
     "name": "stdout",
     "output_type": "stream",
     "text": [
      "Classification Report Default XGB : \n",
      "               precision    recall  f1-score   support\n",
      "\n",
      "         0.0       0.99      0.99      0.99    182519\n",
      "         1.0       0.89      0.94      0.91     17481\n",
      "\n",
      "    accuracy                           0.98    200000\n",
      "   macro avg       0.94      0.96      0.95    200000\n",
      "weighted avg       0.98      0.98      0.98    200000\n",
      "\n"
     ]
    }
   ],
   "source": [
    "print('Classification Report Default XGB : \\n', report_default)"
   ]
  },
  {
   "cell_type": "code",
   "execution_count": null,
   "metadata": {},
   "outputs": [
    {
     "name": "stdout",
     "output_type": "stream",
     "text": [
      "Confusion Matrix Base XGBoost with RandomOverSampling :\n"
     ]
    },
    {
     "data": {
      "text/html": [
       "<div>\n",
       "<style scoped>\n",
       "    .dataframe tbody tr th:only-of-type {\n",
       "        vertical-align: middle;\n",
       "    }\n",
       "\n",
       "    .dataframe tbody tr th {\n",
       "        vertical-align: top;\n",
       "    }\n",
       "\n",
       "    .dataframe thead th {\n",
       "        text-align: right;\n",
       "    }\n",
       "</style>\n",
       "<table border=\"1\" class=\"dataframe\">\n",
       "  <thead>\n",
       "    <tr style=\"text-align: right;\">\n",
       "      <th></th>\n",
       "      <th>Pred 1</th>\n",
       "      <th>Pred 0</th>\n",
       "    </tr>\n",
       "  </thead>\n",
       "  <tbody>\n",
       "    <tr>\n",
       "      <th>Act 1</th>\n",
       "      <td>16354</td>\n",
       "      <td>1127</td>\n",
       "    </tr>\n",
       "    <tr>\n",
       "      <th>Act 0</th>\n",
       "      <td>2084</td>\n",
       "      <td>180435</td>\n",
       "    </tr>\n",
       "  </tbody>\n",
       "</table>\n",
       "</div>"
      ],
      "text/plain": [
       "       Pred 1  Pred 0\n",
       "Act 1   16354    1127\n",
       "Act 0    2084  180435"
      ]
     },
     "execution_count": 59,
     "metadata": {},
     "output_type": "execute_result"
    }
   ],
   "source": [
    "print('Confusion Matrix Base XGBoost with RandomOverSampling :')\n",
    "cm_base_ts = confusion_matrix(y_test, y_pred_default, labels=[1,0])\n",
    "df_base_ts = pd.DataFrame(data = cm_base_ts, columns=['Pred 1', 'Pred 0'], index=['Act 1', 'Act 0'])\n",
    "df_base_ts"
   ]
  },
  {
   "cell_type": "code",
   "execution_count": null,
   "metadata": {},
   "outputs": [
    {
     "data": {
      "image/png": "[encoded data removed]",
      "text/plain": [
       "<Figure size 1440x360 with 1 Axes>"
      ]
     },
     "metadata": {
      "needs_background": "light"
     },
     "output_type": "display_data"
    }
   ],
   "source": [
    "coef1 = pd.Series(estimator_xgb_os['Model_Machine_Learning'].feature_importances_, transformer.get_feature_names()).sort_values(ascending = False)\n",
    "coef1.plot(kind='barh', figsize=(20,5),title='Feature Importances')\n",
    "plt.show()"
   ]
  },
  {
   "cell_type": "markdown",
   "metadata": {},
   "source": [
    "#### **Kesimpulan**"
   ]
  },
  {
   "cell_type": "markdown",
   "metadata": {},
   "source": [
    "1.\tTransaksi kecurangan terjadi sebanyak 8,7%, yang mana lokasi terbanyak terjadi berada kurang dari  27mil dari jarak rumah, hal ini terjadi pada transaksi pada toko yang pernah kostumer kunjungi untuk berbelanja secara online dan transaksi kecurangan pada kartu kredit ini terjadi pada kartu kredit yang tidak memiliki pin keamanan tambahan dan kartu kredit yang tidak menggunakan chip dan untuk kecurangan ini paling banyak pada harga kurang dari 20USD atau masuk dalam kategori transaksi dengan harga yang sedang.\n",
    "2.\tDari kasus ini hal yang paling memiliki pengaruh ada pada harga pembelian dengan total persentase pengaruh nya 5%.\n",
    "3.\tModel Machine Learning ini menggunakan algoritma XGBoost dan hasil dari prediksi machine learning ini mampu menebak transaksi yang teridentifikasi tidak melakukan kecurangan sebanyak 99%, dan transaksi yang dianggap memiliki resiko kecurangan sebanyak 89%, transaksi yang sama sekali tidak termasuk dalam kecurangan sebanyak 99% dan rata-rata keberhasilan menebak ada pada angka 94% keakuratannya serta model machine learning ini secara keseluruhan memiliki persentase keakuratan secara keseluruhan sebanyak 91%.\n"
   ]
  },
  {
   "cell_type": "markdown",
   "metadata": {},
   "source": [
    "#### **Saran**"
   ]
  },
  {
   "cell_type": "markdown",
   "metadata": {},
   "source": [
    "- Pihak perbankan dapat meningkatkan standar keamanan pada penggunaan kartu kredit terutama pada kartu kredit yang belum menggunakan kartu yang memiliki chip dan yang belum memiliki tambahan pin saat penggunaan kartu kredit.\n",
    "- Jika model machine learning ini di implementasikan maka tingkat keamanan untuk mendeteksi kecurangan penggunaan kartu kredit akan menurun namun pihak perbankan tetap harus memberikan notifikasi / konfirmasi tambahan kepada konsumen setiap transaksi yang dilakukan. Hal ini dilakukan untuk mengefisienkan penggunaan machine learning ketika melakukan pendeteksian kecurangan kartu kredit, Karena jika hal ini tidak di implementasikan jika transaksi yang dilakukan customer terutama untuk harga pembeliannya diatas rata-rata transaksi yang biasanya maka machine akan mendeteksi telah terjadi kecurangan dan customer akan mendapatkan notifikasi telah terjadi kecurangan. Sehingga untuk meng efisienkan dan meng efektifkan penggunaan nya perlu dilakukan kerja sama antara perbankan dengan customer seperti menambah fitur konfirmasi tambahan untuk setiap transaksi yang menyatakan bahwa transaksi tersebut dilakukan oleh customer dan konfirmasi ini dilakukan melalui aplikasi perbankan yang ada di mobil customer serta jika customer tidak melakukan transaksi maka perbankan tidak dapat meneruskan transaksi tersebut hal ini untuk menghindari dan mengecilkan transaksi yang curang pada kartu kredit customer."
   ]
  }
 ],
 "metadata": {
  "kernelspec": {
   "display_name": "Python 3.10.4 64-bit",
   "language": "python",
   "name": "python3"
  },
  "language_info": {
   "codemirror_mode": {
    "name": "ipython",
    "version": 3
   },
   "file_extension": ".py",
   "mimetype": "text/x-python",
   "name": "python",
   "nbconvert_exporter": "python",
   "pygments_lexer": "ipython3",
   "version": "3.10.4"
  },
  "orig_nbformat": 4,
  "vscode": {
   "interpreter": {
    "hash": "0d72b21489300652f2337cd7f80c57cc00ce6bbc92cf98d285c178d0a8ced433"
   }
  }
 },
 "nbformat": 4,
 "nbformat_minor": 2
}
